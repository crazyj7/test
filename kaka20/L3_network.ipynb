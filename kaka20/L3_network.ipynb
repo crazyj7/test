{
 "cells": [
  {
   "cell_type": "code",
   "execution_count": null,
   "metadata": {},
   "outputs": [],
   "source": []
  },
  {
   "cell_type": "code",
   "execution_count": 5,
   "metadata": {},
   "outputs": [],
   "source": [
    "import numpy as np"
   ]
  },
  {
   "cell_type": "code",
   "execution_count": 1,
   "metadata": {},
   "outputs": [],
   "source": [
    "# 그래프 그룹 개수"
   ]
  },
  {
   "cell_type": "code",
   "execution_count": 2,
   "metadata": {},
   "outputs": [],
   "source": [
    "computers = [[1, 1, 0], [1, 1, 0], [0, 0, 1]]\n",
    "n=3"
   ]
  },
  {
   "cell_type": "code",
   "execution_count": 50,
   "metadata": {},
   "outputs": [],
   "source": [
    "def find_item(mg, v):\n",
    "    for i, m in enumerate(mg):\n",
    "        if v in m:\n",
    "            return i\n",
    "    return -1 # not found\n",
    "\n",
    "            \n",
    "def solution(n, computers):\n",
    "    answer=0\n",
    "    com = np.asarray(computers)\n",
    "    print(com.shape)\n",
    "    \n",
    "    g = dict()\n",
    "    for i in range(n):\n",
    "        idx=np.argwhere(com[i]==1)\n",
    "        g[i] = set(idx.flatten())\n",
    "    print(g)\n",
    "    \n",
    "    # make groupping\n",
    "    mg = []\n",
    "    for k, v in g.items():\n",
    "        print('k,v=', k,v)\n",
    "        print('mg=', mg)\n",
    "        idx = find_item(mg, k)\n",
    "        if idx==-1:\n",
    "            print('new group')\n",
    "            # not found\n",
    "            mg.append(set({k}))\n",
    "            idx = len(mg)-1\n",
    "            print('idx=', idx, 'item=', k)\n",
    "        else:\n",
    "            print('found in idx=', idx, 'item=', k)\n",
    "\n",
    "        for i in v:\n",
    "            if k==i:\n",
    "                continue\n",
    "            idx2 = find_item(mg, i)\n",
    "            if idx2==-1:\n",
    "                print(mg, idx)\n",
    "                print('idx=', idx, i, mg[idx])\n",
    "                mg[idx].add(i)\n",
    "            else:\n",
    "                # group merge\n",
    "                if idx==idx2:\n",
    "                    continue\n",
    "                mg[idx] = mg[idx].union(mg[idx2])\n",
    "                print('del mg', 'idx2=', idx2, 'idx=', idx, 'merge mg=', mg[idx])\n",
    "                del mg[idx2]\n",
    "                if idx>idx2:\n",
    "                    idx-=1\n",
    "                    print('new idx=', idx)\n",
    "    print(mg)\n",
    "            \n",
    "        \n",
    "    \n",
    "    return answer"
   ]
  },
  {
   "cell_type": "code",
   "execution_count": 51,
   "metadata": {},
   "outputs": [
    {
     "name": "stdout",
     "output_type": "stream",
     "text": [
      "(3, 3)\n",
      "{0: {0, 1}, 1: {0, 1}, 2: {2}}\n",
      "k,v= 0 {0, 1}\n",
      "mg= []\n",
      "new group\n",
      "idx= 0 item= 0\n",
      "[{0}] 0\n",
      "idx= 0 1 {0}\n",
      "k,v= 1 {0, 1}\n",
      "mg= [{0, 1}]\n",
      "found in idx= 0 item= 1\n",
      "k,v= 2 {2}\n",
      "mg= [{0, 1}]\n",
      "new group\n",
      "idx= 1 item= 2\n",
      "[{0, 1}, {2}]\n"
     ]
    },
    {
     "data": {
      "text/plain": [
       "0"
      ]
     },
     "execution_count": 51,
     "metadata": {},
     "output_type": "execute_result"
    }
   ],
   "source": [
    "solution(n, computers)"
   ]
  },
  {
   "cell_type": "code",
   "execution_count": null,
   "metadata": {},
   "outputs": [],
   "source": []
  },
  {
   "cell_type": "code",
   "execution_count": null,
   "metadata": {},
   "outputs": [],
   "source": []
  },
  {
   "cell_type": "code",
   "execution_count": null,
   "metadata": {},
   "outputs": [],
   "source": []
  },
  {
   "cell_type": "code",
   "execution_count": 53,
   "metadata": {},
   "outputs": [],
   "source": [
    "import numpy as np\n",
    "\n",
    "def find_item(mg, v):\n",
    "    for i, m in enumerate(mg):\n",
    "        if v in m:\n",
    "            return i\n",
    "    return -1 # not found\n",
    "\n",
    "            \n",
    "def solution(n, computers):\n",
    "    answer=0\n",
    "    com = np.asarray(computers)\n",
    "    print(com.shape)\n",
    "    \n",
    "    g = dict()\n",
    "    for i in range(n):\n",
    "        idx=np.argwhere(com[i]==1)\n",
    "        g[i] = set(idx.flatten())\n",
    "    print(g)\n",
    "    \n",
    "    # make groupping\n",
    "    mg = []\n",
    "    for k, v in g.items():\n",
    "        print('k,v=', k,v)\n",
    "        print('mg=', mg)\n",
    "        idx = find_item(mg, k)\n",
    "        if idx==-1:\n",
    "            print('new group')\n",
    "            # not found\n",
    "            mg.append(set({k}))\n",
    "            idx = len(mg)-1\n",
    "            print('idx=', idx, 'item=', k)\n",
    "        else:\n",
    "            print('found in idx=', idx, 'item=', k)\n",
    "\n",
    "        for i in v:\n",
    "            if k==i:\n",
    "                continue\n",
    "            idx2 = find_item(mg, i)\n",
    "            if idx2==-1:\n",
    "                print(mg, idx)\n",
    "                print('idx=', idx, i, mg[idx])\n",
    "                mg[idx].add(i)\n",
    "            else:\n",
    "                # group merge\n",
    "                if idx==idx2:\n",
    "                    continue\n",
    "                mg[idx] = mg[idx].union(mg[idx2])\n",
    "                print('del mg', 'idx2=', idx2, 'idx=', idx, 'merge mg=', mg[idx])\n",
    "                del mg[idx2]\n",
    "                if idx>idx2:\n",
    "                    idx-=1\n",
    "                    print('new idx=', idx)\n",
    "    print(mg)\n",
    "    answer = len(mg)    \n",
    "    return answer"
   ]
  },
  {
   "cell_type": "code",
   "execution_count": 54,
   "metadata": {},
   "outputs": [
    {
     "name": "stdout",
     "output_type": "stream",
     "text": [
      "(3, 3)\n",
      "{0: {0, 1}, 1: {0, 1}, 2: {2}}\n",
      "k,v= 0 {0, 1}\n",
      "mg= []\n",
      "new group\n",
      "idx= 0 item= 0\n",
      "[{0}] 0\n",
      "idx= 0 1 {0}\n",
      "k,v= 1 {0, 1}\n",
      "mg= [{0, 1}]\n",
      "found in idx= 0 item= 1\n",
      "k,v= 2 {2}\n",
      "mg= [{0, 1}]\n",
      "new group\n",
      "idx= 1 item= 2\n",
      "[{0, 1}, {2}]\n"
     ]
    },
    {
     "data": {
      "text/plain": [
       "2"
      ]
     },
     "execution_count": 54,
     "metadata": {},
     "output_type": "execute_result"
    }
   ],
   "source": [
    "computers = [[1, 1, 0], [1, 1, 0], [0, 0, 1]]\n",
    "n=3\n",
    "solution(n, computers)"
   ]
  },
  {
   "cell_type": "code",
   "execution_count": null,
   "metadata": {},
   "outputs": [],
   "source": []
  },
  {
   "cell_type": "code",
   "execution_count": null,
   "metadata": {},
   "outputs": [],
   "source": []
  }
 ],
 "metadata": {
  "kernelspec": {
   "display_name": "py37",
   "language": "python",
   "name": "py37"
  },
  "language_info": {
   "codemirror_mode": {
    "name": "ipython",
    "version": 3
   },
   "file_extension": ".py",
   "mimetype": "text/x-python",
   "name": "python",
   "nbconvert_exporter": "python",
   "pygments_lexer": "ipython3",
   "version": "3.7.3"
  }
 },
 "nbformat": 4,
 "nbformat_minor": 2
}
