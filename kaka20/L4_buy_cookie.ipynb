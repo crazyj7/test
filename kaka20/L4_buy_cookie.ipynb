{
 "cells": [
  {
   "cell_type": "code",
   "execution_count": null,
   "metadata": {},
   "outputs": [],
   "source": []
  },
  {
   "cell_type": "code",
   "execution_count": 12,
   "metadata": {},
   "outputs": [
    {
     "name": "stdout",
     "output_type": "stream",
     "text": [
      "aaa\n",
      "bbb\n",
      "ccc\n",
      "ddd\n"
     ]
    }
   ],
   "source": [
    "def getnames(*names):\n",
    "\tfor name in names:\n",
    "\t\tprint(name)\n",
    "getnames('aaa','bbb','ccc','ddd')"
   ]
  },
  {
   "cell_type": "code",
   "execution_count": 13,
   "metadata": {},
   "outputs": [
    {
     "name": "stdout",
     "output_type": "stream",
     "text": [
      "a aaa\n",
      "b bbb\n",
      "c ccc\n"
     ]
    }
   ],
   "source": [
    "def getnames(**names):\n",
    "\tfor k,v in names.items():\n",
    "\t\tprint(k,v)\n",
    "getnames(a='aaa',b='bbb',c='ccc')"
   ]
  },
  {
   "cell_type": "code",
   "execution_count": 15,
   "metadata": {},
   "outputs": [],
   "source": [
    "def dprint(*args, **kwargs):\n",
    "    print( \"DEBUG:\"+\" \".join(map(str,args)), **kwargs)\n",
    "\n",
    "dprint('aaa','bbb',100, end='$')\n",
    "dprint('cc','dd',100)\n",
    "dprint('ee','ff',100)"
   ]
  },
  {
   "cell_type": "code",
   "execution_count": 1,
   "metadata": {},
   "outputs": [
    {
     "name": "stdout",
     "output_type": "stream",
     "text": [
      "5 5 140703758128064 140703758128064 True\n",
      "5 6 140703758128064 140703758128096 False\n"
     ]
    }
   ],
   "source": [
    "global a\n",
    "a=5\n",
    "def func(b):\n",
    "\tprint(a,b, id(a), id(b), a is b )\n",
    "\tb+=1\n",
    "\tprint(a,b, id(a), id(b), a is b )\n",
    "func(a)\n"
   ]
  },
  {
   "cell_type": "code",
   "execution_count": 2,
   "metadata": {},
   "outputs": [
    {
     "name": "stdout",
     "output_type": "stream",
     "text": [
      "[1, 2] [1, 2] 1810082375496 1810082375496 True\n",
      "[1, 2, 3] [1, 2, 3] 1810082375496 1810082375496 True\n",
      "[1, 2, 3] [5] 1810082375496 1810082374856 False\n"
     ]
    }
   ],
   "source": [
    "global a\n",
    "a=[1,2]\n",
    "def func(b):\n",
    "    print(a,b, id(a), id(b), a is b )\n",
    "    b+=[3]\n",
    "    print(a,b, id(a), id(b), a is b )\n",
    "    b=[5]\n",
    "    print(a,b, id(a), id(b), a is b )\n",
    "func(a)"
   ]
  },
  {
   "cell_type": "code",
   "execution_count": 3,
   "metadata": {},
   "outputs": [
    {
     "ename": "IndentationError",
     "evalue": "unexpected indent (<ipython-input-3-5829400e6735>, line 6)",
     "output_type": "error",
     "traceback": [
      "\u001b[1;36m  File \u001b[1;32m\"<ipython-input-3-5829400e6735>\"\u001b[1;36m, line \u001b[1;32m6\u001b[0m\n\u001b[1;33m    print(cookie[start:end])\u001b[0m\n\u001b[1;37m    ^\u001b[0m\n\u001b[1;31mIndentationError\u001b[0m\u001b[1;31m:\u001b[0m unexpected indent\n"
     ]
    }
   ],
   "source": [
    "import numpy as np\n",
    "\n",
    "def checkpart(cookie):\n",
    "    del1=False\n",
    "    dellast = 0\n",
    "        print(cookie[start:end])\n",
    "        # 이 set를 나눌 수 있는가?\n",
    "        for k in range(1, end-start):\n",
    "            print( cookie[start:start+k], cookie[start+k:end])\n",
    "            s1 = sum(cookie[start:start+k])\n",
    "            s2 = sum(cookie[start+k:end])\n",
    "            if s1==s2:\n",
    "                print(\"can split!\")\n",
    "                print( cookie[start:start+k], cookie[start+k:end])\n",
    "#                 bfound=True\n",
    "                break\n",
    "        if bfound:\n",
    "            break\n",
    "    "
   ]
  },
  {
   "cell_type": "code",
   "execution_count": 39,
   "metadata": {},
   "outputs": [],
   "source": [
    "import numpy as np\n",
    "\n",
    "idebug=1\n",
    "def dprint(*args, **kwargs):\n",
    "    if idebug>0 :\n",
    "        print( \"DEBUG:\"+\" \".join(map(str,args)), **kwargs)\n",
    "        \n",
    "def solution(cookie):\n",
    "    answer = 0\n",
    "    bfound=False\n",
    "    n = len(cookie)\n",
    "    rcookie = cookie[:]\n",
    "    rcookie.sort(reverse=True)\n",
    "    rcookie = np.asarray(rcookie)\n",
    "    racc = np.cumsum(rcookie)\n",
    "    \n",
    "    cookie=np.asarray(cookie)\n",
    "    acc = np.cumsum(cookie)\n",
    "    dprint('acc=', acc)\n",
    "    maxhalfsum = acc[-1]//2\n",
    "    maxelement = max(cookie)\n",
    "    \n",
    "    # 가장 많이 나눠주려면? \n",
    "    # 전체가 나눠지는지 본다. 범위를 좁혀가면서 나눔이 되는지 범위를 좁히는 순서는? \n",
    "    start=0\n",
    "    end=n  # end는 포함하지 않음. 끝 다음 인덱스.\n",
    "    \n",
    "    for blocklen in range(n, 1, -1):\n",
    "        dprint(blocklen)\n",
    "        start=0\n",
    "        end=start+blocklen\n",
    "        if racc[blocklen-1] < answer*2:\n",
    "            dprint('low blocklen')\n",
    "            break\n",
    "        \n",
    "        # 윈도우 크기로 이동한다.\n",
    "        while end<=n:\n",
    "#             mysum = sum(cookie[start:end])\n",
    "            # 윈도우 sum 과정을 아래로 변경\n",
    "            if start==0:\n",
    "                prevsum=0\n",
    "            else:\n",
    "                prevsum=acc[start-1]\n",
    "            cursum = acc[end-1]\n",
    "            mysum = cursum-prevsum # 윈도우 sum\n",
    "#             dprint(cookie[start:end], start, end, sum(cookie[start:end]), cursum-prevsum)\n",
    "            dprint(cookie[start:end], start, end, 'sum=',cursum-prevsum)\n",
    "            halfsum = mysum//2 # 윈도우 sum의 절반\n",
    "        \n",
    "            # 최대값을 구하는 것이 목적. 작은 것은 볼 필요없음.\n",
    "            if halfsum>answer:\n",
    "                # 반으로 나눠야하기 때문에 합이 짝수여야 한다.\n",
    "                if mysum%2==0:\n",
    "                    for isplit in range(1, blocklen):\n",
    "#                         midsum = sum(cookie[start:start+isplit]) # 아래로 변경.\n",
    "                        if start==0:\n",
    "                            prevsum=0\n",
    "                        else:\n",
    "                            prevsum=acc[start-1]\n",
    "                        cursum = acc[start+isplit-1]\n",
    "                        midsum = cursum-prevsum  # 윈도우내의 앞그룹의 합.\n",
    "                        \n",
    "                        # 중간 합계가 반을 넘어가면 중단\n",
    "                        if midsum>halfsum:\n",
    "                            dprint('halfsum over skip')\n",
    "                            break\n",
    "                        if midsum==halfsum:\n",
    "                            dprint('found!!!!!!!!', cookie[start:start+isplit], 'halfsum=', halfsum)\n",
    "                            if answer<halfsum:\n",
    "                                answer = halfsum\n",
    "                else:\n",
    "                    dprint('odd skip.')\n",
    "                    pass\n",
    "            else:\n",
    "                dprint('low skip.')\n",
    "                pass\n",
    "                \n",
    "            start+=1\n",
    "            end = start+blocklen\n",
    "    return answer"
   ]
  },
  {
   "cell_type": "code",
   "execution_count": 40,
   "metadata": {},
   "outputs": [
    {
     "name": "stdout",
     "output_type": "stream",
     "text": [
      "DEBUG:acc= [ 1  3  7 12 18 24]\n",
      "DEBUG:[ 6 12 17 21 23 24]\n",
      "DEBUG:6\n",
      "DEBUG:[1 2 4 5 6 6] 0 6 sum= 24\n",
      "DEBUG:found!!!!!!!! [1 2 4 5] halfsum= 12\n",
      "DEBUG:halfsum over skip\n",
      "DEBUG:5\n",
      "DEBUG:low blocklen\n"
     ]
    },
    {
     "data": {
      "text/plain": [
       "12"
      ]
     },
     "execution_count": 40,
     "metadata": {},
     "output_type": "execute_result"
    }
   ],
   "source": [
    "solution([1,2,4,5,6,6])"
   ]
  },
  {
   "cell_type": "code",
   "execution_count": null,
   "metadata": {},
   "outputs": [],
   "source": []
  },
  {
   "cell_type": "code",
   "execution_count": null,
   "metadata": {},
   "outputs": [],
   "source": []
  },
  {
   "cell_type": "code",
   "execution_count": null,
   "metadata": {},
   "outputs": [],
   "source": []
  },
  {
   "cell_type": "code",
   "execution_count": null,
   "metadata": {},
   "outputs": [],
   "source": []
  }
 ],
 "metadata": {
  "kernelspec": {
   "display_name": "py37",
   "language": "python",
   "name": "py37"
  },
  "language_info": {
   "codemirror_mode": {
    "name": "ipython",
    "version": 3
   },
   "file_extension": ".py",
   "mimetype": "text/x-python",
   "name": "python",
   "nbconvert_exporter": "python",
   "pygments_lexer": "ipython3",
   "version": "3.7.3"
  }
 },
 "nbformat": 4,
 "nbformat_minor": 2
}
