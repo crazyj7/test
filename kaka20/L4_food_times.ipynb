{
 "cells": [
  {
   "cell_type": "code",
   "execution_count": null,
   "metadata": {},
   "outputs": [],
   "source": []
  },
  {
   "cell_type": "code",
   "execution_count": 71,
   "metadata": {},
   "outputs": [],
   "source": [
    "import numpy as np\n",
    "\n",
    "def solution(food_times, k):\n",
    "    n = len(food_times)\n",
    "    i=0 # 인덱스용\n",
    "    j=0 # 시간\n",
    "    \n",
    "    food_times = np.asarray(food_times)\n",
    "    food_index = list(range(1, n+1))\n",
    "    \n",
    "    # 아래 조건을 빠뜨려서 런타임 에러가 났음.\n",
    "    if np.sum(food_times)<=k:\n",
    "        return -1\n",
    "    \n",
    "    while k>0:\n",
    "        n = len(food_times)\n",
    "        if n==0:\n",
    "            break\n",
    "        min_idx = np.argmin(food_times)\n",
    "        min_food = food_times[min_idx]\n",
    "        \n",
    "        v = k//n  # 5초//3개 = 1\n",
    "        if v==0:\n",
    "            break\n",
    "        \n",
    "        if v>min_food:\n",
    "            v=min_food\n",
    "        \n",
    "        elap=v*n\n",
    "        k-=elap\n",
    "        food_times = food_times - v\n",
    "        \n",
    "        zerocolumns=[]\n",
    "        for z in range(n):\n",
    "            if food_times[z]==0:\n",
    "                zerocolumns.append(z)\n",
    "        if len(zerocolumns)>0:\n",
    "            zerocolumns.reverse()\n",
    "            for z in zerocolumns:\n",
    "                food_times = np.delete(food_times, z)\n",
    "                del food_index[z]\n",
    "        else:\n",
    "            print('no zero?? ')\n",
    "#         print(food_times)\n",
    "#         print(food_index)\n",
    "    print('remain k=', k)\n",
    "    print(food_times)\n",
    "    print(food_index)\n",
    "    if n==0:\n",
    "        return -1\n",
    "    \n",
    "    answer = food_index[k]\n",
    "    print(answer)\n",
    "    return answer"
   ]
  },
  {
   "cell_type": "code",
   "execution_count": 73,
   "metadata": {},
   "outputs": [
    {
     "name": "stdout",
     "output_type": "stream",
     "text": [
      "no zero?? \n",
      "remain k= 1\n",
      "[18 61]\n",
      "[6, 8]\n",
      "8\n"
     ]
    },
    {
     "data": {
      "text/plain": [
       "8"
      ]
     },
     "execution_count": 73,
     "metadata": {},
     "output_type": "execute_result"
    }
   ],
   "source": [
    "k=155\n",
    "food_times=[13,10,8,21,15,44,10,87,25]\n",
    "solution(food_times,k)"
   ]
  },
  {
   "cell_type": "code",
   "execution_count": null,
   "metadata": {},
   "outputs": [],
   "source": []
  },
  {
   "cell_type": "code",
   "execution_count": null,
   "metadata": {},
   "outputs": [],
   "source": []
  },
  {
   "cell_type": "code",
   "execution_count": null,
   "metadata": {},
   "outputs": [],
   "source": []
  },
  {
   "cell_type": "code",
   "execution_count": 152,
   "metadata": {},
   "outputs": [],
   "source": [
    "import numpy as np\n",
    "\n",
    "def solution(food_times, k):\n",
    "    n = len(food_times)\n",
    "    food_times = np.asarray(food_times)\n",
    "#     if np.sum(food_times)<=k:\n",
    "#         return -1\n",
    "    \n",
    "    # 정렬을 해서 앞에서 부터 떨어지게 만든다.\n",
    "    print(food_times)\n",
    "    food_index = np.argsort(food_times)\n",
    "    food_index += 1\n",
    "    food_times=np.sort(food_times)\n",
    "    print('indxe=', food_index)\n",
    "    print(food_times)\n",
    "    \n",
    "    startidx=0 # 스캔시작 위치\n",
    "    remaincnt=n  # 남은 음식종류 수\n",
    "    \n",
    "    # 미리 최대한 계산하여 한 번에 뺀다.\n",
    "    elap=0\n",
    "    v=0\n",
    "    for i in range(n):\n",
    "        if food_times[i]==0:\n",
    "            continue\n",
    "        startidx=i\n",
    "        tmp = food_times[i]*(n-i)\n",
    "        # chck avail?\n",
    "        if tmp>=k:\n",
    "            break\n",
    "        k-=tmp\n",
    "        food_times[i:] = food_times[i:] - food_times[i]\n",
    "    print('# preprocess')\n",
    "    print('k=', k, 'startidx=', startidx)\n",
    "    print('food_times=', food_times)\n",
    "    \n",
    "    \n",
    "    # 남은 것은 순차적으로 처리\n",
    "    print('# process')\n",
    "    loopcnt=0\n",
    "    while k>0:\n",
    "        loopcnt+=1\n",
    "        print('debug: loop=', loopcnt)\n",
    "        remaincnt = n-startidx\n",
    "        if remaincnt==0:\n",
    "            break\n",
    "#         min_idx = np.argmin(food_times)\n",
    "#         min_food = food_times[min_idx]\n",
    "        min_food = food_times[startidx]\n",
    "        v = k//remaincnt  # 5초//3개 = 1\n",
    "        if v==0:\n",
    "            break\n",
    "        if v>min_food:\n",
    "            v=min_food\n",
    "        elap=v*remaincnt\n",
    "        k-=elap\n",
    "        food_times[startidx:] = food_times[startidx:] - v\n",
    "        zerocnt=0\n",
    "        for i in range(startidx,n):\n",
    "            if food_times[i]==0:\n",
    "                zerocnt+=1\n",
    "            else:\n",
    "                break\n",
    "        startidx+=zerocnt  \n",
    "            \n",
    "#         print(food_times, 'startidx=', startidx, 'k=',k, 'elap=', elap, 'v=', v, 'rn=', remaincnt)\n",
    "#     print('remain k=', k)\n",
    "#     print(food_times)\n",
    "#     print(food_index)\n",
    "    if remaincnt==0:\n",
    "        return -1\n",
    "    oo = np.sort(food_index[startidx:])\n",
    "    answer = oo[k]\n",
    "    return answer"
   ]
  },
  {
   "cell_type": "code",
   "execution_count": 153,
   "metadata": {},
   "outputs": [
    {
     "name": "stdout",
     "output_type": "stream",
     "text": [
      "[3 1 2]\n",
      "indxe= [2 3 1]\n",
      "[1 2 3]\n",
      "# preprocess\n",
      "k= 2 startidx= 1\n",
      "food_times= [0 1 2]\n",
      "# process\n",
      "debug: loop= 1\n"
     ]
    },
    {
     "data": {
      "text/plain": [
       "1"
      ]
     },
     "execution_count": 153,
     "metadata": {},
     "output_type": "execute_result"
    }
   ],
   "source": [
    "k=5\n",
    "food_times=[3,1,2]\n",
    "solution(food_times,k)"
   ]
  },
  {
   "cell_type": "code",
   "execution_count": 154,
   "metadata": {},
   "outputs": [
    {
     "name": "stdout",
     "output_type": "stream",
     "text": [
      "[13 10  8 21 15 44 10 87 25]\n",
      "indxe= [3 2 7 1 5 4 9 6 8]\n",
      "[ 8 10 10 13 15 21 25 44 87]\n",
      "# preprocess\n",
      "k= 55 startidx= 0\n",
      "food_times= [ 8 10 10 13 15 21 25 44 87]\n",
      "# process\n",
      "debug: loop= 1\n",
      "debug: loop= 2\n"
     ]
    },
    {
     "data": {
      "text/plain": [
       "2"
      ]
     },
     "execution_count": 154,
     "metadata": {},
     "output_type": "execute_result"
    }
   ],
   "source": [
    "k=55\n",
    "food_times=[13,10,8,21,15,44,10,87,25]\n",
    "solution(food_times,k)"
   ]
  },
  {
   "cell_type": "code",
   "execution_count": 155,
   "metadata": {},
   "outputs": [
    {
     "name": "stdout",
     "output_type": "stream",
     "text": [
      "[ 113  110  108  121 5115  108  110  187   25    3]\n",
      "indxe= [10  9  3  6  2  7  1  4  8  5]\n",
      "[   3   25  108  108  110  110  113  121  187 5115]\n",
      "# preprocess\n",
      "k= 3928 startidx= 9\n",
      "food_times= [   0    0    0    0    0    0    0    0    0 4928]\n",
      "# process\n",
      "debug: loop= 1\n"
     ]
    },
    {
     "data": {
      "text/plain": [
       "5"
      ]
     },
     "execution_count": 155,
     "metadata": {},
     "output_type": "execute_result"
    }
   ],
   "source": [
    "k=5000\n",
    "food_times=[113,110,108,121,5115,108,110,187,25, 3]\n",
    "solution(food_times,k)"
   ]
  },
  {
   "cell_type": "code",
   "execution_count": 156,
   "metadata": {},
   "outputs": [],
   "source": [
    "# 마지막에 인덱스값을 확인하는 과정에서 정렬이 되었다는 것을 고려하여\n",
    "# 순서를 복원해야 함.\n",
    "# 마지막의 order는 [1, 5, 4, 9, 8] 번호로 나와있는데. 이것은 크기로 정렬된 순서.\n",
    "# 원래의 순서로 변경해야... 1, 4, 5, 8, 9 순번이 맞는것이다. 이것을 순서대로 k indexing."
   ]
  },
  {
   "cell_type": "code",
   "execution_count": 157,
   "metadata": {},
   "outputs": [
    {
     "data": {
      "text/plain": [
       "6000"
      ]
     },
     "execution_count": 157,
     "metadata": {},
     "output_type": "execute_result"
    }
   ],
   "source": [
    "np.sum(food_times)"
   ]
  },
  {
   "cell_type": "code",
   "execution_count": null,
   "metadata": {},
   "outputs": [],
   "source": []
  },
  {
   "cell_type": "code",
   "execution_count": 172,
   "metadata": {},
   "outputs": [],
   "source": [
    "import numpy as np\n",
    "\n",
    "def solution(food_times, k):\n",
    "    n = len(food_times)\n",
    "    food_times = np.asarray(food_times)\n",
    "    if np.sum(food_times)<=k:\n",
    "        return -1\n",
    "    \n",
    "    # 정렬을 해서 앞에서 부터 떨어지게 만든다.\n",
    "    print(food_times)\n",
    "    food_index = np.argsort(food_times)\n",
    "    food_index += 1\n",
    "    food_times=np.sort(food_times)\n",
    "    print('indxe=', food_index)\n",
    "    print(food_times)\n",
    "    \n",
    "    startidx=0 # 스캔시작 위치\n",
    "    remaincnt=n  # 남은 음식종류 수\n",
    "    \n",
    "    # 미리 최대한 계산하여 한 번에 뺀다.\n",
    "    elap=0\n",
    "    v=0\n",
    "    removeidx = -1\n",
    "    for i in range(n):\n",
    "        tmp = (food_times[i]-v)*(n-i)\n",
    "        # chck avail?\n",
    "        if elap+tmp>=k:\n",
    "            break\n",
    "        elap+=tmp\n",
    "        v = food_times[i]\n",
    "        removeidx = i\n",
    "    \n",
    "    food_times = food_times - v\n",
    "    k -= elap\n",
    "    print('# preprocess')\n",
    "    print('k=', k, 'startidx=', startidx)\n",
    "    print('food_times=', food_times)\n",
    "    \n",
    "    # 크기를 줄인다.\n",
    "    startidx = removeidx+1\n",
    "    food_times = food_times[startidx:]\n",
    "    food_index = food_index[startidx:]\n",
    "    startidx=0\n",
    "    n = len(food_times)\n",
    "    remaincnt=n\n",
    "    print('food_times=', food_times)\n",
    "    \n",
    "    # 남은 것은 순차적으로 처리\n",
    "    print('# process')\n",
    "    loopcnt=0\n",
    "    while k>0:\n",
    "        loopcnt+=1\n",
    "        print('debug: loop=', loopcnt)\n",
    "        remaincnt = n-startidx\n",
    "        if remaincnt==0:\n",
    "            break\n",
    "        min_food = food_times[startidx]\n",
    "        v = k//remaincnt  # 5초//3개 = 1\n",
    "        if v==0:\n",
    "            break\n",
    "        if v>min_food:\n",
    "            v=min_food\n",
    "        elap=v*remaincnt\n",
    "        k-=elap\n",
    "        food_times = food_times - v\n",
    "        zerocnt=0\n",
    "        for i in range(startidx,n):\n",
    "            if food_times[i]==0:\n",
    "                zerocnt+=1\n",
    "            else:\n",
    "                break\n",
    "        startidx+=zerocnt  \n",
    "            \n",
    "#         print(food_times, 'startidx=', startidx, 'k=',k, 'elap=', elap, 'v=', v, 'rn=', remaincnt)\n",
    "#     print('remain k=', k)\n",
    "#     print(food_times)\n",
    "#     print(food_index)\n",
    "    if remaincnt==0:\n",
    "        return -1\n",
    "    oo = np.sort(food_index[startidx:])\n",
    "    answer = oo[k]\n",
    "    return answer"
   ]
  },
  {
   "cell_type": "code",
   "execution_count": 173,
   "metadata": {},
   "outputs": [
    {
     "name": "stdout",
     "output_type": "stream",
     "text": [
      "[ 113  110  108  121 5115  108  110  187   25    3]\n",
      "indxe= [10  9  3  6  2  7  1  4  8  5]\n",
      "[   3   25  108  108  110  110  113  121  187 5115]\n",
      "# preprocess\n",
      "k= 3928 startidx= 0\n",
      "food_times= [-184 -162  -79  -79  -77  -77  -74  -66    0 4928]\n",
      "food_times= [4928]\n",
      "# process\n",
      "debug: loop= 1\n"
     ]
    },
    {
     "data": {
      "text/plain": [
       "5"
      ]
     },
     "execution_count": 173,
     "metadata": {},
     "output_type": "execute_result"
    }
   ],
   "source": [
    "k=5000\n",
    "food_times=[113,110,108,121,5115,108,110,187,25, 3]\n",
    "solution(food_times,k)"
   ]
  },
  {
   "cell_type": "code",
   "execution_count": null,
   "metadata": {},
   "outputs": [],
   "source": []
  },
  {
   "cell_type": "code",
   "execution_count": null,
   "metadata": {},
   "outputs": [],
   "source": []
  },
  {
   "cell_type": "code",
   "execution_count": null,
   "metadata": {},
   "outputs": [],
   "source": []
  }
 ],
 "metadata": {
  "kernelspec": {
   "display_name": "py37",
   "language": "python",
   "name": "py37"
  },
  "language_info": {
   "codemirror_mode": {
    "name": "ipython",
    "version": 3
   },
   "file_extension": ".py",
   "mimetype": "text/x-python",
   "name": "python",
   "nbconvert_exporter": "python",
   "pygments_lexer": "ipython3",
   "version": "3.7.3"
  }
 },
 "nbformat": 4,
 "nbformat_minor": 2
}
