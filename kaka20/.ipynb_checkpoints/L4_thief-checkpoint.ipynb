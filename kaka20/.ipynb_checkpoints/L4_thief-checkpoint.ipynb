{
 "cells": [
  {
   "cell_type": "code",
   "execution_count": null,
   "metadata": {},
   "outputs": [],
   "source": []
  },
  {
   "cell_type": "code",
   "execution_count": 8,
   "metadata": {},
   "outputs": [],
   "source": []
  },
  {
   "cell_type": "code",
   "execution_count": null,
   "metadata": {},
   "outputs": [],
   "source": []
  },
  {
   "cell_type": "code",
   "execution_count": null,
   "metadata": {},
   "outputs": [],
   "source": []
  },
  {
   "cell_type": "code",
   "execution_count": 31,
   "metadata": {},
   "outputs": [],
   "source": [
    "# startindex = 0/1/2\n",
    "def steal(money, target, oldtarget, total, startindex):\n",
    "    if target>=len(money)-1:\n",
    "        # 마지막값이면? \n",
    "        if target==len(money)-1 and (startindex==1 or startindex==2):\n",
    "            total += money[target]\n",
    "        if target==len(money) and startindex==2:\n",
    "            total += money[0]\n",
    "        # 마지막 전 위치에서, +2, +3으로 오면, 0, 1 인덱스가 된다. \n",
    "        # 마지막 위치에서 +2, +3으로 오면, 1, 2 인덱스가 된다. \n",
    "        print('total=', total)\n",
    "        return \n",
    "    print('path=', target)\n",
    "    \n",
    "    total += money[target]\n",
    "    steal(money, target+2, target, total, zerostart)       \n",
    "    steal(money, target+3, target, total, zerostart)     \n",
    "    "
   ]
  },
  {
   "cell_type": "code",
   "execution_count": 32,
   "metadata": {},
   "outputs": [
    {
     "name": "stdout",
     "output_type": "stream",
     "text": [
      "path= 0\n",
      "path= 2\n",
      "total= 4\n",
      "total= 4\n",
      "path= 3\n",
      "total= 2\n",
      "total= 2\n"
     ]
    }
   ],
   "source": [
    "money = [1, 2, 3, 1, 4] #\t4\n",
    "zerostart=0\n",
    "steal(money, 0, 0, 0, zerostart)"
   ]
  },
  {
   "cell_type": "code",
   "execution_count": 33,
   "metadata": {},
   "outputs": [
    {
     "name": "stdout",
     "output_type": "stream",
     "text": [
      "path= 1\n",
      "path= 3\n",
      "total= 3\n",
      "total= 3\n",
      "total= 6\n"
     ]
    }
   ],
   "source": [
    "money = [1, 2, 3, 1, 4] #\t4\n",
    "zerostart=1\n",
    "steal(money, 1, 0, 0, zerostart)"
   ]
  },
  {
   "cell_type": "code",
   "execution_count": 34,
   "metadata": {},
   "outputs": [
    {
     "name": "stdout",
     "output_type": "stream",
     "text": [
      "path= 2\n",
      "total= 7\n",
      "total= 4\n"
     ]
    }
   ],
   "source": [
    "money = [1, 2, 3, 1, 4] #\t4\n",
    "zerostart=2\n",
    "steal(money, 2, 0, 0, zerostart)"
   ]
  },
  {
   "cell_type": "code",
   "execution_count": null,
   "metadata": {},
   "outputs": [],
   "source": []
  },
  {
   "cell_type": "code",
   "execution_count": null,
   "metadata": {},
   "outputs": [],
   "source": []
  },
  {
   "cell_type": "code",
   "execution_count": 69,
   "metadata": {},
   "outputs": [],
   "source": [
    "import numpy as np\n",
    "import copy\n",
    "\n",
    "# node count = n\n",
    "# current idx = c\n",
    "####\n",
    "# 0,\n",
    "gmax = 0\n",
    "gmoney=np.asarray([])\n",
    "def make_path(path, c, n):\n",
    "    global gmoney, gmax\n",
    "\n",
    "    if c==n and (0 not in path) :\n",
    "        if 1 not in path:\n",
    "            path.add(0)\n",
    "    if c>=n:\n",
    "        print(c,n)\n",
    "        print(path)\n",
    "        m = np.sum(gmoney[np.asarray(list(path))])\n",
    "        print(m)\n",
    "        if gmax<m:\n",
    "            gmax=m\n",
    "        return\n",
    "        \n",
    "    # 마지막 노드는 환형큐 구조상 next가 존재하는지 검사.\n",
    "    if c==n-1 and (0 in path):\n",
    "        print(c,n)\n",
    "        print(path)\n",
    "        m = np.sum(gmoney[np.asarray(list(path))])\n",
    "        print(m)\n",
    "        if gmax<m:\n",
    "            gmax=m\n",
    "        return\n",
    "    path.add(c)\n",
    "    \n",
    "    make_path(copy.copy(path), c+2, n)\n",
    "    if c+2<n:\n",
    "        make_path(copy.copy(path), c+3, n)    \n",
    "    \n",
    "\n",
    "def solution(money):\n",
    "    global gmoney, gmax\n",
    "    \n",
    "    answer = 0\n",
    "    gmax=0\n",
    "    \n",
    "    gmoney = np.asarray(money)\n",
    "    node = list(range(len(money)))\n",
    "    make_path(set(), 0, len(money))\n",
    "    \n",
    "    answer = gmax\n",
    "    print(answer)\n",
    "    \n",
    "    return answer"
   ]
  },
  {
   "cell_type": "code",
   "execution_count": 73,
   "metadata": {},
   "outputs": [
    {
     "name": "stdout",
     "output_type": "stream",
     "text": [
      "4 4\n",
      "{0, 2}\n",
      "4\n",
      "3 4\n",
      "{0}\n",
      "1\n",
      "4\n"
     ]
    },
    {
     "data": {
      "text/plain": [
       "4"
      ]
     },
     "execution_count": 73,
     "metadata": {},
     "output_type": "execute_result"
    }
   ],
   "source": [
    "money = [1, 2, 3, 1] #\t4\n",
    "solution(money)\n"
   ]
  },
  {
   "cell_type": "code",
   "execution_count": null,
   "metadata": {},
   "outputs": [],
   "source": []
  },
  {
   "cell_type": "code",
   "execution_count": 89,
   "metadata": {},
   "outputs": [],
   "source": [
    "import numpy as np\n",
    "def solution(money):\n",
    "    answer = 0\n",
    "    money = np.asarray(money)\n",
    "    order = np.argsort(-money)\n",
    "    print(money)\n",
    "    print(order)\n",
    "    n = len(money)\n",
    "    \n",
    "    cand = []\n",
    "    pathset = set()\n",
    "    for o in order:\n",
    "        if  (o-1)%n in pathset or (o+1)%n in pathset:\n",
    "                continue\n",
    "        pathset.add(o)\n",
    "    print(pathset)\n",
    "    answer = np.sum(money[list(pathset)])\n",
    "    cand.append(answer)\n",
    "    print(answer)\n",
    "\n",
    "    pathset=set()\n",
    "    for o in order[1:]:\n",
    "        if  (o-1)%n in pathset or (o+1)%n in pathset:\n",
    "                continue\n",
    "        pathset.add(o)\n",
    "    print(pathset)\n",
    "    answer = np.sum(money[list(pathset)])\n",
    "    cand.append(answer)\n",
    "    print(answer)\n",
    "\n",
    "    pathset=set()\n",
    "    for o in order[2:]:\n",
    "        if  (o-1)%n in pathset or (o+1)%n in pathset:\n",
    "                continue\n",
    "        pathset.add(o)\n",
    "    print(pathset)\n",
    "    answer = np.sum(money[list(pathset)])\n",
    "    cand.append(answer)\n",
    "    print(answer)\n",
    "    \n",
    "    answer = max(cand)\n",
    "\n",
    "    return answer"
   ]
  },
  {
   "cell_type": "code",
   "execution_count": 90,
   "metadata": {},
   "outputs": [
    {
     "name": "stdout",
     "output_type": "stream",
     "text": [
      "[1 2 3 1]\n",
      "[2 1 0 3]\n",
      "{0, 2}\n",
      "4\n",
      "{1, 3}\n",
      "3\n",
      "{0}\n",
      "1\n"
     ]
    },
    {
     "data": {
      "text/plain": [
       "4"
      ]
     },
     "execution_count": 90,
     "metadata": {},
     "output_type": "execute_result"
    }
   ],
   "source": [
    "money = [1, 2, 3, 1] #\t4\n",
    "solution(money)\n"
   ]
  },
  {
   "cell_type": "code",
   "execution_count": null,
   "metadata": {},
   "outputs": [],
   "source": []
  },
  {
   "cell_type": "code",
   "execution_count": null,
   "metadata": {},
   "outputs": [],
   "source": []
  },
  {
   "cell_type": "code",
   "execution_count": null,
   "metadata": {},
   "outputs": [],
   "source": []
  },
  {
   "cell_type": "code",
   "execution_count": null,
   "metadata": {},
   "outputs": [],
   "source": []
  }
 ],
 "metadata": {
  "kernelspec": {
   "display_name": "py37",
   "language": "python",
   "name": "py37"
  },
  "language_info": {
   "codemirror_mode": {
    "name": "ipython",
    "version": 3
   },
   "file_extension": ".py",
   "mimetype": "text/x-python",
   "name": "python",
   "nbconvert_exporter": "python",
   "pygments_lexer": "ipython3",
   "version": "3.7.3"
  }
 },
 "nbformat": 4,
 "nbformat_minor": 2
}
