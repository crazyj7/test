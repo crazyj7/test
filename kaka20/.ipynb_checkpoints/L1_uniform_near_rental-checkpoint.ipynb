{
 "cells": [
  {
   "cell_type": "code",
   "execution_count": null,
   "metadata": {},
   "outputs": [],
   "source": []
  },
  {
   "cell_type": "code",
   "execution_count": 1,
   "metadata": {},
   "outputs": [],
   "source": [
    "# 한 칸 옆으로만 대여가 가능.\n",
    "# 여분은 한 개 밖에 없다. 좌나 우 둘 중 하나만 줄 수 있다.\n",
    "# 연달아 전달은 안됨."
   ]
  },
  {
   "cell_type": "code",
   "execution_count": null,
   "metadata": {},
   "outputs": [],
   "source": [
    "# 5\t[2, 4]\t[1, 3, 5]\t5\n",
    "# 5명이 있고, 옷없는 사람이 2,4번. 여분있는 사람은 1,3,5번.\n",
    "# 1->2, 3->4. 하면 5명 모두 가능."
   ]
  },
  {
   "cell_type": "code",
   "execution_count": null,
   "metadata": {},
   "outputs": [],
   "source": [
    "# 추가고려사항\n",
    "# 1 2 3 4 5  [3,5] [2,4]\n",
    "# 3번이 부족하다. 좌측에서 빌릴수 있는지 확인?\n",
    "# 빌릴수 있으면 빌린다. \n",
    "# 못빌렸음 우측에서 빌릴수 있는지 확인하여 빌린다.\n",
    "# 이렇게만 하면 되나?\n",
    "# 왼쪽에서 못빌리고 우측으로 빌렸을 때 우측은 빌려줄수 있었는데\n",
    "# 우측이 우측으로 빌려줘서 없다???\n",
    "# 1 2 3 4 5  [2,4] [3,5]\n",
    "# 이 경우 4가 3에게 빌린다. 2는 3에게 빌릴수 있었는데, 못 빌린 상태가 된다.\n",
    "# 4는 3이 아니라 5에게 빌리는게 맞다. 그래야 2가 3에게 빌릴 수 있게 된다.\n",
    "# 즉,교차 연속된 케이스의 경우는 순서가 존재한다. \n",
    "# 2,3,4,5 연속에서 좌측이 여분이면 좌측부터 빌리고, 여분이 우측이면 우측부터 빌린다.\n",
    "# 교차가 아니면\n",
    "# 1 2 3 4 5 [1,2] [3,4]\n",
    "# 빌리기 포기 케이스 ; 1은 좌우가 없음.\n",
    "# 안되는얘들 제거한다. 1제거, 4제거 (빌려주기 포기.)"
   ]
  },
  {
   "cell_type": "code",
   "execution_count": 15,
   "metadata": {},
   "outputs": [],
   "source": [
    "def solution(n, lost, reserve):\n",
    "    lost = set(lost)\n",
    "    reserve = set(reserve)\n",
    "    answer = 0\n",
    "    fail = {}\n",
    "    fail2 = {}\n",
    "    # 넌 못 빌려\n",
    "    for x in lost:\n",
    "        if x-1 not in reserve and x+1 not in reserve:\n",
    "            fail.append(x)\n",
    "            \n",
    "    # 넌 못 빌려줘.\n",
    "    for y in reserve:\n",
    "        if y-1 not in lost and y+1 not in lost:\n",
    "            fail2.append(y)\n",
    "            \n",
    "    # 빌려주기 가능한 범위  \n",
    "    print('fail=', fail)\n",
    "    print('fail2=', fail2)\n",
    "    lost = lost.difference(fail)\n",
    "    reserve = reserve.difference(fail2)\n",
    "    print(lost)\n",
    "    print(reserve)\n",
    "    \n",
    "    #양쪽에서 빌릴수있는 케이스면 어느쪽이 더 효율적일지 상대배려...\n",
    "    \n",
    "    \n",
    "    return answer"
   ]
  },
  {
   "cell_type": "code",
   "execution_count": 16,
   "metadata": {},
   "outputs": [
    {
     "name": "stdout",
     "output_type": "stream",
     "text": [
      "fail= {}\n",
      "fail2= {}\n",
      "{2, 4}\n",
      "{1, 3, 5}\n"
     ]
    },
    {
     "data": {
      "text/plain": [
       "0"
      ]
     },
     "execution_count": 16,
     "metadata": {},
     "output_type": "execute_result"
    }
   ],
   "source": [
    "n = 5\n",
    "lost = [2,4]\n",
    "reserve=[1,3,5]\n",
    "solution(n, lost, reserve)"
   ]
  },
  {
   "cell_type": "code",
   "execution_count": null,
   "metadata": {},
   "outputs": [],
   "source": []
  }
 ],
 "metadata": {
  "kernelspec": {
   "display_name": "py37",
   "language": "python",
   "name": "py37"
  },
  "language_info": {
   "codemirror_mode": {
    "name": "ipython",
    "version": 3
   },
   "file_extension": ".py",
   "mimetype": "text/x-python",
   "name": "python",
   "nbconvert_exporter": "python",
   "pygments_lexer": "ipython3",
   "version": "3.7.3"
  }
 },
 "nbformat": 4,
 "nbformat_minor": 2
}
