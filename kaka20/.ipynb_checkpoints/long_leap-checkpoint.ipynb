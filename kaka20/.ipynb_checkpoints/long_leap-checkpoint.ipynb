{
 "cells": [
  {
   "cell_type": "code",
   "execution_count": null,
   "metadata": {},
   "outputs": [],
   "source": []
  },
  {
   "cell_type": "code",
   "execution_count": null,
   "metadata": {},
   "outputs": [],
   "source": []
  },
  {
   "cell_type": "code",
   "execution_count": 12,
   "metadata": {},
   "outputs": [],
   "source": [
    "\n",
    "'''\n",
    "4=\n",
    "2개짜리. \n",
    "(0) 2=0개, 1=4개; 1,1,1,1\n",
    "(1) 2=1개, 1=2개; 1,1,1,2 \n",
    "(2) 2=2개. 1=0개; 그룹 combination\n",
    "'''\n",
    "import math\n",
    "\n",
    "def facto(n, m):\n",
    "    ret=1\n",
    "    val=n\n",
    "    if m==0:\n",
    "        m=1\n",
    "    if n<m:\n",
    "        return 1\n",
    "    if n==m:\n",
    "        return n\n",
    "    while val!=m:\n",
    "        ret=ret*val\n",
    "        val-=1\n",
    "        if val<0:\n",
    "            break\n",
    "    ret=ret*m\n",
    "    return ret\n",
    "\n",
    "def solution(n):\n",
    "    answer = 0\n",
    "    # 2짜리를 하나씩 늘려나간다.\n",
    "    for i in range(n//2+1):\n",
    "        n2=i\n",
    "        n1=n-(n2*2)\n",
    "#         print( 'case= ', n1, n2 )\n",
    "        # 그룹 combination.\n",
    "        # 조합(순서상관없음). 빨간공 n1개, 검은공 n2개를 나열하는 경우의 수\n",
    "        # n1+n2 개를 \n",
    "        # (n1+n2)! / (n1)!(n2)!\n",
    "#         print(n1+n2, n1, n2)\n",
    "        if n1>n2:\n",
    "            cnt = facto(n1+n2, n1+1) / math.factorial(n2)\n",
    "        else:\n",
    "            cnt = facto(n1+n2, n2+1) / math.factorial(n1)\n",
    "        # cnt = math.factorial(n1+n2) / (math.factorial(n1)*math.factorial(n2))\n",
    "#         print(cnt)\n",
    "        answer += cnt\n",
    "    \n",
    "    return answer % 1234567\n",
    "\n",
    "\n",
    "\n"
   ]
  },
  {
   "cell_type": "code",
   "execution_count": 13,
   "metadata": {},
   "outputs": [
    {
     "name": "stdout",
     "output_type": "stream",
     "text": [
      "1.0\n",
      "2.0\n",
      "3.0\n",
      "5.0\n",
      "8.0\n",
      "13.0\n",
      "21.0\n",
      "34.0\n",
      "55.0\n"
     ]
    }
   ],
   "source": [
    "for i in range(1,10):\n",
    "    print(solution(i))"
   ]
  },
  {
   "cell_type": "code",
   "execution_count": 14,
   "metadata": {},
   "outputs": [],
   "source": [
    "# fibonacci\n"
   ]
  },
  {
   "cell_type": "code",
   "execution_count": null,
   "metadata": {},
   "outputs": [],
   "source": []
  },
  {
   "cell_type": "code",
   "execution_count": null,
   "metadata": {},
   "outputs": [],
   "source": []
  }
 ],
 "metadata": {
  "kernelspec": {
   "display_name": "py37",
   "language": "python",
   "name": "py37"
  },
  "language_info": {
   "codemirror_mode": {
    "name": "ipython",
    "version": 3
   },
   "file_extension": ".py",
   "mimetype": "text/x-python",
   "name": "python",
   "nbconvert_exporter": "python",
   "pygments_lexer": "ipython3",
   "version": "3.7.3"
  }
 },
 "nbformat": 4,
 "nbformat_minor": 2
}
