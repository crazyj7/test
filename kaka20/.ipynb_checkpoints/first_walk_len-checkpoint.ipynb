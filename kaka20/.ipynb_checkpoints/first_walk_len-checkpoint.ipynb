{
 "cells": [
  {
   "cell_type": "code",
   "execution_count": 10,
   "metadata": {},
   "outputs": [],
   "source": [
    "import numpy as np\n",
    "\n",
    "\n",
    "# pos=[y,x] numpy array index.\n",
    "def move(pos, cmd):\n",
    "    if cmd=='U':\n",
    "        pos[0]-=1\n",
    "    if cmd=='D':\n",
    "        pos[0]+=1\n",
    "    if cmd=='L':\n",
    "        pos[1]-=1\n",
    "    if cmd=='R':\n",
    "        pos[1]+=1\n",
    "    pos[0]=min(pos[0], 10)\n",
    "    pos[1]=min(pos[1], 10)\n",
    "    pos[0]=max(pos[0], 0)\n",
    "    pos[1]=max(pos[1], 0)\n",
    "    \n",
    "\n",
    "map1 = np.zeros((11,11))\n",
    "pos=[5,5]\n",
    "map1[pos[0], pos[1]]=1\n",
    "print(map1)\n",
    "\n",
    "cmd = 'LULLLLLLU'\n",
    "for x in cmd:\n",
    "    move(pos, x)\n",
    "    map1[pos[0], pos[1]]=1\n",
    "print(map1)\n",
    "answer=0\n",
    "# 거리 측정은???\n",
    "# 가로로 움직인 거리 + 세로로 움직인 거리. \n",
    "map2=np.roll(map1, 1) # right shfit\n",
    "map2[:,0]=0\n",
    "answer += np.sum(map1*map2)\n",
    "# 세로이동\n",
    "map3=np.roll(map1, 1, axis=0) # down shfit\n",
    "map3[0, :]=0\n",
    "answer += np.sum(map1*map3)\n",
    "\n",
    "print(answer)\n"
   ]
  },
  {
   "cell_type": "code",
   "execution_count": 37,
   "metadata": {},
   "outputs": [],
   "source": [
    "# 최종 그림으로 거리측정을 해봤는데.\n",
    "# 문제점이 있다. 점으로 뭉쳐서 네개가 찍히면 네모인지 디귿인지 모른다.  (가로,세로)"
   ]
  },
  {
   "cell_type": "code",
   "execution_count": 38,
   "metadata": {},
   "outputs": [],
   "source": [
    "# 움직이면서 비트맵 설정을 해야 한다."
   ]
  },
  {
   "cell_type": "code",
   "execution_count": 39,
   "metadata": {},
   "outputs": [
    {
     "name": "stdout",
     "output_type": "stream",
     "text": [
      "[[0. 0. 0. 0. 0. 0. 0. 0. 0. 0. 0.]\n",
      " [0. 0. 0. 0. 0. 0. 0. 0. 0. 0. 0.]\n",
      " [0. 0. 0. 0. 0. 0. 0. 0. 0. 0. 0.]\n",
      " [0. 0. 0. 0. 0. 0. 0. 0. 0. 0. 0.]\n",
      " [0. 0. 0. 0. 0. 0. 0. 0. 0. 0. 0.]\n",
      " [0. 0. 0. 0. 0. 1. 0. 0. 0. 0. 0.]\n",
      " [0. 0. 0. 0. 0. 0. 0. 0. 0. 0. 0.]\n",
      " [0. 0. 0. 0. 0. 0. 0. 0. 0. 0. 0.]\n",
      " [0. 0. 0. 0. 0. 0. 0. 0. 0. 0. 0.]\n",
      " [0. 0. 0. 0. 0. 0. 0. 0. 0. 0. 0.]\n",
      " [0. 0. 0. 0. 0. 0. 0. 0. 0. 0. 0.]]\n"
     ]
    }
   ],
   "source": [
    "map1 = np.zeros((11,11))\n",
    "pos=[5,5]\n",
    "map1[pos[0], pos[1]]=1\n",
    "print(map1)\n"
   ]
  },
  {
   "cell_type": "code",
   "execution_count": 40,
   "metadata": {},
   "outputs": [],
   "source": [
    "# 비트맵은 이제 점이 아닌 선으로."
   ]
  },
  {
   "cell_type": "code",
   "execution_count": 42,
   "metadata": {},
   "outputs": [],
   "source": [
    "import numpy as np\n",
    "\n",
    "\n",
    "# pos=[y,x] numpy array index.\n",
    "def move(pos, cmd):\n",
    "    if cmd=='U':\n",
    "        pos[0]-=1\n",
    "    if cmd=='D':\n",
    "        pos[0]+=1\n",
    "    if cmd=='L':\n",
    "        pos[1]-=1\n",
    "    if cmd=='R':\n",
    "        pos[1]+=1\n",
    "    pos[0]=min(pos[0], 10)\n",
    "    pos[1]=min(pos[1], 10)\n",
    "    pos[0]=max(pos[0], 0)\n",
    "    pos[1]=max(pos[1], 0)\n",
    "    \n",
    "\n",
    "def solution(dirs):\n",
    "    answer=0\n",
    "    map1 = np.zeros((11,11))\n",
    "    line = np.zeros((10,10))\n",
    "    pos=[5,5]\n",
    "    map1[pos[0], pos[1]]=1\n",
    "    for x in dirs:\n",
    "        move(pos, x)\n",
    "        map1[pos[0], pos[1]]=1\n",
    "    print(map1)\n",
    "    answer=0\n",
    "    # 거리 측정은???\n",
    "    # 가로로 움직인 거리 + 세로로 움직인 거리. \n",
    "    map2=np.roll(map1, 1) # right shfit\n",
    "    map2[:,0]=0\n",
    "    answer += np.sum(map1*map2)\n",
    "    # 세로이동\n",
    "    map3=np.roll(map1, 1, axis=0) # down shfit\n",
    "    map3[0, :]=0\n",
    "    answer += np.sum(map1*map3)\n",
    "\n",
    "    print(answer)\n",
    "    return answer\n",
    "\n",
    "# (from,to) 1단위 이동경로 좌표를 등록 하여 중복 제거.\n",
    "# 주의! (to,from)은 (from,to)와 동일한 값이다. 내부에서 오름차순 정렬. \n",
    "# 중복 방지를 위해 set\n"
   ]
  },
  {
   "cell_type": "code",
   "execution_count": 43,
   "metadata": {},
   "outputs": [
    {
     "name": "stdout",
     "output_type": "stream",
     "text": [
      "[[0. 0. 0. 0. 0. 0. 0. 0. 0. 0. 0.]\n",
      " [0. 0. 0. 0. 0. 0. 0. 0. 0. 0. 0.]\n",
      " [0. 0. 0. 0. 0. 0. 0. 0. 0. 0. 0.]\n",
      " [1. 0. 0. 0. 0. 0. 0. 0. 0. 0. 0.]\n",
      " [1. 1. 1. 1. 1. 0. 0. 0. 0. 0. 0.]\n",
      " [0. 0. 0. 0. 1. 1. 0. 0. 0. 0. 0.]\n",
      " [0. 0. 0. 0. 0. 0. 0. 0. 0. 0. 0.]\n",
      " [0. 0. 0. 0. 0. 0. 0. 0. 0. 0. 0.]\n",
      " [0. 0. 0. 0. 0. 0. 0. 0. 0. 0. 0.]\n",
      " [0. 0. 0. 0. 0. 0. 0. 0. 0. 0. 0.]\n",
      " [0. 0. 0. 0. 0. 0. 0. 0. 0. 0. 0.]]\n",
      "7.0\n"
     ]
    },
    {
     "data": {
      "text/plain": [
       "7.0"
      ]
     },
     "execution_count": 43,
     "metadata": {},
     "output_type": "execute_result"
    }
   ],
   "source": [
    "solution('LULLLLLLU')"
   ]
  },
  {
   "cell_type": "code",
   "execution_count": null,
   "metadata": {},
   "outputs": [],
   "source": []
  }
 ],
 "metadata": {
  "kernelspec": {
   "display_name": "py37",
   "language": "python",
   "name": "py37"
  },
  "language_info": {
   "codemirror_mode": {
    "name": "ipython",
    "version": 3
   },
   "file_extension": ".py",
   "mimetype": "text/x-python",
   "name": "python",
   "nbconvert_exporter": "python",
   "pygments_lexer": "ipython3",
   "version": "3.7.3"
  }
 },
 "nbformat": 4,
 "nbformat_minor": 2
}
