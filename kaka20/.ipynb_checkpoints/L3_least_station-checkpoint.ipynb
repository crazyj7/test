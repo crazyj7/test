{
 "cells": [
  {
   "cell_type": "code",
   "execution_count": null,
   "metadata": {},
   "outputs": [],
   "source": []
  },
  {
   "cell_type": "code",
   "execution_count": 1,
   "metadata": {},
   "outputs": [],
   "source": [
    "# n=아파트개수. 1부터 시작\n",
    "# stations = 기지국. \n",
    "# W = 전파 범위. \n"
   ]
  },
  {
   "cell_type": "code",
   "execution_count": null,
   "metadata": {},
   "outputs": [],
   "source": []
  },
  {
   "cell_type": "code",
   "execution_count": 4,
   "metadata": {},
   "outputs": [],
   "source": []
  },
  {
   "cell_type": "code",
   "execution_count": 7,
   "metadata": {},
   "outputs": [],
   "source": [
    "import math\n",
    "\n",
    "def solution(n, stations, w):\n",
    "    # 인덱스값으로 변경.\n",
    "    stations = [x-1 for x in stations]\n",
    "    print('0base stations=', stations)\n",
    "    answer = 0\n",
    "    needstart=0\n",
    "    rw = w*2+1 # 전파커버 레인지. 좌우칸+설치칸\n",
    "    for s in stations:\n",
    "        startidx, endidx = s-w, s+w\n",
    "        print('cover=', needstart, startidx-1)\n",
    "        if needstart<startidx:\n",
    "            answer += math.ceil( (startidx-needstart)/rw)\n",
    "        needstart = endidx+1\n",
    "    # last cover\n",
    "    if needstart<n:\n",
    "        print('cover=', needstart, n-1)\n",
    "        answer += math.ceil( (n-needstart)/rw)            \n",
    "    \n",
    "    return answer"
   ]
  },
  {
   "cell_type": "code",
   "execution_count": 8,
   "metadata": {},
   "outputs": [
    {
     "name": "stdout",
     "output_type": "stream",
     "text": [
      "0base stations= [3, 10]\n",
      "cover= 0 1\n",
      "cover= 5 8\n"
     ]
    },
    {
     "data": {
      "text/plain": [
       "3"
      ]
     },
     "execution_count": 8,
     "metadata": {},
     "output_type": "execute_result"
    }
   ],
   "source": [
    "n=11\n",
    "stations=[4,11]\n",
    "w=1\n",
    "\n",
    "solution(n, stations, w)\n"
   ]
  },
  {
   "cell_type": "code",
   "execution_count": null,
   "metadata": {},
   "outputs": [],
   "source": []
  },
  {
   "cell_type": "code",
   "execution_count": null,
   "metadata": {},
   "outputs": [],
   "source": []
  }
 ],
 "metadata": {
  "kernelspec": {
   "display_name": "py37",
   "language": "python",
   "name": "py37"
  },
  "language_info": {
   "codemirror_mode": {
    "name": "ipython",
    "version": 3
   },
   "file_extension": ".py",
   "mimetype": "text/x-python",
   "name": "python",
   "nbconvert_exporter": "python",
   "pygments_lexer": "ipython3",
   "version": "3.7.3"
  }
 },
 "nbformat": 4,
 "nbformat_minor": 2
}
