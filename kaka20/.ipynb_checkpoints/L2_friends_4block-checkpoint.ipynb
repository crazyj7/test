{
 "cells": [
  {
   "cell_type": "code",
   "execution_count": null,
   "metadata": {},
   "outputs": [],
   "source": []
  },
  {
   "cell_type": "code",
   "execution_count": null,
   "metadata": {},
   "outputs": [],
   "source": []
  },
  {
   "cell_type": "code",
   "execution_count": 10,
   "metadata": {},
   "outputs": [],
   "source": [
    "import numpy as np\n",
    "\n",
    "def solution(m, n, board):\n",
    "    answer = 0\n",
    "\n",
    "    while True:\n",
    "        # 2x2 window sliding\n",
    "        breakable=set()\n",
    "        for i in range(m-1):\n",
    "            for j in range(n-1):\n",
    "                # block.\n",
    "                if ()\n",
    "                crop = set([board[i][j], board[i][j+1], board[i+1][j], board[i+1][j+1]])\n",
    "                print(len(crop))\n",
    "                # 집합으로 하면 중복이 제거되므로 원소개수가 1이면 모두 같은 원소라는 의미\n",
    "                if len(crop)==1:\n",
    "                    # found\n",
    "                    breakable.add((i,j))\n",
    "                    breakable.add((i,j+1))\n",
    "                    breakable.add((i+1,j))\n",
    "                    breakable.add((i+1,j+1))\n",
    "        print(breakable)\n",
    "        answer+=len(breakable)\n",
    "        \n",
    "        # break down\n",
    "        for x,y in breakable:\n",
    "            board[x][y]='*'\n",
    "        \n",
    "        \n",
    "        if len(breakable)==0:\n",
    "            break\n",
    "    return answer\n"
   ]
  },
  {
   "cell_type": "code",
   "execution_count": 11,
   "metadata": {},
   "outputs": [
    {
     "name": "stdout",
     "output_type": "stream",
     "text": [
      "2\n",
      "3\n",
      "3\n",
      "3\n",
      "3\n",
      "1\n",
      "2\n",
      "3\n",
      "3\n",
      "1\n",
      "2\n",
      "1\n",
      "2\n",
      "4\n",
      "2\n",
      "2\n",
      "3\n",
      "2\n",
      "3\n",
      "3\n",
      "2\n",
      "2\n",
      "2\n",
      "2\n",
      "4\n",
      "{(3, 2), (2, 2), (3, 1), (1, 4), (2, 1), (2, 0), (1, 5), (2, 5), (2, 4), (1, 0), (1, 1)}\n"
     ]
    },
    {
     "data": {
      "text/plain": [
       "0"
      ]
     },
     "execution_count": 11,
     "metadata": {},
     "output_type": "execute_result"
    }
   ],
   "source": [
    "# m, n\n",
    "board=['TTTANT', 'RRFACC', 'RRRFCC', 'TRRRAA', 'TTMMMF', 'TMMTTJ']\n",
    "solution(6,6,board)\n"
   ]
  },
  {
   "cell_type": "code",
   "execution_count": 5,
   "metadata": {},
   "outputs": [
    {
     "data": {
      "text/plain": [
       "['a', 'a', 'a']"
      ]
     },
     "execution_count": 5,
     "metadata": {},
     "output_type": "execute_result"
    }
   ],
   "source": [
    "\n",
    "list('aaa')"
   ]
  },
  {
   "cell_type": "code",
   "execution_count": null,
   "metadata": {},
   "outputs": [],
   "source": []
  }
 ],
 "metadata": {
  "kernelspec": {
   "display_name": "py37",
   "language": "python",
   "name": "py37"
  },
  "language_info": {
   "codemirror_mode": {
    "name": "ipython",
    "version": 3
   },
   "file_extension": ".py",
   "mimetype": "text/x-python",
   "name": "python",
   "nbconvert_exporter": "python",
   "pygments_lexer": "ipython3",
   "version": "3.7.3"
  }
 },
 "nbformat": 4,
 "nbformat_minor": 2
}
