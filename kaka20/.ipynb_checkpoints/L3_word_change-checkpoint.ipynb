{
 "cells": [
  {
   "cell_type": "code",
   "execution_count": null,
   "metadata": {},
   "outputs": [],
   "source": []
  },
  {
   "cell_type": "code",
   "execution_count": null,
   "metadata": {},
   "outputs": [],
   "source": []
  },
  {
   "cell_type": "code",
   "execution_count": 2,
   "metadata": {},
   "outputs": [],
   "source": [
    "def checkmove(w1, w2):\n",
    "    cnt=0\n",
    "    for a,b in zip(w1, w2):\n",
    "        if a!=b:\n",
    "            cnt+=1\n",
    "        if cnt>=2:\n",
    "            return False\n",
    "    return True\n",
    "\n",
    "            \n",
    "def solution(begin, target, words):\n",
    "    answer = 0\n",
    "    \n",
    "    edges = []\n",
    "    words.append(begin)\n",
    "    for w in words:\n",
    "        for e in words:\n",
    "            if w==e:\n",
    "                continue\n",
    "            \n",
    "    \n",
    "    \n",
    "    return answer\n"
   ]
  },
  {
   "cell_type": "code",
   "execution_count": 3,
   "metadata": {},
   "outputs": [
    {
     "data": {
      "text/plain": [
       "0"
      ]
     },
     "execution_count": 3,
     "metadata": {},
     "output_type": "execute_result"
    }
   ],
   "source": [
    "\n",
    "begin = 'hit'\n",
    "target = 'cog'\n",
    "words=['hot', 'dot', 'dog', 'lot', 'log', 'cog']\n",
    "# answer = 4\n",
    "\n",
    "solution(begin, target, words)"
   ]
  },
  {
   "cell_type": "code",
   "execution_count": null,
   "metadata": {},
   "outputs": [],
   "source": []
  },
  {
   "cell_type": "code",
   "execution_count": null,
   "metadata": {},
   "outputs": [],
   "source": []
  }
 ],
 "metadata": {
  "kernelspec": {
   "display_name": "py37",
   "language": "python",
   "name": "py37"
  },
  "language_info": {
   "codemirror_mode": {
    "name": "ipython",
    "version": 3
   },
   "file_extension": ".py",
   "mimetype": "text/x-python",
   "name": "python",
   "nbconvert_exporter": "python",
   "pygments_lexer": "ipython3",
   "version": "3.7.3"
  }
 },
 "nbformat": 4,
 "nbformat_minor": 2
}
