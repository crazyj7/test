{
 "cells": [
  {
   "cell_type": "code",
   "execution_count": null,
   "metadata": {},
   "outputs": [],
   "source": []
  },
  {
   "cell_type": "code",
   "execution_count": null,
   "metadata": {},
   "outputs": [],
   "source": [
    "import numpy as np\n",
    "\n",
    "def checkpart(cookie):\n",
    "    del1=False\n",
    "    dellast = 0\n",
    "        print(cookie[start:end])\n",
    "        # 이 set를 나눌 수 있는가?\n",
    "        for k in range(1, end-start):\n",
    "            print( cookie[start:start+k], cookie[start+k:end])\n",
    "            s1 = sum(cookie[start:start+k])\n",
    "            s2 = sum(cookie[start+k:end])\n",
    "            if s1==s2:\n",
    "                print(\"can split!\")\n",
    "                print( cookie[start:start+k], cookie[start+k:end])\n",
    "#                 bfound=True\n",
    "                break\n",
    "        if bfound:\n",
    "            break\n",
    "    "
   ]
  },
  {
   "cell_type": "code",
   "execution_count": 63,
   "metadata": {},
   "outputs": [],
   "source": [
    "import numpy as np\n",
    "\n",
    "def solution(cookie):\n",
    "    answer = 0\n",
    "    bfound=False\n",
    "    n = len(cookie)\n",
    "    rcookie = cookie[:]\n",
    "    cookie=np.asarray(cookie)\n",
    "    acc = np.cumsum(cookie)\n",
    "    print('acc=', acc)\n",
    "    maxhalfsum = acc[-1]//2\n",
    "    \n",
    "    # 가장 많이 나눠주려면? \n",
    "    # 전체가 나눠지는지 본다. 범위를 좁혀가면서 나눔이 되는지 범위를 좁히는 순서는? \n",
    "    start=0\n",
    "    end=n  # end는 포함하지 않음. 끝 다음 인덱스.\n",
    "    \n",
    "    for blocklen in range(n, 1, -1):\n",
    "        print(blocklen)\n",
    "        start=0\n",
    "        end=start+blocklen\n",
    "        \n",
    "        # 윈도우 크기로 이동한다.\n",
    "        while end<=n:\n",
    "            if start==0:\n",
    "                prevsum=0\n",
    "            else:\n",
    "                prevsum=acc[start-1]\n",
    "            cursum = acc[end-1]\n",
    "            mysum = cursum-prevsum\n",
    "            print(cookie[start:end], start, end, sum(cookie[start:end]), cursum-prevsum)\n",
    "            # 반으로 나눠야하기 때문에 합이 짝수여야 한다.\n",
    "            if mysum%2==0:\n",
    "                halfsum = mysum//2\n",
    "                for isplit in range(1, blocklen):\n",
    "                    midsum = sum(cookie[start:start+isplit])\n",
    "                    if midsum>maxhalfsum:\n",
    "                        break\n",
    "                    if midsum==halfsum:\n",
    "                        print('found', cookie[start:start+isplit])\n",
    "                        if answer<halfsum:\n",
    "                            answer = halfsum\n",
    "            start+=1\n",
    "            end = start+blocklen\n",
    "    return answer"
   ]
  },
  {
   "cell_type": "code",
   "execution_count": 64,
   "metadata": {},
   "outputs": [
    {
     "name": "stdout",
     "output_type": "stream",
     "text": [
      "acc= [ 1  3  7 12 18 24]\n",
      "6\n",
      "[1 2 4 5 6 6] 0 6 24 24\n",
      "found [1 2 4 5]\n",
      "5\n",
      "[1 2 4 5 6] 0 5 18 18\n",
      "[2 4 5 6 6] 1 6 23 23\n",
      "4\n",
      "[1 2 4 5] 0 4 12 12\n",
      "[2 4 5 6] 1 5 17 17\n",
      "[4 5 6 6] 2 6 21 21\n",
      "3\n",
      "[1 2 4] 0 3 7 7\n",
      "[2 4 5] 1 4 11 11\n",
      "[4 5 6] 2 5 15 15\n",
      "[5 6 6] 3 6 17 17\n",
      "2\n",
      "[1 2] 0 2 3 3\n",
      "[2 4] 1 3 6 6\n",
      "[4 5] 2 4 9 9\n",
      "[5 6] 3 5 11 11\n",
      "[6 6] 4 6 12 12\n",
      "found [6]\n"
     ]
    },
    {
     "data": {
      "text/plain": [
       "12"
      ]
     },
     "execution_count": 64,
     "metadata": {},
     "output_type": "execute_result"
    }
   ],
   "source": [
    "solution([1,2,4,5,6,6])"
   ]
  },
  {
   "cell_type": "code",
   "execution_count": null,
   "metadata": {},
   "outputs": [],
   "source": []
  },
  {
   "cell_type": "code",
   "execution_count": null,
   "metadata": {},
   "outputs": [],
   "source": []
  },
  {
   "cell_type": "code",
   "execution_count": null,
   "metadata": {},
   "outputs": [],
   "source": []
  },
  {
   "cell_type": "code",
   "execution_count": null,
   "metadata": {},
   "outputs": [],
   "source": []
  }
 ],
 "metadata": {
  "kernelspec": {
   "display_name": "py37",
   "language": "python",
   "name": "py37"
  },
  "language_info": {
   "codemirror_mode": {
    "name": "ipython",
    "version": 3
   },
   "file_extension": ".py",
   "mimetype": "text/x-python",
   "name": "python",
   "nbconvert_exporter": "python",
   "pygments_lexer": "ipython3",
   "version": "3.7.3"
  }
 },
 "nbformat": 4,
 "nbformat_minor": 2
}
