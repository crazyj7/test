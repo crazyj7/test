{
 "cells": [
  {
   "cell_type": "code",
   "execution_count": null,
   "metadata": {},
   "outputs": [],
   "source": []
  },
  {
   "cell_type": "code",
   "execution_count": null,
   "metadata": {},
   "outputs": [],
   "source": [
    "\n",
    "def traverse_graph(graph, path, move):\n",
    "    if len(path)==0:\n",
    "        # start\n",
    "        path.append(1)\n",
    "        return travese_graph(graph, path, move)\n",
    "    now = path[len(path)-1] # last point\n",
    "    \n",
    "    # find link. and not duplicate.\n",
    "    # and can move.\n",
    "    link=[]\n",
    "    for g in graph:\n",
    "        if g[0]==now:\n",
    "            if g[1] not in path:\n",
    "                if g[2]<=move:\n",
    "                    # can go g[1]\n",
    "                    path2 = path[:]\n",
    "                    path2.append(g[1])\n",
    "                    traverse_graph(graph, path2, move-g[2])\n",
    "                else: # move over\n",
    "                    # stop\n",
    "                    print()\n",
    "                    #\n",
    "        elif g[1]==now:\n",
    "            if g[0] not in path:\n",
    "                if g[2]<=move:\n",
    "                    # can go g[0]\n",
    "                    path2 = path[:]\n",
    "                    path2.append(g[0])\n",
    "                    traverse_graph(graph, path2, move-g[2])\n",
    "                    #\n",
    "    \n",
    "    # avail path\n",
    "    \n",
    "    "
   ]
  },
  {
   "cell_type": "code",
   "execution_count": 1,
   "metadata": {},
   "outputs": [],
   "source": [
    "def solution(N, road, K):\n",
    "    answer = 0\n",
    "\n",
    "    # [실행] 버튼을 누르면 출력 값을 볼 수 있습니다.\n",
    "    print('Hello Python')\n",
    "\n",
    "    return answer"
   ]
  },
  {
   "cell_type": "code",
   "execution_count": 2,
   "metadata": {},
   "outputs": [
    {
     "name": "stdout",
     "output_type": "stream",
     "text": [
      "Hello Python\n"
     ]
    },
    {
     "data": {
      "text/plain": [
       "0"
      ]
     },
     "execution_count": 2,
     "metadata": {},
     "output_type": "execute_result"
    }
   ],
   "source": [
    "N=5\n",
    "road=[[1,2,1],[2,3,3],[5,2,2],[1,4,2],[5,3,1],[5,4,2]]\n",
    "K=3\n",
    "\n",
    "solution(N, road, K)"
   ]
  },
  {
   "cell_type": "code",
   "execution_count": null,
   "metadata": {},
   "outputs": [],
   "source": []
  }
 ],
 "metadata": {
  "kernelspec": {
   "display_name": "py37",
   "language": "python",
   "name": "py37"
  },
  "language_info": {
   "codemirror_mode": {
    "name": "ipython",
    "version": 3
   },
   "file_extension": ".py",
   "mimetype": "text/x-python",
   "name": "python",
   "nbconvert_exporter": "python",
   "pygments_lexer": "ipython3",
   "version": "3.7.3"
  }
 },
 "nbformat": 4,
 "nbformat_minor": 2
}
