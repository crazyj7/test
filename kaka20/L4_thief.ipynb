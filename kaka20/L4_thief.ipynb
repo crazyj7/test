{
 "cells": [
  {
   "cell_type": "code",
   "execution_count": null,
   "metadata": {},
   "outputs": [],
   "source": []
  },
  {
   "cell_type": "code",
   "execution_count": 8,
   "metadata": {},
   "outputs": [],
   "source": []
  },
  {
   "cell_type": "code",
   "execution_count": null,
   "metadata": {},
   "outputs": [],
   "source": []
  },
  {
   "cell_type": "code",
   "execution_count": null,
   "metadata": {},
   "outputs": [],
   "source": []
  },
  {
   "cell_type": "code",
   "execution_count": 41,
   "metadata": {},
   "outputs": [],
   "source": [
    "# startindex = 0/1/2\n",
    "gmax=0\n",
    "def steal(money, target, oldtarget, total, startindex):\n",
    "    global gmax\n",
    "    if target>=len(money)-1:\n",
    "        # 마지막값이면? \n",
    "        if target==len(money)-1 and (startindex==1 or startindex==2):\n",
    "            total += money[target]\n",
    "        if target==len(money) and startindex==2:\n",
    "            total += money[0]\n",
    "        # 마지막 전 위치에서, +2, +3으로 오면, 0, 1 인덱스가 된다. \n",
    "        # 마지막 위치에서 +2, +3으로 오면, 1, 2 인덱스가 된다. \n",
    "        print('total=', total)\n",
    "        if gmax<total:\n",
    "            gmax=total\n",
    "        return \n",
    "    print('path=', target)\n",
    "    \n",
    "    total += money[target]\n",
    "    steal(money, target+2, target, total, startindex)       \n",
    "    steal(money, target+3, target, total, startindex)     \n",
    "    \n",
    "\n",
    "def solution(money):\n",
    "    global gmax\n",
    "    gmax=0\n",
    "    answer = 0\n",
    "    \n",
    "    zerostart=0\n",
    "    steal(money, zerostart, 0, 0, zerostart)\n",
    "    zerostart=1\n",
    "    steal(money, zerostart, 0, 0, zerostart)\n",
    "    zerostart=2\n",
    "    steal(money, zerostart, 0, 0, zerostart)\n",
    "    \n",
    "    answer = gmax\n",
    "    print(answer)\n",
    "    \n",
    "    return answer"
   ]
  },
  {
   "cell_type": "code",
   "execution_count": 45,
   "metadata": {},
   "outputs": [
    {
     "name": "stdout",
     "output_type": "stream",
     "text": [
      "path= 0\n",
      "path= 2\n",
      "path= 4\n",
      "total= 8\n",
      "total= 8\n",
      "total= 4\n",
      "path= 3\n",
      "total= 4\n",
      "total= 4\n",
      "path= 1\n",
      "path= 3\n",
      "total= 9\n",
      "total= 6\n",
      "path= 4\n",
      "total= 7\n",
      "total= 7\n",
      "path= 2\n",
      "path= 4\n",
      "total= 8\n",
      "total= 7\n",
      "total= 6\n",
      "9\n"
     ]
    },
    {
     "data": {
      "text/plain": [
       "9"
      ]
     },
     "execution_count": 45,
     "metadata": {},
     "output_type": "execute_result"
    }
   ],
   "source": [
    "money = [1, 3, 3, 3, 4, 3] #\t4\n",
    "solution(money)"
   ]
  },
  {
   "cell_type": "code",
   "execution_count": 43,
   "metadata": {},
   "outputs": [
    {
     "name": "stdout",
     "output_type": "stream",
     "text": [
      "path= 0\n",
      "path= 2\n",
      "total= 4\n",
      "total= 4\n",
      "path= 3\n",
      "total= 2\n",
      "total= 2\n"
     ]
    }
   ],
   "source": [
    "money = [1, 2, 3, 1, 4] #\t4\n",
    "zerostart=0\n",
    "steal(money, 0, 0, 0, zerostart)"
   ]
  },
  {
   "cell_type": "code",
   "execution_count": 35,
   "metadata": {},
   "outputs": [
    {
     "name": "stdout",
     "output_type": "stream",
     "text": [
      "path= 1\n",
      "path= 3\n",
      "total= 3\n",
      "total= 3\n",
      "total= 6\n"
     ]
    }
   ],
   "source": [
    "money = [1, 2, 3, 1, 4] #\t4\n",
    "zerostart=1\n",
    "steal(money, 1, 0, 0, zerostart)"
   ]
  },
  {
   "cell_type": "code",
   "execution_count": 36,
   "metadata": {},
   "outputs": [
    {
     "name": "stdout",
     "output_type": "stream",
     "text": [
      "path= 2\n",
      "total= 7\n",
      "total= 4\n"
     ]
    }
   ],
   "source": [
    "money = [1, 2, 3, 1, 4] #\t4\n",
    "zerostart=2\n",
    "steal(money, 2, 0, 0, zerostart)"
   ]
  },
  {
   "cell_type": "code",
   "execution_count": null,
   "metadata": {},
   "outputs": [],
   "source": []
  },
  {
   "cell_type": "code",
   "execution_count": null,
   "metadata": {},
   "outputs": [],
   "source": []
  },
  {
   "cell_type": "code",
   "execution_count": 69,
   "metadata": {},
   "outputs": [],
   "source": [
    "import numpy as np\n",
    "import copy\n",
    "\n",
    "# node count = n\n",
    "# current idx = c\n",
    "####\n",
    "# 0,\n",
    "gmax = 0\n",
    "gmoney=np.asarray([])\n",
    "def make_path(path, c, n):\n",
    "    global gmoney, gmax\n",
    "\n",
    "    if c==n and (0 not in path) :\n",
    "        if 1 not in path:\n",
    "            path.add(0)\n",
    "    if c>=n:\n",
    "        print(c,n)\n",
    "        print(path)\n",
    "        m = np.sum(gmoney[np.asarray(list(path))])\n",
    "        print(m)\n",
    "        if gmax<m:\n",
    "            gmax=m\n",
    "        return\n",
    "        \n",
    "    # 마지막 노드는 환형큐 구조상 next가 존재하는지 검사.\n",
    "    if c==n-1 and (0 in path):\n",
    "        print(c,n)\n",
    "        print(path)\n",
    "        m = np.sum(gmoney[np.asarray(list(path))])\n",
    "        print(m)\n",
    "        if gmax<m:\n",
    "            gmax=m\n",
    "        return\n",
    "    path.add(c)\n",
    "    \n",
    "    make_path(copy.copy(path), c+2, n)\n",
    "    if c+2<n:\n",
    "        make_path(copy.copy(path), c+3, n)    \n",
    "    \n",
    "\n",
    "def solution(money):\n",
    "    global gmoney, gmax\n",
    "    \n",
    "    answer = 0\n",
    "    gmax=0\n",
    "    \n",
    "    gmoney = np.asarray(money)\n",
    "    node = list(range(len(money)))\n",
    "    make_path(set(), 0, len(money))\n",
    "    \n",
    "    answer = gmax\n",
    "    print(answer)\n",
    "    \n",
    "    return answer"
   ]
  },
  {
   "cell_type": "code",
   "execution_count": 73,
   "metadata": {},
   "outputs": [
    {
     "name": "stdout",
     "output_type": "stream",
     "text": [
      "4 4\n",
      "{0, 2}\n",
      "4\n",
      "3 4\n",
      "{0}\n",
      "1\n",
      "4\n"
     ]
    },
    {
     "data": {
      "text/plain": [
       "4"
      ]
     },
     "execution_count": 73,
     "metadata": {},
     "output_type": "execute_result"
    }
   ],
   "source": [
    "money = [1, 2, 3, 1] #\t4\n",
    "solution(money)\n"
   ]
  },
  {
   "cell_type": "code",
   "execution_count": null,
   "metadata": {},
   "outputs": [],
   "source": []
  },
  {
   "cell_type": "code",
   "execution_count": 89,
   "metadata": {},
   "outputs": [],
   "source": [
    "import numpy as np\n",
    "def solution(money):\n",
    "    answer = 0\n",
    "    money = np.asarray(money)\n",
    "    order = np.argsort(-money)\n",
    "    print(money)\n",
    "    print(order)\n",
    "    n = len(money)\n",
    "    \n",
    "    cand = []\n",
    "    pathset = set()\n",
    "    for o in order:\n",
    "        if  (o-1)%n in pathset or (o+1)%n in pathset:\n",
    "                continue\n",
    "        pathset.add(o)\n",
    "    print(pathset)\n",
    "    answer = np.sum(money[list(pathset)])\n",
    "    cand.append(answer)\n",
    "    print(answer)\n",
    "\n",
    "    pathset=set()\n",
    "    for o in order[1:]:\n",
    "        if  (o-1)%n in pathset or (o+1)%n in pathset:\n",
    "                continue\n",
    "        pathset.add(o)\n",
    "    print(pathset)\n",
    "    answer = np.sum(money[list(pathset)])\n",
    "    cand.append(answer)\n",
    "    print(answer)\n",
    "\n",
    "    pathset=set()\n",
    "    for o in order[2:]:\n",
    "        if  (o-1)%n in pathset or (o+1)%n in pathset:\n",
    "                continue\n",
    "        pathset.add(o)\n",
    "    print(pathset)\n",
    "    answer = np.sum(money[list(pathset)])\n",
    "    cand.append(answer)\n",
    "    print(answer)\n",
    "    \n",
    "    answer = max(cand)\n",
    "\n",
    "    return answer"
   ]
  },
  {
   "cell_type": "code",
   "execution_count": 90,
   "metadata": {},
   "outputs": [
    {
     "name": "stdout",
     "output_type": "stream",
     "text": [
      "[1 2 3 1]\n",
      "[2 1 0 3]\n",
      "{0, 2}\n",
      "4\n",
      "{1, 3}\n",
      "3\n",
      "{0}\n",
      "1\n"
     ]
    },
    {
     "data": {
      "text/plain": [
       "4"
      ]
     },
     "execution_count": 90,
     "metadata": {},
     "output_type": "execute_result"
    }
   ],
   "source": [
    "money = [1, 2, 3, 1] #\t4\n",
    "solution(money)\n"
   ]
  },
  {
   "cell_type": "code",
   "execution_count": null,
   "metadata": {},
   "outputs": [],
   "source": []
  },
  {
   "cell_type": "code",
   "execution_count": 79,
   "metadata": {},
   "outputs": [],
   "source": [
    "import numpy as np\n",
    "\n",
    "idebug=1\n",
    "def dprint(*args, **kwargs):\n",
    "    if idebug>0 :\n",
    "        print( \"DEBUG:\"+\" \".join(map(str,args)), **kwargs)\n",
    "        \n",
    "def solution(m1):\n",
    "    cnt=len(m1)\n",
    "    dprint(cnt)\n",
    "    \n",
    "    if cnt==3:\n",
    "        return max(m1)\n",
    "\n",
    "    # 합을 할 수 있는 엘리먼트의 순번은 한 칸을 건너거나 두 칸을 건너는 경우 밖에 없다. \n",
    "    # 인덱스 0, 1, 2 각각마다 계산.\n",
    "    # 각 엘리먼트는 앞에서 부터 그 엘리먼트까지 최대로 모을 수 있는 합을 의미한다.\n",
    "    # 따라서 누적 합은 index-2, index-3 까지의 누적 중 큰값에 현재값을 누적하면 된다. \n",
    "    start0 = [m1[0], m1[1], m1[0]+m1[2]]  # 이경우만 마지막 인덱스 누적이 불가능.\n",
    "    start1 = [0, m1[1], m1[2]]\n",
    "    start2 = [0, 0, m1[2]]\n",
    "    for i in range(3, cnt):\n",
    "        if i==cnt-1:\n",
    "            start0.append(0)\n",
    "        else:\n",
    "            start0.append( max(start0[-2], start0[-3])+m1[i] )\n",
    "        start1.append( max(start1[-2], start1[-3])+m1[i] )\n",
    "        start2.append( max(start2[-2], start2[-3])+m1[i] )\n",
    "    dprint(start0)\n",
    "    dprint(start1)\n",
    "    dprint(start2)\n",
    "    \n",
    "    answer = max(start0+start1+start2)\n",
    "    return answer\n",
    "    "
   ]
  },
  {
   "cell_type": "code",
   "execution_count": 80,
   "metadata": {},
   "outputs": [
    {
     "name": "stdout",
     "output_type": "stream",
     "text": [
      "DEBUG:9\n",
      "DEBUG:[3, 2, 7, 9, 11, 12, 13, 15, 0]\n",
      "DEBUG:[0, 2, 4, 8, 8, 11, 10, 14, 15]\n",
      "DEBUG:[0, 0, 4, 6, 8, 9, 10, 12, 14]\n",
      "15\n"
     ]
    }
   ],
   "source": [
    "money = [3, 2, 4, 6, 4, 3, 2, 3, 4] #\t4\n",
    "print(solution(money))"
   ]
  },
  {
   "cell_type": "code",
   "execution_count": null,
   "metadata": {},
   "outputs": [],
   "source": []
  },
  {
   "cell_type": "code",
   "execution_count": null,
   "metadata": {},
   "outputs": [],
   "source": []
  },
  {
   "cell_type": "code",
   "execution_count": null,
   "metadata": {},
   "outputs": [],
   "source": []
  }
 ],
 "metadata": {
  "kernelspec": {
   "display_name": "py37",
   "language": "python",
   "name": "py37"
  },
  "language_info": {
   "codemirror_mode": {
    "name": "ipython",
    "version": 3
   },
   "file_extension": ".py",
   "mimetype": "text/x-python",
   "name": "python",
   "nbconvert_exporter": "python",
   "pygments_lexer": "ipython3",
   "version": "3.7.3"
  }
 },
 "nbformat": 4,
 "nbformat_minor": 2
}
