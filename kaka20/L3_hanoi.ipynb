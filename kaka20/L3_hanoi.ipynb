{
 "cells": [
  {
   "cell_type": "code",
   "execution_count": 1,
   "metadata": {},
   "outputs": [],
   "source": [
    "# 하노이의 탑"
   ]
  },
  {
   "cell_type": "code",
   "execution_count": null,
   "metadata": {},
   "outputs": [],
   "source": []
  },
  {
   "cell_type": "code",
   "execution_count": 3,
   "metadata": {},
   "outputs": [],
   "source": [
    "# stack 구조이다. 첫 번째의 요소들을 마지막 리스트로 이동시키는 방법\n",
    "# [21][][] # 처음. 처음에는 두 개가 empty다. \n",
    "# [2][1][] # 짝수개면. 가운데로 먼저보낸다. 가장 큰값을 오른쪽으로.\n",
    "# [] [1] [2]\n",
    "# [] [] [21] #완성\n",
    "########################3\n",
    "# [321] [] []\n",
    "# [32]  [] [1] # 홀수개일때는 이쪽으로 이동시켜야.가장 큰 3을 이쪽으로 옮겨야 한다.\n",
    "# [3] [2] [1]\n",
    "# [3] [21] [] \n",
    "# [] [21] [3] # 21을 오른쪽으로 옮기는 과정이 다시 나온다. 재귀? \n",
    "# 처음과 같은 구조. 즉, 둘 다 empty인 상황이거나 한쪽이 스택바닥보다 큰값인 경우.\n",
    "# [1] [2] [3]\n",
    "# [1] [] [32]\n",
    "# [] [] [321] # 왼성"
   ]
  },
  {
   "cell_type": "code",
   "execution_count": 4,
   "metadata": {},
   "outputs": [],
   "source": [
    "# [4321] [] [] # 1을 옮기는 하노이.   top이 가장 가벼운 것을 이동. (empty이면 inf)\n",
    "# [432] [1] [] \n",
    "# [43] [1] [2]\n",
    "# [43] [] [21] \n",
    "# [4] [3] [21]  # 21을 옭기는 하노이. 반복.\n",
    "# [41] [3] [2]\n",
    "# [41] [32] []\n",
    "# [4] [321] []\n",
    "# [] [321] [4] # 321을 옮기는 하노이. 반복.\n",
    "#"
   ]
  },
  {
   "cell_type": "code",
   "execution_count": null,
   "metadata": {},
   "outputs": [],
   "source": []
  },
  {
   "cell_type": "code",
   "execution_count": null,
   "metadata": {},
   "outputs": [],
   "source": [
    "# 규칙성을 발견하라.\n",
    "# move 히스토리를 본다. 없으면.\n",
    "# 스택1을 이동시킨다. 원소개수가 짝수면 다른(1or2) 곳으로. 홀수면 목적지(3번)로.\n",
    "# (1,2) 이동 (스택1에서 스택2로 이동) :  [432] [1] [] \n",
    "# 규칙. 이동한 것을 바로 이동시키지 않는다. : 위에서 스택2는 바로 움직일 수 없음.\n",
    "# 이동시작한 스택을 계속 이동 시도.\n",
    "# (1,3) ; 유일한 경로. ; [43][1][2]\n",
    "#    계속 시도 실패. 3불가. 따라서 남은 출발지는 2.\n",
    "# (2,3) ; 어디로 가는가? 둘 다 크다. 연속된수가보이면 그쪽으로 간다.  \n",
    "#         [43][][21]\n",
    "# 출발지2 계속 시도하나. empty. 3은 이동불가. 1밖에는 없다. \n",
    "# (1,2) ; 어디로? 3은 불가.\n",
    "#   [4][3][21]\n",
    "#     계속 1출발 실패 \n",
    "# (3,1)  ; 3출발인데, 어디로. 연속된수가 없으면 큰쪽으로?\n",
    "#   [41][3][2]\n",
    "# (1,2)  ; [41][32][] ; 1출발 연속된 수 발견\n",
    "# (1,2)  ; [4][321][] ; 1출발.\n",
    "# (1,3) ; [][321][4] ; 1은 empty, 2출발\n",
    "# (2,3)  ; ; 연속된수가 없음. 큰쪽으로?? 그 보다. 탑형태가 우선. 홀수이므로 목적지로! \n",
    "#         [][32][41]\n",
    "# (2,1)  ; [2][3][41] ; 2는 불가. \n",
    "# (3,1) ; [21][3][4] ; ?? 3출발 연속이 1번에 있음.\n",
    "# (2,3) ; [21][][43] ; 2,3불가. 1출발. 연속없음. 탑형태. 짝수. 반대로. \n",
    "# (1,2) ; [2][1][43] \n",
    "# (1,3) ; [][1][432] ; 탑형태 홀수. 목적지로. \n",
    "# (2,3) ; [][][4321] "
   ]
  },
  {
   "cell_type": "code",
   "execution_count": null,
   "metadata": {},
   "outputs": [],
   "source": [
    "# [54321][][]\n",
    "# 탑형태. 홀수. 목적지로\n",
    "# (1,3) ; [5432][][1]\n",
    "# (1,2) ; [543][2][1] ; 스택3의 목적지는 bottom과 연속이 수가 top인 쪽이다.\n",
    "# 1 start fail. start=3\n",
    "# (3,2); end=연속. ; [543][21][]\n",
    "# 3 empty, 1start\n",
    "# (1,3) ; [54][21][3]\n",
    "# 1 start fail. 2 start. 탑형태. 스택2의 max에 연속은 스택3. 목적지가 stack3. 짝수. 반대.\n",
    "# (2,1) ; [541][2][3]\n",
    "# (2,3) ; [541][][32] ; \n",
    "# (1,3) ; [54][][321] ; "
   ]
  },
  {
   "cell_type": "code",
   "execution_count": null,
   "metadata": {},
   "outputs": [],
   "source": [
    "# \n",
    "def hanoi(stack1, stack2, stack3, target, move):\n",
    "    # stack3으로 다 이동여부 체크\n",
    "    if len(stack1)==0 and len(stack2)==0:\n",
    "        print('Solve!')\n",
    "        return\n",
    "    # 어느 것을 움직일 것인가?\n",
    "    if len(stack2)==0 and len(stack3)==0:\n",
    "        \n",
    "    "
   ]
  },
  {
   "cell_type": "code",
   "execution_count": null,
   "metadata": {},
   "outputs": [],
   "source": []
  },
  {
   "cell_type": "code",
   "execution_count": null,
   "metadata": {},
   "outputs": [],
   "source": []
  },
  {
   "cell_type": "code",
   "execution_count": null,
   "metadata": {},
   "outputs": [],
   "source": []
  },
  {
   "cell_type": "code",
   "execution_count": null,
   "metadata": {},
   "outputs": [],
   "source": []
  },
  {
   "cell_type": "code",
   "execution_count": null,
   "metadata": {},
   "outputs": [],
   "source": []
  }
 ],
 "metadata": {
  "kernelspec": {
   "display_name": "py37",
   "language": "python",
   "name": "py37"
  },
  "language_info": {
   "codemirror_mode": {
    "name": "ipython",
    "version": 3
   },
   "file_extension": ".py",
   "mimetype": "text/x-python",
   "name": "python",
   "nbconvert_exporter": "python",
   "pygments_lexer": "ipython3",
   "version": "3.7.3"
  }
 },
 "nbformat": 4,
 "nbformat_minor": 2
}
