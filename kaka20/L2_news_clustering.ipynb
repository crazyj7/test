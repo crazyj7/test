{
 "cells": [
  {
   "cell_type": "code",
   "execution_count": null,
   "metadata": {},
   "outputs": [],
   "source": []
  },
  {
   "cell_type": "code",
   "execution_count": 1,
   "metadata": {},
   "outputs": [
    {
     "data": {
      "text/plain": [
       "'AAAAABSAEE'"
      ]
     },
     "execution_count": 1,
     "metadata": {},
     "output_type": "execute_result"
    }
   ],
   "source": [
    "s='aaaAAbsaeE'\n",
    "s.upper()"
   ]
  },
  {
   "cell_type": "code",
   "execution_count": 2,
   "metadata": {},
   "outputs": [
    {
     "data": {
      "text/plain": [
       "'aaaAAbsaeE'"
      ]
     },
     "execution_count": 2,
     "metadata": {},
     "output_type": "execute_result"
    }
   ],
   "source": [
    "s"
   ]
  },
  {
   "cell_type": "code",
   "execution_count": 38,
   "metadata": {},
   "outputs": [],
   "source": [
    "from collections import Counter\n",
    "\n",
    "def makealphaset(str1):\n",
    "    set1=[]\n",
    "    for i in range(len(str1)-1):\n",
    "        # 알파벳이 아닌 것은 제외.\n",
    "        if not str1[i].isalpha():\n",
    "            continue\n",
    "        if not str1[i+1].isalpha():\n",
    "            continue\n",
    "        set1.append(str1[i:i+2])\n",
    "    set1.sort()\n",
    "    return set1\n",
    "\n",
    "def multi_union(dic1, dic2):\n",
    "    rset = dict()\n",
    "    for a,b in dic1.items():\n",
    "        cnt1 = b\n",
    "        cnt2=0\n",
    "        if a in dic2:\n",
    "            cnt2 = dic2[a]\n",
    "        rset[a]= cnt1 if cnt1>cnt2 else cnt2\n",
    "    for a,b in dic2.items():\n",
    "        if a not in rset:\n",
    "            rset[a]=b\n",
    "    return rset\n",
    "\n",
    "def multi_intersect(dic1, dic2):\n",
    "    rset = dict()\n",
    "    for a,b in dic1.items():\n",
    "        cnt1 = b\n",
    "        cnt2 = 0\n",
    "        if a in dic2:\n",
    "            cnt2 = dic2[a]\n",
    "            rset[a]= cnt2 if cnt1>cnt2 else cnt1\n",
    "    return rset\n",
    "    "
   ]
  },
  {
   "cell_type": "code",
   "execution_count": 44,
   "metadata": {},
   "outputs": [],
   "source": [
    "def solution(str1, str2):\n",
    "    answer = 0\n",
    "    \n",
    "    # 두 문자열의 유사도 측정. 자카드 유사도\n",
    "    # 대소문자 구분없음.\n",
    "    str1=str1.upper()\n",
    "    str2=str2.upper()\n",
    "    set1 = makealphaset(str1)\n",
    "    set2 = makealphaset(str2)\n",
    "    print(set1)\n",
    "    print(set2)\n",
    "    \n",
    "    cnt1=Counter(set1)\n",
    "    cnt2=Counter(set2)\n",
    "    print(cnt1)\n",
    "    print(cnt2)\n",
    "    \n",
    "    uni = multi_union(cnt1,cnt2)\n",
    "    cnt_uni = sum(uni.values())\n",
    "    print('union=', uni, cnt_uni)\n",
    "\n",
    "    inters = multi_intersect(cnt1,cnt2)\n",
    "    cnt_int = sum(inters.values())\n",
    "    print('intersection=', inters, cnt_int)\n",
    "\n",
    "    if cnt_uni==0:\n",
    "        ja=1\n",
    "    else:\n",
    "        ja = cnt_int / cnt_uni\n",
    "    print('ja=', ja)\n",
    "    \n",
    "    answer = int(ja*65536)\n",
    "    \n",
    "    return answer"
   ]
  },
  {
   "cell_type": "code",
   "execution_count": 45,
   "metadata": {},
   "outputs": [
    {
     "name": "stdout",
     "output_type": "stream",
     "text": [
      "['AN', 'CE', 'FR', 'NC', 'RA']\n",
      "['CH', 'EN', 'FR', 'NC', 'RE']\n",
      "Counter({'AN': 1, 'CE': 1, 'FR': 1, 'NC': 1, 'RA': 1})\n",
      "Counter({'CH': 1, 'EN': 1, 'FR': 1, 'NC': 1, 'RE': 1})\n",
      "union= {'AN': 1, 'CE': 1, 'FR': 1, 'NC': 1, 'RA': 1, 'CH': 1, 'EN': 1, 'RE': 1} 8\n",
      "intersection= {'FR': 1, 'NC': 1} 2\n",
      "ja= 0.25\n"
     ]
    },
    {
     "data": {
      "text/plain": [
       "16384"
      ]
     },
     "execution_count": 45,
     "metadata": {},
     "output_type": "execute_result"
    }
   ],
   "source": [
    "solution('FRANCE', 'french')"
   ]
  },
  {
   "cell_type": "code",
   "execution_count": null,
   "metadata": {},
   "outputs": [],
   "source": []
  },
  {
   "cell_type": "code",
   "execution_count": null,
   "metadata": {},
   "outputs": [],
   "source": []
  },
  {
   "cell_type": "code",
   "execution_count": 56,
   "metadata": {},
   "outputs": [],
   "source": [
    "def solution(n,a,b):\n",
    "    answer = 3\n",
    "    round=0\n",
    "    a=a-1\n",
    "    b=b-1\n",
    "    while True:\n",
    "        round+=1\n",
    "#         groupcnt = n / (2**round)\n",
    "        if a//(2**round) == b//(2**round):\n",
    "            break\n",
    "    answer = round\n",
    "    return answer"
   ]
  },
  {
   "cell_type": "code",
   "execution_count": 57,
   "metadata": {},
   "outputs": [
    {
     "data": {
      "text/plain": [
       "3"
      ]
     },
     "execution_count": 57,
     "metadata": {},
     "output_type": "execute_result"
    }
   ],
   "source": [
    "solution(8, 4, 7)"
   ]
  },
  {
   "cell_type": "code",
   "execution_count": null,
   "metadata": {},
   "outputs": [],
   "source": []
  },
  {
   "cell_type": "code",
   "execution_count": 70,
   "metadata": {},
   "outputs": [],
   "source": [
    "def solution(n, words):\n",
    "    answer = []\n",
    "\n",
    "    d = set()\n",
    "    last_w=words[0][0]\n",
    "    index=0\n",
    "    bfound=False\n",
    "    for w in words:\n",
    "        # 끝말잇기 불일치 검사\n",
    "        if last_w[-1]!=w[0]:\n",
    "            bfound=True\n",
    "            break\n",
    "        # 재연 단어 확인\n",
    "        if w in d:\n",
    "            bfound=True\n",
    "            break\n",
    "        d.add(w)    \n",
    "        last_w = w\n",
    "        index+=1\n",
    "    if bfound:\n",
    "        answer = [ index%n +1 , (index//n)+1 ]\n",
    "    else:\n",
    "        answer = [0,0]\n",
    "\n",
    "    return answer"
   ]
  },
  {
   "cell_type": "code",
   "execution_count": 71,
   "metadata": {},
   "outputs": [
    {
     "data": {
      "text/plain": [
       "[3, 3]"
      ]
     },
     "execution_count": 71,
     "metadata": {},
     "output_type": "execute_result"
    }
   ],
   "source": [
    "solution(3, ['tank', 'kick', 'know', 'wheel', 'land', 'dream', 'mother', 'robot', 'tank'])"
   ]
  },
  {
   "cell_type": "code",
   "execution_count": null,
   "metadata": {},
   "outputs": [],
   "source": []
  },
  {
   "cell_type": "code",
   "execution_count": 75,
   "metadata": {},
   "outputs": [],
   "source": [
    "\n",
    "def odd(remain, addnum):\n",
    "    if remain==0:\n",
    "        return addnum\n",
    "    if remain==1:\n",
    "        return addnum+1\n",
    "    \n",
    "    if remain%2==1:\n",
    "        return odd(remain//2, addnum+1)\n",
    "    return odd(remain//2, addnum)\n",
    "\n",
    "\n",
    "def solution(n):\n",
    "    ans = 0\n",
    "\n",
    "    ans = odd(n, 0)\n",
    "\n",
    "    return ans"
   ]
  },
  {
   "cell_type": "code",
   "execution_count": 78,
   "metadata": {},
   "outputs": [
    {
     "data": {
      "text/plain": [
       "5"
      ]
     },
     "execution_count": 78,
     "metadata": {},
     "output_type": "execute_result"
    }
   ],
   "source": [
    "solution(5000)"
   ]
  },
  {
   "cell_type": "code",
   "execution_count": null,
   "metadata": {},
   "outputs": [],
   "source": []
  },
  {
   "cell_type": "code",
   "execution_count": 79,
   "metadata": {},
   "outputs": [],
   "source": [
    "import numpy as np\n",
    "import itertools\n",
    "\n",
    "\n",
    "def primesfrom3to(n):\n",
    "    \"\"\" Returns a array of primes, 3 <= p < n \"\"\"\n",
    "    sieve = np.ones(n//2, dtype=np.bool)\n",
    "    for i in range(3,int(n**0.5)+1,2):\n",
    "        if sieve[i//2]:\n",
    "            sieve[i*i//2::i] = False\n",
    "    return 2*np.nonzero(sieve)[0][1::]+1\n",
    "\n",
    "\n",
    "\n",
    "def solution(nums):\n",
    "    answer = 0\n",
    "    \n",
    "    # 서로 다른 수를 3개 고른다.\n",
    "    nums = set(nums)\n",
    "    maxnum = max(nums)*3\n",
    "    cases = list(itertools.combinations(nums, 3))\n",
    "    \n",
    "    p = primesfrom3to(maxnum)  # maxnum전 까지 소수를 구한다. 2는 빠져있음.\n",
    "        \n",
    "    for x in cases:\n",
    "        v = sum(x)\n",
    "        if v in p:\n",
    "            answer+=1\n",
    "\n",
    "    return answer\n",
    "\n"
   ]
  },
  {
   "cell_type": "code",
   "execution_count": 81,
   "metadata": {},
   "outputs": [
    {
     "data": {
      "text/plain": [
       "4"
      ]
     },
     "execution_count": 81,
     "metadata": {},
     "output_type": "execute_result"
    }
   ],
   "source": [
    "solution([1,2,7,6,4])"
   ]
  },
  {
   "cell_type": "code",
   "execution_count": null,
   "metadata": {},
   "outputs": [],
   "source": []
  },
  {
   "cell_type": "code",
   "execution_count": null,
   "metadata": {},
   "outputs": [],
   "source": []
  },
  {
   "cell_type": "code",
   "execution_count": 82,
   "metadata": {},
   "outputs": [],
   "source": [
    "def remove_pair(s):\n",
    "    slist = list(s)\n",
    "    count=0\n",
    "    for i in range(len(slist)-1):\n",
    "        if slist[i]==slist[i+1]:\n",
    "            slist[i]=''\n",
    "            slist[i+1]=''\n",
    "            count+=1\n",
    "            i+=1 # skip next i (prevent from duplicate use)\n",
    "    return ''.join(slist), count\n",
    "\n",
    "\n",
    "def solution(s):\n",
    "    answer = 0\n",
    "\n",
    "    while True:\n",
    "        s, cnt = remove_pair(s)\n",
    "        if cnt==0:\n",
    "            break\n",
    "    print(s)\n",
    "    if len(s)==0:\n",
    "        answer=1\n",
    "\n",
    "    return answer"
   ]
  },
  {
   "cell_type": "code",
   "execution_count": 84,
   "metadata": {},
   "outputs": [
    {
     "name": "stdout",
     "output_type": "stream",
     "text": [
      "\n",
      "cdcd\n"
     ]
    },
    {
     "data": {
      "text/plain": [
       "0"
      ]
     },
     "execution_count": 84,
     "metadata": {},
     "output_type": "execute_result"
    }
   ],
   "source": [
    "solution('baabaa')\n",
    "solution('cdcd')"
   ]
  },
  {
   "cell_type": "code",
   "execution_count": 99,
   "metadata": {},
   "outputs": [],
   "source": [
    "\n",
    "def solution(s):\n",
    "    answer = 0\n",
    "\n",
    "    stack=[]\n",
    "    idx=0\n",
    "    stack.append(s[idx])\n",
    "    idx+=1\n",
    "    slen = len(s)\n",
    "    while idx<slen:\n",
    "#         print(idx, slen)\n",
    "        if len(stack)>0 and stack[-1]==s[idx]:\n",
    "            del stack[-1]\n",
    "        else:\n",
    "            stack.append(s[idx])\n",
    "        idx+=1\n",
    "    print(stack)\n",
    "    if len(stack)==0:\n",
    "        answer=1\n",
    "\n",
    "    return answer"
   ]
  },
  {
   "cell_type": "code",
   "execution_count": 100,
   "metadata": {},
   "outputs": [
    {
     "name": "stdout",
     "output_type": "stream",
     "text": [
      "1 6\n",
      "2 6\n",
      "3 6\n",
      "4 6\n",
      "5 6\n",
      "[]\n"
     ]
    },
    {
     "data": {
      "text/plain": [
       "1"
      ]
     },
     "execution_count": 100,
     "metadata": {},
     "output_type": "execute_result"
    }
   ],
   "source": [
    "solution('baabaa')\n",
    "# solution('cdcd')"
   ]
  },
  {
   "cell_type": "code",
   "execution_count": null,
   "metadata": {},
   "outputs": [],
   "source": []
  },
  {
   "cell_type": "code",
   "execution_count": null,
   "metadata": {},
   "outputs": [],
   "source": []
  },
  {
   "cell_type": "code",
   "execution_count": 111,
   "metadata": {},
   "outputs": [],
   "source": [
    "# 유클리드 호제법\n",
    "# 16, 12\n",
    "# 일단, 나누고, 나머지를 보고 몫과 나머지로 계산 바꿔서 연산한다.\n",
    "# 16, 12 -> 몫:1,  나머지:4\n",
    "#  12, 4 -> 나누어떨어짐.  이 때의 제수는 4=gcd\n",
    "def gcd(n,m):\n",
    "    remain = n%m\n",
    "    if remain==0:\n",
    "        return m\n",
    "    return gcd(m, remain)\n",
    "    \n",
    "def gcm(n, m):\n",
    "    g = gcd(n, m)\n",
    "    a,b = n/g, m/g\n",
    "    return int(a*b*g)"
   ]
  },
  {
   "cell_type": "code",
   "execution_count": 117,
   "metadata": {},
   "outputs": [],
   "source": [
    "def solution(arr):\n",
    "    answer = 0\n",
    "    g = 0\n",
    "    for a in arr:\n",
    "        if g==0:\n",
    "            g=a\n",
    "        else:\n",
    "            g = gcm(g,a)\n",
    "    answer = g\n",
    "    \n",
    "    return answer"
   ]
  },
  {
   "cell_type": "code",
   "execution_count": 118,
   "metadata": {},
   "outputs": [
    {
     "data": {
      "text/plain": [
       "168"
      ]
     },
     "execution_count": 118,
     "metadata": {},
     "output_type": "execute_result"
    }
   ],
   "source": [
    "solution([2,6,8,14])"
   ]
  },
  {
   "cell_type": "code",
   "execution_count": 112,
   "metadata": {},
   "outputs": [
    {
     "data": {
      "text/plain": [
       "4"
      ]
     },
     "execution_count": 112,
     "metadata": {},
     "output_type": "execute_result"
    }
   ],
   "source": [
    "gcd(16,12)"
   ]
  },
  {
   "cell_type": "code",
   "execution_count": 113,
   "metadata": {},
   "outputs": [
    {
     "data": {
      "text/plain": [
       "6"
      ]
     },
     "execution_count": 113,
     "metadata": {},
     "output_type": "execute_result"
    }
   ],
   "source": [
    "gcd(24, 90)"
   ]
  },
  {
   "cell_type": "code",
   "execution_count": 114,
   "metadata": {},
   "outputs": [
    {
     "data": {
      "text/plain": [
       "48"
      ]
     },
     "execution_count": 114,
     "metadata": {},
     "output_type": "execute_result"
    }
   ],
   "source": [
    "gcm(12, 16)"
   ]
  },
  {
   "cell_type": "code",
   "execution_count": 116,
   "metadata": {},
   "outputs": [
    {
     "data": {
      "text/plain": [
       "360"
      ]
     },
     "execution_count": 116,
     "metadata": {},
     "output_type": "execute_result"
    }
   ],
   "source": [
    "gcm(24,90)"
   ]
  },
  {
   "cell_type": "code",
   "execution_count": null,
   "metadata": {},
   "outputs": [],
   "source": []
  },
  {
   "cell_type": "code",
   "execution_count": 129,
   "metadata": {},
   "outputs": [],
   "source": [
    "def solution(s):\n",
    "    answer = ''\n",
    "    slist=s.lower().split()\n",
    "    olist=[]\n",
    "    for w in slist:\n",
    "        w=list(w)\n",
    "        w[0]=w[0].upper()\n",
    "        olist.append(''.join(w))\n",
    "    answer = ' '.join(olist)\n",
    "        \n",
    "    return answer"
   ]
  },
  {
   "cell_type": "code",
   "execution_count": 130,
   "metadata": {},
   "outputs": [
    {
     "data": {
      "text/plain": [
       "'3people Unfollowed Me'"
      ]
     },
     "execution_count": 130,
     "metadata": {},
     "output_type": "execute_result"
    }
   ],
   "source": [
    "solution('3people unFollowed me')"
   ]
  },
  {
   "cell_type": "code",
   "execution_count": null,
   "metadata": {},
   "outputs": [],
   "source": []
  },
  {
   "cell_type": "code",
   "execution_count": 137,
   "metadata": {},
   "outputs": [],
   "source": [
    "def solution(s):\n",
    "    answer = ''\n",
    "    s=s.lower()\n",
    "\n",
    "    wordbegin=True\n",
    "    o=list(s)\n",
    "    for i, c in enumerate(s):\n",
    "        if c==' ':\n",
    "            wordbegin=True\n",
    "        elif wordbegin:\n",
    "            wordbegin=False\n",
    "            o[i]=c.upper()\n",
    "    answer =  ''.join(o)\n",
    "        \n",
    "    return answer"
   ]
  },
  {
   "cell_type": "code",
   "execution_count": 138,
   "metadata": {},
   "outputs": [
    {
     "data": {
      "text/plain": [
       "'3people Unfollowed Me'"
      ]
     },
     "execution_count": 138,
     "metadata": {},
     "output_type": "execute_result"
    }
   ],
   "source": [
    "solution('3people unFollowed me')"
   ]
  },
  {
   "cell_type": "code",
   "execution_count": null,
   "metadata": {},
   "outputs": [],
   "source": []
  },
  {
   "cell_type": "code",
   "execution_count": 141,
   "metadata": {},
   "outputs": [],
   "source": [
    "import numpy as np\n",
    "\n",
    "def solution(arr1, arr2):\n",
    "    answer = [[]]\n",
    "    \n",
    "    na1 = np.asarray(arr1)\n",
    "    na2 = np.asarray(arr2)\n",
    "    na3 = np.dot(na1, na2)\n",
    "    print(na3) \n",
    "    answer = na3.tolist()\n",
    "    \n",
    "    return answer\n",
    "\n"
   ]
  },
  {
   "cell_type": "code",
   "execution_count": 142,
   "metadata": {},
   "outputs": [
    {
     "name": "stdout",
     "output_type": "stream",
     "text": [
      "[[15 15]\n",
      " [15 15]\n",
      " [15 15]]\n"
     ]
    },
    {
     "data": {
      "text/plain": [
       "[[15, 15], [15, 15], [15, 15]]"
      ]
     },
     "execution_count": 142,
     "metadata": {},
     "output_type": "execute_result"
    }
   ],
   "source": [
    "solution([[1, 4], [3, 2], [4, 1]],[[3, 3], [3, 3]] )"
   ]
  },
  {
   "cell_type": "code",
   "execution_count": null,
   "metadata": {},
   "outputs": [],
   "source": []
  },
  {
   "cell_type": "code",
   "execution_count": 151,
   "metadata": {},
   "outputs": [],
   "source": [
    "def solution(n):\n",
    "    answer = 0\n",
    "    f=[0, 1, 1] # f0=0, f1=1\n",
    "    for i in range(2,n):\n",
    "        newf=f[1]+f[2]\n",
    "        f[0],f[1],f[2] = f[1],f[2],newf\n",
    "        print(i, f)\n",
    "    answer = f[2]    \n",
    "    return answer"
   ]
  },
  {
   "cell_type": "code",
   "execution_count": 152,
   "metadata": {},
   "outputs": [
    {
     "name": "stdout",
     "output_type": "stream",
     "text": [
      "2 [1, 1, 2]\n",
      "3 [1, 2, 3]\n",
      "4 [2, 3, 5]\n"
     ]
    },
    {
     "data": {
      "text/plain": [
       "5"
      ]
     },
     "execution_count": 152,
     "metadata": {},
     "output_type": "execute_result"
    }
   ],
   "source": [
    "solution(5)"
   ]
  },
  {
   "cell_type": "code",
   "execution_count": 158,
   "metadata": {},
   "outputs": [
    {
     "name": "stdout",
     "output_type": "stream",
     "text": [
      "0\n",
      "1\n",
      "2\n",
      "3\n",
      "4\n",
      "4\n"
     ]
    }
   ],
   "source": [
    "def ab():\n",
    "    for k in range(5):\n",
    "        print(k)\n",
    "    print(k)\n",
    "ab()"
   ]
  },
  {
   "cell_type": "code",
   "execution_count": null,
   "metadata": {},
   "outputs": [],
   "source": []
  },
  {
   "cell_type": "code",
   "execution_count": 188,
   "metadata": {},
   "outputs": [],
   "source": [
    "idebug=0\n",
    "\n",
    "def solution(A,B):\n",
    "    answer = 0\n",
    "\n",
    "    # 최소값을 만드려면. 가장 큰 값이 가작 장은 값을 곱해야 한다.\n",
    "    # value, group, use flag\n",
    "    # useFlag가 1이되면 사용된것이므로 제외함.\n",
    "    C=[ [a, 0, 0] for a in A ] + [ [b,1, 0] for b in B ]\n",
    "    C.sort(key=lambda x : x[0])\n",
    "    if idebug>0:\n",
    "        print(C)\n",
    "#     D=[]\n",
    "    count=0\n",
    "    start=0\n",
    "    for i in range(len(C)-1, -1, -1):\n",
    "        C[i][2]=1 # 사용\n",
    "        big = C[i]\n",
    "        # 이것과 다른 그룹에서 가장 작은 값과 mapping\n",
    "        for k in range(start, len(C)):\n",
    "            if C[k][2]==0:\n",
    "                break\n",
    "            start+=1\n",
    "        for j in range(start, len(C)):\n",
    "            if C[j][2]==1:\n",
    "                continue\n",
    "            if C[j][1]!=big[1]:\n",
    "                break\n",
    "        C[j][2]=1\n",
    "#         D.append((big[0], C[j][0]))\n",
    "        answer += big[0]*C[j][0]\n",
    "        count+=1\n",
    "        if idebug>0:\n",
    "            print('D=', D)\n",
    "#         if len(D)==len(A):\n",
    "        if count==len(A):\n",
    "            break\n",
    "    \n",
    "    # calc\n",
    "#     for x,y in D:\n",
    "#         answer += x*y\n",
    "\n",
    "    return answer\n",
    "\n"
   ]
  },
  {
   "cell_type": "code",
   "execution_count": 189,
   "metadata": {},
   "outputs": [
    {
     "data": {
      "text/plain": [
       "29"
      ]
     },
     "execution_count": 189,
     "metadata": {},
     "output_type": "execute_result"
    }
   ],
   "source": [
    "solution([1,4, 2],[5,4, 4])"
   ]
  },
  {
   "cell_type": "code",
   "execution_count": 194,
   "metadata": {},
   "outputs": [],
   "source": [
    "idebug=0\n",
    "\n",
    "def solution(A,B):\n",
    "    answer = 0\n",
    "    A.sort()\n",
    "    B.sort(reverse=True)\n",
    "    for x,y in zip(A,B):\n",
    "        answer +=x*y\n",
    "\n",
    "    return answer\n",
    "\n"
   ]
  },
  {
   "cell_type": "code",
   "execution_count": 195,
   "metadata": {},
   "outputs": [
    {
     "data": {
      "text/plain": [
       "29"
      ]
     },
     "execution_count": 195,
     "metadata": {},
     "output_type": "execute_result"
    }
   ],
   "source": [
    "solution([1,4, 2],[5,4, 4])"
   ]
  },
  {
   "cell_type": "code",
   "execution_count": 198,
   "metadata": {},
   "outputs": [
    {
     "data": {
      "text/plain": [
       "[1, 2, 3, 4]"
      ]
     },
     "execution_count": 198,
     "metadata": {},
     "output_type": "execute_result"
    }
   ],
   "source": [
    "a='1 2 3 4'.split()\n",
    "list(map(int, a))"
   ]
  },
  {
   "cell_type": "code",
   "execution_count": null,
   "metadata": {},
   "outputs": [],
   "source": []
  },
  {
   "cell_type": "code",
   "execution_count": 228,
   "metadata": {},
   "outputs": [],
   "source": [
    "import numpy as np\n",
    "\n",
    "idebug=0\n",
    "\n",
    "def solution(n):\n",
    "    answer = 0\n",
    "    nv = np.asarray(range(1, n+1))\n",
    "    s=0\n",
    "    # 연속 시작 인덱스 i. 뒤에서부터 줄여나간다.\n",
    "    for i in range(n, 0, -1):\n",
    "        for j in range(i-1, -1, -1):\n",
    "            if idebug>0:\n",
    "                print(nv[j:i])\n",
    "                \n",
    "#             s = np.sum(nv[j:i])  # j에서 i-1까지의 합인데. nv에서 인덱스0이 1이다.\n",
    "            # 상동: 인덱스 0부터 i-1까지의 합 - 인덱스 0부터 j-1까지의 합\n",
    "            s = i*(i+1)/2 - j*(j+1)/2\n",
    "            \n",
    "            if s==n:\n",
    "                answer+=1\n",
    "            if s>n: # n 초과기 범위를 더이상 할 필요없다.\n",
    "                break\n",
    "        if j==0: \n",
    "# 1까지 다 더해도 n을 넘지못하면 범위를 축소하면서 더이상 조사할 필요가없다.            \n",
    "            if s<n:\n",
    "                break\n",
    "    \n",
    "    return answer"
   ]
  },
  {
   "cell_type": "code",
   "execution_count": 229,
   "metadata": {},
   "outputs": [
    {
     "data": {
      "text/plain": [
       "4"
      ]
     },
     "execution_count": 229,
     "metadata": {},
     "output_type": "execute_result"
    }
   ],
   "source": [
    "solution(15)"
   ]
  },
  {
   "cell_type": "code",
   "execution_count": null,
   "metadata": {},
   "outputs": [],
   "source": []
  },
  {
   "cell_type": "code",
   "execution_count": null,
   "metadata": {},
   "outputs": [],
   "source": []
  },
  {
   "cell_type": "code",
   "execution_count": null,
   "metadata": {},
   "outputs": [],
   "source": []
  },
  {
   "cell_type": "code",
   "execution_count": null,
   "metadata": {},
   "outputs": [],
   "source": []
  },
  {
   "cell_type": "code",
   "execution_count": null,
   "metadata": {},
   "outputs": [],
   "source": []
  },
  {
   "cell_type": "code",
   "execution_count": null,
   "metadata": {},
   "outputs": [],
   "source": []
  },
  {
   "cell_type": "code",
   "execution_count": null,
   "metadata": {},
   "outputs": [],
   "source": []
  },
  {
   "cell_type": "code",
   "execution_count": null,
   "metadata": {},
   "outputs": [],
   "source": []
  },
  {
   "cell_type": "code",
   "execution_count": null,
   "metadata": {},
   "outputs": [],
   "source": []
  },
  {
   "cell_type": "code",
   "execution_count": null,
   "metadata": {},
   "outputs": [],
   "source": []
  },
  {
   "cell_type": "code",
   "execution_count": null,
   "metadata": {},
   "outputs": [],
   "source": []
  },
  {
   "cell_type": "code",
   "execution_count": null,
   "metadata": {},
   "outputs": [],
   "source": []
  },
  {
   "cell_type": "code",
   "execution_count": null,
   "metadata": {},
   "outputs": [],
   "source": []
  },
  {
   "cell_type": "code",
   "execution_count": null,
   "metadata": {},
   "outputs": [],
   "source": []
  },
  {
   "cell_type": "code",
   "execution_count": null,
   "metadata": {},
   "outputs": [],
   "source": []
  },
  {
   "cell_type": "code",
   "execution_count": null,
   "metadata": {},
   "outputs": [],
   "source": []
  },
  {
   "cell_type": "code",
   "execution_count": null,
   "metadata": {},
   "outputs": [],
   "source": []
  }
 ],
 "metadata": {
  "kernelspec": {
   "display_name": "py37",
   "language": "python",
   "name": "py37"
  },
  "language_info": {
   "codemirror_mode": {
    "name": "ipython",
    "version": 3
   },
   "file_extension": ".py",
   "mimetype": "text/x-python",
   "name": "python",
   "nbconvert_exporter": "python",
   "pygments_lexer": "ipython3",
   "version": "3.7.6"
  }
 },
 "nbformat": 4,
 "nbformat_minor": 4
}
