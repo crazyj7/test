{
 "cells": [
  {
   "cell_type": "code",
   "execution_count": null,
   "metadata": {
    "collapsed": true
   },
   "outputs": [],
   "source": []
  },
  {
   "cell_type": "code",
   "execution_count": 3,
   "metadata": {},
   "outputs": [
    {
     "name": "stderr",
     "output_type": "stream",
     "text": [
      "Script file 'D:\\Anaconda3\\Scripts\\pip-script.py' is not present.\n"
     ]
    }
   ],
   "source": [
    "!pip install numpy"
   ]
  },
  {
   "cell_type": "code",
   "execution_count": 14,
   "metadata": {},
   "outputs": [],
   "source": [
    "import numpy as np\n",
    "idebug=1\n",
    "\n",
    "def solution(m, n, board):\n",
    "    answer = 0\n",
    "    \n",
    "    # board character split\n",
    "    for i, r in enumerate(board):\n",
    "        board[i] = list(r)\n",
    "\n",
    "    while True:\n",
    "        # 2x2 window sliding\n",
    "        breakable=set()\n",
    "        for i in range(m-1):\n",
    "            for j in range(n-1):\n",
    "                # block.\n",
    "                crop = set([board[i][j], board[i][j+1], board[i+1][j], board[i+1][j+1]])\n",
    "                if '*' in crop:\n",
    "                    continue\n",
    "#                 print(len(crop))\n",
    "                # 집합으로 하면 중복이 제거되므로 원소개수가 1이면 모두 같은 원소라는 의미\n",
    "                if len(crop)==1:\n",
    "                    # found\n",
    "                    breakable.add((i,j))\n",
    "                    breakable.add((i,j+1))\n",
    "                    breakable.add((i+1,j))\n",
    "                    breakable.add((i+1,j+1))\n",
    "        if idebug>0:\n",
    "            print(breakable)\n",
    "        answer+=len(breakable)\n",
    "        \n",
    "        if idebug>0:\n",
    "            print('*board*')\n",
    "            for b in board:\n",
    "                print(b)\n",
    "            print('')\n",
    "        \n",
    "        # break down\n",
    "        for x,y in breakable:\n",
    "            board[x][y]='*'\n",
    "\n",
    "        if idebug>0:\n",
    "            print('*break board*')\n",
    "            for b in board:\n",
    "                print(b)\n",
    "            print('')\n",
    "            \n",
    "        for col in range(n):\n",
    "            for r in range(m-1, -1, -1):\n",
    "                while board[r][col]=='*':\n",
    "                    # down\n",
    "                    bfound=False\n",
    "                    for k in range(r, -1, -1):\n",
    "                        if k==0:\n",
    "                            board[k][col]='*'\n",
    "                            break\n",
    "                        board[k][col] = board[k-1][col]\n",
    "                        if board[k][col]!='*':\n",
    "                            bfound=True\n",
    "                    if bfound==False:\n",
    "                        break\n",
    "        \n",
    "        if len(breakable)==0:\n",
    "            break\n",
    "    return answer\n"
   ]
  },
  {
   "cell_type": "code",
   "execution_count": 15,
   "metadata": {},
   "outputs": [
    {
     "name": "stdout",
     "output_type": "stream",
     "text": [
      "{(3, 2), (2, 2), (3, 1), (1, 4), (2, 1), (2, 0), (1, 5), (2, 5), (2, 4), (1, 0), (1, 1)}\n",
      "*board*\n",
      "['T', 'T', 'T', 'A', 'N', 'T']\n",
      "['R', 'R', 'F', 'A', 'C', 'C']\n",
      "['R', 'R', 'R', 'F', 'C', 'C']\n",
      "['T', 'R', 'R', 'R', 'A', 'A']\n",
      "['T', 'T', 'M', 'M', 'M', 'F']\n",
      "['T', 'M', 'M', 'T', 'T', 'J']\n",
      "\n",
      "*break board*\n",
      "['T', 'T', 'T', 'A', 'N', 'T']\n",
      "['*', '*', 'F', 'A', '*', '*']\n",
      "['*', '*', '*', 'F', '*', '*']\n",
      "['T', '*', '*', 'R', 'A', 'A']\n",
      "['T', 'T', 'M', 'M', 'M', 'F']\n",
      "['T', 'M', 'M', 'T', 'T', 'J']\n",
      "\n",
      "{(3, 0), (3, 1), (4, 1), (4, 0)}\n",
      "*board*\n",
      "['*', '*', '*', 'A', '*', '*']\n",
      "['*', '*', '*', 'A', '*', '*']\n",
      "['T', '*', 'T', 'F', 'N', 'T']\n",
      "['T', 'T', 'F', 'R', 'A', 'A']\n",
      "['T', 'T', 'M', 'M', 'M', 'F']\n",
      "['T', 'M', 'M', 'T', 'T', 'J']\n",
      "\n",
      "*break board*\n",
      "['*', '*', '*', 'A', '*', '*']\n",
      "['*', '*', '*', 'A', '*', '*']\n",
      "['T', '*', 'T', 'F', 'N', 'T']\n",
      "['*', '*', 'F', 'R', 'A', 'A']\n",
      "['*', '*', 'M', 'M', 'M', 'F']\n",
      "['T', 'M', 'M', 'T', 'T', 'J']\n",
      "\n",
      "set()\n",
      "*board*\n",
      "['*', '*', '*', 'A', '*', '*']\n",
      "['*', '*', '*', 'A', '*', '*']\n",
      "['*', '*', 'T', 'F', 'N', 'T']\n",
      "['*', '*', 'F', 'R', 'A', 'A']\n",
      "['T', '*', 'M', 'M', 'M', 'F']\n",
      "['T', 'M', 'M', 'T', 'T', 'J']\n",
      "\n",
      "*break board*\n",
      "['*', '*', '*', 'A', '*', '*']\n",
      "['*', '*', '*', 'A', '*', '*']\n",
      "['*', '*', 'T', 'F', 'N', 'T']\n",
      "['*', '*', 'F', 'R', 'A', 'A']\n",
      "['T', '*', 'M', 'M', 'M', 'F']\n",
      "['T', 'M', 'M', 'T', 'T', 'J']\n",
      "\n"
     ]
    },
    {
     "data": {
      "text/plain": [
       "15"
      ]
     },
     "execution_count": 15,
     "metadata": {},
     "output_type": "execute_result"
    }
   ],
   "source": [
    "# m, n\n",
    "board=['TTTANT', 'RRFACC', 'RRRFCC', 'TRRRAA', 'TTMMMF', 'TMMTTJ']\n",
    "solution(6,6,board)\n"
   ]
  },
  {
   "cell_type": "code",
   "execution_count": null,
   "metadata": {},
   "outputs": [],
   "source": []
  },
  {
   "cell_type": "code",
   "execution_count": null,
   "metadata": {},
   "outputs": [],
   "source": []
  },
  {
   "cell_type": "code",
   "execution_count": null,
   "metadata": {},
   "outputs": [],
   "source": []
  }
 ],
 "metadata": {
  "kernelspec": {
   "display_name": "py37",
   "language": "python",
   "name": "py37"
  },
  "language_info": {
   "codemirror_mode": {
    "name": "ipython",
    "version": 3
   },
   "file_extension": ".py",
   "mimetype": "text/x-python",
   "name": "python",
   "nbconvert_exporter": "python",
   "pygments_lexer": "ipython3",
   "version": "3.7.6"
  }
 },
 "nbformat": 4,
 "nbformat_minor": 2
}
