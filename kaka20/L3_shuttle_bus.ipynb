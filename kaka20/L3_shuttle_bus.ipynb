{
 "cells": [
  {
   "cell_type": "code",
   "execution_count": null,
   "metadata": {},
   "outputs": [],
   "source": []
  },
  {
   "cell_type": "code",
   "execution_count": null,
   "metadata": {},
   "outputs": [],
   "source": []
  },
  {
   "cell_type": "code",
   "execution_count": 13,
   "metadata": {},
   "outputs": [],
   "source": [
    "timetable=[\"08:00\", \"08:01\", \"08:03\", \"08:02\"]"
   ]
  },
  {
   "cell_type": "code",
   "execution_count": 20,
   "metadata": {},
   "outputs": [],
   "source": [
    "# n ; 운행횟수. 마지막버스를 꼭 타야함. 동시간이만 마지막에 서기 때문에... 풀이면 그 전 차를 타야 한다.\n",
    "# t ; 간격\n",
    "# m ; 최대 수용 인원\n",
    "idebug=0\n",
    "\n",
    "# bustime ; 버스 도착 시간.\n",
    "# pidx ; 대기자 가장 앞 인덱스\n",
    "def bus_block(n, t, m, person, pidx, bustime) :\n",
    "    count=0 # 승차인원\n",
    "    while pidx<len(person):\n",
    "        if person[pidx] <= bustime: # 출발전 도착?\n",
    "            # 승차\n",
    "            count+=1\n",
    "            pidx+=1\n",
    "        else:\n",
    "            if idebug:\n",
    "                print('출발')\n",
    "            break\n",
    "        if count==m :\n",
    "            if idebug:\n",
    "                print('만차')\n",
    "            break\n",
    "    # print(count 명 탑승)\n",
    "    # pidx ; 다음 버스 탈 가장 앞사람 인덱스\n",
    "    return pidx, count\n",
    "\n",
    "# n=운행횟수, t=배차간격, m=버스용량수용인원\n",
    "def solution(n, t, m, timetable):\n",
    "    answer = ''\n",
    "    \n",
    "    #시간을 모두 분으로 변환. numbers list로 변경.\n",
    "# split by :\n",
    "# newvalue = hour *60+ min\n",
    "# newvalue list로 변경.\n",
    "# person = [ newvalue...] \n",
    "# sorting. order by asc\n",
    "    person=[]\n",
    "    for ti in timetable:\n",
    "        t2 = ti.split(':')\n",
    "        person.append( int(t2[0])*60+int(t2[1]) )\n",
    "    person.sort()\n",
    "    if idebug:\n",
    "        print(person)    \n",
    "    \n",
    "    bustime = 540 # 09:00\n",
    "    pidx=0\n",
    "    if n>1:\n",
    "        # 마지막 전 버스까지 태움.\n",
    "        for i in range(n-1):\n",
    "            pidx, cnt= bus_block(n, t, m, person, pidx, bustime)\n",
    "            if idebug:\n",
    "                print(pidx, cnt)\n",
    "            bustime+=t\n",
    "    if idebug:\n",
    "        print('last bus')\n",
    "    pidx, cnt= bus_block(n, t, m, person, pidx, bustime)\n",
    "    if idebug:\n",
    "        print(pidx, cnt)\n",
    "    if cnt<m:\n",
    "        # 마지막버스 자리가 남았다면\n",
    "        answer = bustime\n",
    "    else:\n",
    "        answer = person[pidx-1]-1\n",
    "        \n",
    "    if idebug:\n",
    "        print(answer)\n",
    "    \n",
    "    answer = \"%02d:%02d\"%(answer//60, answer%60)\n",
    "    \n",
    "    return answer"
   ]
  },
  {
   "cell_type": "code",
   "execution_count": 21,
   "metadata": {},
   "outputs": [
    {
     "data": {
      "text/plain": [
       "'09:00'"
      ]
     },
     "execution_count": 21,
     "metadata": {},
     "output_type": "execute_result"
    }
   ],
   "source": [
    "solution(1,1,5,timetable)"
   ]
  },
  {
   "cell_type": "code",
   "execution_count": 2,
   "metadata": {},
   "outputs": [],
   "source": [
    "\n",
    "\n",
    "# 이제 마지막 버스는 타야지.\n",
    "pidxlast, count = bus_block(t, person, pidx)\n",
    "\n",
    "pidxlast는 못 탄 첫번째 사람을 의미.\n",
    "마지막탄 사람의 시간은 person[pidxlast-1] .\n",
    "동일하면 순번으로 밀려서 못탄다.\n",
    "위시간-1분으로 수행.\n",
    "\n",
    "\n",
    "버스에 빈자리가 있다면. 버스 출발시간. "
   ]
  },
  {
   "cell_type": "code",
   "execution_count": null,
   "metadata": {},
   "outputs": [],
   "source": [
    "queue = []\n"
   ]
  }
 ],
 "metadata": {
  "kernelspec": {
   "display_name": "py37",
   "language": "python",
   "name": "py37"
  },
  "language_info": {
   "codemirror_mode": {
    "name": "ipython",
    "version": 3
   },
   "file_extension": ".py",
   "mimetype": "text/x-python",
   "name": "python",
   "nbconvert_exporter": "python",
   "pygments_lexer": "ipython3",
   "version": "3.7.3"
  }
 },
 "nbformat": 4,
 "nbformat_minor": 2
}
