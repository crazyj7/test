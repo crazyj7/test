{
 "cells": [
  {
   "cell_type": "code",
   "execution_count": null,
   "metadata": {},
   "outputs": [],
   "source": []
  },
  {
   "cell_type": "code",
   "execution_count": null,
   "metadata": {},
   "outputs": [],
   "source": []
  },
  {
   "cell_type": "code",
   "execution_count": 38,
   "metadata": {},
   "outputs": [],
   "source": [
    "def solution(weight):\n",
    "    answer = 0\n",
    "    weight.sort()\n",
    "    print(weight)\n",
    "    acc=set()\n",
    "    oldminweight=1\n",
    "    if weight[0]!=1:\n",
    "        return 1\n",
    "    minval=1\n",
    "    maxval=0\n",
    "    for i, x in enumerate(weight):\n",
    "        print('push:', x)\n",
    "        if i==0:\n",
    "            minval=1\n",
    "            maxval=1\n",
    "            continue\n",
    "        if maxval<x-1:\n",
    "            answer=maxval+1\n",
    "            break\n",
    "        maxval+=x\n",
    "    if answer==0:\n",
    "        answer = maxval+1\n",
    "    return answer"
   ]
  },
  {
   "cell_type": "code",
   "execution_count": 39,
   "metadata": {},
   "outputs": [
    {
     "name": "stdout",
     "output_type": "stream",
     "text": [
      "[1, 1, 2, 3, 6, 7, 30]\n",
      "push: 1\n",
      "push: 1\n",
      "push: 2\n",
      "push: 3\n",
      "push: 6\n",
      "push: 7\n",
      "push: 30\n"
     ]
    },
    {
     "data": {
      "text/plain": [
       "21"
      ]
     },
     "execution_count": 39,
     "metadata": {},
     "output_type": "execute_result"
    }
   ],
   "source": [
    "solution([3, 1, 6, 2, 7, 30, 1])"
   ]
  },
  {
   "cell_type": "code",
   "execution_count": null,
   "metadata": {},
   "outputs": [],
   "source": []
  },
  {
   "cell_type": "code",
   "execution_count": null,
   "metadata": {},
   "outputs": [],
   "source": []
  },
  {
   "cell_type": "code",
   "execution_count": null,
   "metadata": {},
   "outputs": [],
   "source": []
  },
  {
   "cell_type": "code",
   "execution_count": null,
   "metadata": {},
   "outputs": [],
   "source": []
  }
 ],
 "metadata": {
  "kernelspec": {
   "display_name": "py37",
   "language": "python",
   "name": "py37"
  },
  "language_info": {
   "codemirror_mode": {
    "name": "ipython",
    "version": 3
   },
   "file_extension": ".py",
   "mimetype": "text/x-python",
   "name": "python",
   "nbconvert_exporter": "python",
   "pygments_lexer": "ipython3",
   "version": "3.7.3"
  }
 },
 "nbformat": 4,
 "nbformat_minor": 2
}
