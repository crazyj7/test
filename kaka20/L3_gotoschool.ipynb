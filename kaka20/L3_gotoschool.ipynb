{
 "cells": [
  {
   "cell_type": "code",
   "execution_count": null,
   "metadata": {},
   "outputs": [],
   "source": []
  },
  {
   "cell_type": "code",
   "execution_count": null,
   "metadata": {},
   "outputs": [],
   "source": []
  },
  {
   "cell_type": "code",
   "execution_count": 25,
   "metadata": {},
   "outputs": [],
   "source": [
    "import copy\n",
    "\n",
    "sol=[]\n",
    "\n",
    "def make_path(m, n, y, x, path):\n",
    "    global sol\n",
    "    if m-1==y and n-1==x :\n",
    "#         path.append([y,x])\n",
    "        path.add(y*m+x)\n",
    "#         print(path)\n",
    "        sol.append(path)\n",
    "        return\n",
    "    if m-1>y:\n",
    "#         path2 = path[:]\n",
    "#         path2.append([y,x])\n",
    "        path2 = copy.copy(path)\n",
    "        path2.add(y*m+x)\n",
    "        make_path(m, n, y+1, x, path2)\n",
    "    if n-1>x:\n",
    "#         path3 = path[:]\n",
    "#         path3.append([y,x])\n",
    "        path3 = copy.copy(path)\n",
    "        path3.add(y*m+x)\n",
    "        make_path(m, n, y, x+1, path3)\n",
    "\n",
    "def solution(m, n, puddles):\n",
    "    global sol\n",
    "    sol=[]\n",
    "    answer = 0\n",
    "    m,n = n,m\n",
    "    newpud = set()\n",
    "    for p in puddles:\n",
    "        newpud.add( (p[1]-1)*m+(p[0]-1) )\n",
    "    path=set()\n",
    "    make_path(m, n, 0, 0, path)\n",
    "#     print(sol)\n",
    "    cnt=0\n",
    "    for s in sol:\n",
    "        if len(s & newpud)==0:\n",
    "            cnt+=1\n",
    "            \n",
    "    answer = cnt\n",
    "    print(answer)\n",
    "    \n",
    "    return answer\n",
    "\n"
   ]
  },
  {
   "cell_type": "code",
   "execution_count": null,
   "metadata": {},
   "outputs": [],
   "source": []
  },
  {
   "cell_type": "code",
   "execution_count": 26,
   "metadata": {},
   "outputs": [
    {
     "name": "stdout",
     "output_type": "stream",
     "text": [
      "4\n"
     ]
    },
    {
     "data": {
      "text/plain": [
       "4"
      ]
     },
     "execution_count": 26,
     "metadata": {},
     "output_type": "execute_result"
    }
   ],
   "source": [
    "solution(4,3,[[2,2]])"
   ]
  },
  {
   "cell_type": "code",
   "execution_count": 29,
   "metadata": {},
   "outputs": [],
   "source": [
    "import copy\n",
    "\n",
    "sol=[]\n",
    "\n",
    "def make_path(m, n, y, x, path):\n",
    "    global sol\n",
    "    if m-1==y and n-1==x :\n",
    "        path.add(y*m+x)\n",
    "        sol.append(path)\n",
    "        return\n",
    "    if m-1>y:\n",
    "        path2 = copy.copy(path)\n",
    "        path2.add(y*m+x)\n",
    "        make_path(m, n, y+1, x, path2)\n",
    "    if n-1>x:\n",
    "        path3 = copy.copy(path)\n",
    "        path3.add(y*m+x)\n",
    "        make_path(m, n, y, x+1, path3)\n",
    "\n",
    "def solution(m, n, puddles):\n",
    "    global sol\n",
    "    sol=[]\n",
    "    answer = 0\n",
    "    m,n = n,m\n",
    "    newpud = set()\n",
    "    for p in puddles:\n",
    "        newpud.add( (p[1]-1)*m+(p[0]-1) )\n",
    "    path=set()\n",
    "    make_path(m, n, 0, 0, path)\n",
    "    cnt=0\n",
    "    for s in sol:\n",
    "        if len(s & newpud)==0:\n",
    "            cnt+=1\n",
    "    \n",
    "    answer = cnt\n",
    "    print(answer)\n",
    "    \n",
    "    return answer\n",
    "\n"
   ]
  },
  {
   "cell_type": "code",
   "execution_count": 30,
   "metadata": {},
   "outputs": [
    {
     "name": "stdout",
     "output_type": "stream",
     "text": [
      "4\n"
     ]
    },
    {
     "data": {
      "text/plain": [
       "4"
      ]
     },
     "execution_count": 30,
     "metadata": {},
     "output_type": "execute_result"
    }
   ],
   "source": [
    "solution(4,3,[[2,2]])"
   ]
  },
  {
   "cell_type": "code",
   "execution_count": 31,
   "metadata": {},
   "outputs": [],
   "source": [
    "## Grid"
   ]
  },
  {
   "cell_type": "code",
   "execution_count": 48,
   "metadata": {},
   "outputs": [],
   "source": [
    "import numpy as np\n",
    "\n",
    "\n",
    "def solution(m, n, puddles):\n",
    "    answer = 0\n",
    "    m,n = n,m\n",
    "    newpud = set()\n",
    "    for p in puddles:\n",
    "        newpud.add( (p[1]-1)*m+(p[0]-1) )\n",
    "        \n",
    "    grid = np.zeros((m,n))\n",
    "    for i in range(m):\n",
    "        for j in range(n):\n",
    "            v=i*m+j\n",
    "            if i==0 and j==0:\n",
    "                grid[i,j] =1\n",
    "            if v in newpud:\n",
    "                grid[i,j] = 0\n",
    "            else:\n",
    "                if i-1>=0:\n",
    "                    cnt = grid[i-1, j]\n",
    "                    if cnt>0:\n",
    "                        grid[i,j] += cnt\n",
    "                        grid[i,j] %= 1000000007\n",
    "                if j-1>=0:\n",
    "                    cnt = grid[i, j-1]\n",
    "                    if cnt>0:\n",
    "                        grid[i,j] += cnt\n",
    "                        grid[i,j] %= 1000000007\n",
    "                    \n",
    "    print(grid)\n",
    "    answer = grid[m-1, n-1]\n",
    "    print(answer)\n",
    "    \n",
    "    return answer\n"
   ]
  },
  {
   "cell_type": "code",
   "execution_count": 49,
   "metadata": {},
   "outputs": [
    {
     "name": "stdout",
     "output_type": "stream",
     "text": [
      "[[1. 1. 1. 1.]\n",
      " [1. 0. 1. 2.]\n",
      " [1. 1. 2. 4.]]\n",
      "4.0\n"
     ]
    },
    {
     "data": {
      "text/plain": [
       "4.0"
      ]
     },
     "execution_count": 49,
     "metadata": {},
     "output_type": "execute_result"
    }
   ],
   "source": [
    "solution(4,3, [[2,2]])"
   ]
  },
  {
   "cell_type": "code",
   "execution_count": null,
   "metadata": {},
   "outputs": [],
   "source": []
  },
  {
   "cell_type": "code",
   "execution_count": 50,
   "metadata": {},
   "outputs": [],
   "source": [
    "import numpy as np\n",
    "\n",
    "\n",
    "def solution(m, n, puddles):\n",
    "    answer = 0\n",
    "    m,n = n,m\n",
    "    newpud = set()\n",
    "    for p in puddles:\n",
    "        newpud.add( (p[1]-1)*n+(p[0]-1) )\n",
    "        \n",
    "    grid = np.zeros((m,n))\n",
    "    for i in range(m):\n",
    "        for j in range(n):\n",
    "            v=i*n+j\n",
    "            if i==0 and j==0:\n",
    "                grid[i,j] =1\n",
    "            if v in newpud:\n",
    "                grid[i,j] = 0\n",
    "            else:\n",
    "                if i-1>=0:\n",
    "                    cnt = grid[i-1, j]\n",
    "                    if cnt>0:\n",
    "                        grid[i,j] += cnt\n",
    "                        grid[i,j] %= 1000000007\n",
    "                if j-1>=0:\n",
    "                    cnt = grid[i, j-1]\n",
    "                    if cnt>0:\n",
    "                        grid[i,j] += cnt\n",
    "                        grid[i,j] %= 1000000007\n",
    "    # print(grid)\n",
    "    answer = grid[m-1, n-1] % 1000000007\n",
    "    print(answer)\n",
    "    return answer"
   ]
  },
  {
   "cell_type": "code",
   "execution_count": null,
   "metadata": {},
   "outputs": [],
   "source": []
  },
  {
   "cell_type": "code",
   "execution_count": null,
   "metadata": {},
   "outputs": [],
   "source": []
  }
 ],
 "metadata": {
  "kernelspec": {
   "display_name": "py37",
   "language": "python",
   "name": "py37"
  },
  "language_info": {
   "codemirror_mode": {
    "name": "ipython",
    "version": 3
   },
   "file_extension": ".py",
   "mimetype": "text/x-python",
   "name": "python",
   "nbconvert_exporter": "python",
   "pygments_lexer": "ipython3",
   "version": "3.7.3"
  }
 },
 "nbformat": 4,
 "nbformat_minor": 2
}
