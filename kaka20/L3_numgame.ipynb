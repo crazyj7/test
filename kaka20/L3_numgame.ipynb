{
 "cells": [
  {
   "cell_type": "code",
   "execution_count": null,
   "metadata": {},
   "outputs": [],
   "source": []
  },
  {
   "cell_type": "code",
   "execution_count": null,
   "metadata": {},
   "outputs": [],
   "source": []
  },
  {
   "cell_type": "code",
   "execution_count": 21,
   "metadata": {},
   "outputs": [],
   "source": [
    "\n",
    "\n",
    "def solution(A, B):\n",
    "    answer = 0\n",
    "    cnt=len(A)\n",
    "    cnt2=len(B)\n",
    "    A.sort()\n",
    "    B.sort()\n",
    "    index=0\n",
    "    i=0\n",
    "    j=0\n",
    "    score=0\n",
    "    print(A)\n",
    "    print(B)\n",
    "    while i<cnt and j<cnt2:\n",
    "        if A[i]>=B[j]:\n",
    "            print('fail', A[i], B[j])\n",
    "            # 현재 매치시 비기거나 진다.\n",
    "            # 선수 교체\n",
    "            tmp = B[j]\n",
    "            del B[j]\n",
    "            cnt2-=1\n",
    "            B.append(tmp)\n",
    "        else:\n",
    "            print('ok', A[i], B[j])\n",
    "            # 현재 매치 승리\n",
    "            i+=1\n",
    "            j+=1\n",
    "            score+=1\n",
    "    print(B)\n",
    "    answer=score\n",
    "    print(answer)\n",
    "    \n",
    "    return answer\n"
   ]
  },
  {
   "cell_type": "code",
   "execution_count": 22,
   "metadata": {},
   "outputs": [
    {
     "name": "stdout",
     "output_type": "stream",
     "text": [
      "[1, 3, 5, 7]\n",
      "[2, 2, 6, 8]\n",
      "ok 1 2\n",
      "fail 3 2\n",
      "ok 3 6\n",
      "ok 5 8\n",
      "[2, 6, 8, 2]\n",
      "3\n"
     ]
    },
    {
     "data": {
      "text/plain": [
       "3"
      ]
     },
     "execution_count": 22,
     "metadata": {},
     "output_type": "execute_result"
    }
   ],
   "source": [
    "A=[5,1,3,7]\n",
    "B=[2,2,6,8]\n",
    "\n",
    "# A=[2,2,2,2]\n",
    "# B=[1,1,1,1]\n",
    "\n",
    "solution(A,B)"
   ]
  },
  {
   "cell_type": "code",
   "execution_count": null,
   "metadata": {},
   "outputs": [],
   "source": []
  },
  {
   "cell_type": "code",
   "execution_count": null,
   "metadata": {},
   "outputs": [],
   "source": []
  }
 ],
 "metadata": {
  "kernelspec": {
   "display_name": "py37",
   "language": "python",
   "name": "py37"
  },
  "language_info": {
   "codemirror_mode": {
    "name": "ipython",
    "version": 3
   },
   "file_extension": ".py",
   "mimetype": "text/x-python",
   "name": "python",
   "nbconvert_exporter": "python",
   "pygments_lexer": "ipython3",
   "version": "3.7.3"
  }
 },
 "nbformat": 4,
 "nbformat_minor": 2
}
