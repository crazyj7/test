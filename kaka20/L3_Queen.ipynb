{
 "cells": [
  {
   "cell_type": "code",
   "execution_count": 20,
   "metadata": {},
   "outputs": [],
   "source": [
    "\n"
   ]
  },
  {
   "cell_type": "code",
   "execution_count": 72,
   "metadata": {},
   "outputs": [],
   "source": [
    "import copy\n",
    "\n",
    "\n",
    "fullmat = set() # 0,..,n*n-1\n",
    "solset = set() # 해 집합\n",
    "qmat=[]   # 퀸의 경로 매트릭스 list. \n",
    "idebug=0\n",
    "\n",
    "def printmat(mat, n):\n",
    "    print('')\n",
    "    for i in range(n):\n",
    "        for j in range(n):\n",
    "            idx=i*n+j\n",
    "            if idx in mat:\n",
    "                print('*', end='')\n",
    "            else:\n",
    "                print('o', end='')\n",
    "        print('')\n",
    "    \n",
    "def qput(mat, n, pos):\n",
    "    # matrix에서 pos에 돌을 놓음.\n",
    "    # pos의 위치.\n",
    "    r = pos//n\n",
    "    c = pos%n\n",
    "    for i in range(n):\n",
    "        mat.add( r*n+i) # 가로\n",
    "        mat.add( i*n+c ) # 세로\n",
    "        rp = r+i\n",
    "        rm = r-i\n",
    "        cp = c+i\n",
    "        cm = c-i\n",
    "        if rp<n:\n",
    "            if cp<n:\n",
    "                mat.add(rp*n+cp)\n",
    "            if cm>=0:\n",
    "                mat.add(rp*n+cm)\n",
    "        if rm>=0:\n",
    "            if cp<n:\n",
    "                mat.add(rm*n+cp)\n",
    "            if cm>=0:\n",
    "                mat.add(rm*n+cm)\n",
    "        \n",
    "def try_put(mat, n, pos, idepth, put):\n",
    "    global solset\n",
    "    if idepth==0:\n",
    "        if idebug:\n",
    "            print('count=0 found! case.', put)\n",
    "        solset.add(frozenset(put))  # 솔루션 추가\n",
    "        return 1\n",
    "    if idebug:\n",
    "        print('depth=', idepth, put)\n",
    "    if (pos==-1):\n",
    "        # start\n",
    "        remainmat = fullmat\n",
    "    else:\n",
    "#         qput(mat, n, pos)\n",
    "        mat.update(mat.union(qmat[pos])) \n",
    "        remainmat = fullmat-mat\n",
    "    if len(remainmat)==0:\n",
    "        return\n",
    "    if idebug:\n",
    "        print('remainmat=', remainmat)\n",
    "    for x in remainmat:\n",
    "        put2 = copy.copy(put)\n",
    "        put2.add(x)\n",
    "        mat2=copy.copy(mat)\n",
    "        try_put(mat2, n, x, idepth-1, put2)\n",
    "    \n",
    "\n",
    "def solution(n):\n",
    "    global fullmat\n",
    "    global qmat\n",
    "    \n",
    "    answer = 0\n",
    "    mat = set()\n",
    "    fullmat = set()\n",
    "    for i in range(n*n):\n",
    "        fullmat.add(i)\n",
    "        newmat = set()\n",
    "        qput(newmat, n, i)\n",
    "        qmat.append(newmat)\n",
    "    \n",
    "    mat.clear()\n",
    "    try_put(mat, n, -1, n, set())\n",
    "    \n",
    "    print(solset)\n",
    "    answer = len(solset)\n",
    "    \n",
    "    return answer"
   ]
  },
  {
   "cell_type": "code",
   "execution_count": 73,
   "metadata": {},
   "outputs": [
    {
     "name": "stdout",
     "output_type": "stream",
     "text": [
      "{frozenset({8, 1, 14, 7}), frozenset({2, 11, 4, 13})}\n"
     ]
    },
    {
     "data": {
      "text/plain": [
       "2"
      ]
     },
     "execution_count": 73,
     "metadata": {},
     "output_type": "execute_result"
    }
   ],
   "source": [
    "solution(4)"
   ]
  },
  {
   "cell_type": "code",
   "execution_count": 63,
   "metadata": {},
   "outputs": [
    {
     "data": {
      "text/plain": [
       "[1, 2, 3, 4, 5]"
      ]
     },
     "execution_count": 63,
     "metadata": {},
     "output_type": "execute_result"
    }
   ],
   "source": [
    "# list 확장. extend로 하면 inplace (원본 변경)\n",
    "a=[1,2,3]\n",
    "b=[4,5]\n",
    "a.extend(b)\n",
    "a"
   ]
  },
  {
   "cell_type": "code",
   "execution_count": 65,
   "metadata": {},
   "outputs": [
    {
     "data": {
      "text/plain": [
       "{1, 4}"
      ]
     },
     "execution_count": 65,
     "metadata": {},
     "output_type": "execute_result"
    }
   ],
   "source": [
    "# 차집합\n",
    "a={1,2,3,4}\n",
    "b={2,3,5}\n",
    "a-b"
   ]
  },
  {
   "cell_type": "code",
   "execution_count": 68,
   "metadata": {},
   "outputs": [
    {
     "name": "stdout",
     "output_type": "stream",
     "text": [
      "{1, 2, 3, 4, 5}\n",
      "{1, 2, 3, 4} 1757457731144\n"
     ]
    }
   ],
   "source": [
    "# union을 하면 inplace가 안된다. 리턴값을 받아야 한다.\n",
    "# a는 변화없음.\n",
    "print(a.union(b))\n",
    "print(a, id(a))"
   ]
  },
  {
   "cell_type": "code",
   "execution_count": 69,
   "metadata": {},
   "outputs": [
    {
     "name": "stdout",
     "output_type": "stream",
     "text": [
      "{1, 2, 3, 4, 5} 1757457731144\n"
     ]
    }
   ],
   "source": [
    "a.update(a.union(b))\n",
    "print(a, id(a))"
   ]
  },
  {
   "cell_type": "code",
   "execution_count": 49,
   "metadata": {},
   "outputs": [],
   "source": [
    "a=set()\n",
    "a.add(2)"
   ]
  },
  {
   "cell_type": "code",
   "execution_count": 50,
   "metadata": {},
   "outputs": [
    {
     "data": {
      "text/plain": [
       "{2}"
      ]
     },
     "execution_count": 50,
     "metadata": {},
     "output_type": "execute_result"
    }
   ],
   "source": [
    "a"
   ]
  },
  {
   "cell_type": "code",
   "execution_count": 51,
   "metadata": {},
   "outputs": [
    {
     "ename": "TypeError",
     "evalue": "unhashable type: 'set'",
     "output_type": "error",
     "traceback": [
      "\u001b[1;31m---------------------------------------------------------------------------\u001b[0m",
      "\u001b[1;31mTypeError\u001b[0m                                 Traceback (most recent call last)",
      "\u001b[1;32m<ipython-input-51-ef4347847cdd>\u001b[0m in \u001b[0;36m<module>\u001b[1;34m\u001b[0m\n\u001b[0;32m      1\u001b[0m \u001b[0maa\u001b[0m\u001b[1;33m=\u001b[0m\u001b[0mset\u001b[0m\u001b[1;33m(\u001b[0m\u001b[1;33m)\u001b[0m\u001b[1;33m\u001b[0m\u001b[1;33m\u001b[0m\u001b[0m\n\u001b[1;32m----> 2\u001b[1;33m \u001b[0maa\u001b[0m\u001b[1;33m.\u001b[0m\u001b[0madd\u001b[0m\u001b[1;33m(\u001b[0m\u001b[0ma\u001b[0m\u001b[1;33m)\u001b[0m\u001b[1;33m\u001b[0m\u001b[1;33m\u001b[0m\u001b[0m\n\u001b[0m",
      "\u001b[1;31mTypeError\u001b[0m: unhashable type: 'set'"
     ]
    }
   ],
   "source": [
    "aa=set()\n",
    "aa.add(a)"
   ]
  },
  {
   "cell_type": "code",
   "execution_count": null,
   "metadata": {},
   "outputs": [],
   "source": []
  }
 ],
 "metadata": {
  "kernelspec": {
   "display_name": "py37",
   "language": "python",
   "name": "py37"
  },
  "language_info": {
   "codemirror_mode": {
    "name": "ipython",
    "version": 3
   },
   "file_extension": ".py",
   "mimetype": "text/x-python",
   "name": "python",
   "nbconvert_exporter": "python",
   "pygments_lexer": "ipython3",
   "version": "3.7.6"
  }
 },
 "nbformat": 4,
 "nbformat_minor": 2
}
