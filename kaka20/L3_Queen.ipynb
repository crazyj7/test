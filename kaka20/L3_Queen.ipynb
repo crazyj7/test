{
 "cells": [
  {
   "cell_type": "code",
   "execution_count": null,
   "metadata": {},
   "outputs": [],
   "source": []
  },
  {
   "cell_type": "code",
   "execution_count": 45,
   "metadata": {},
   "outputs": [],
   "source": [
    "def printmat(mat, n):\n",
    "    print('')\n",
    "    for i in range(n):\n",
    "        for j in range(n):\n",
    "            idx=i*n+j\n",
    "            if idx in mat:\n",
    "                print('*', end='')\n",
    "            else:\n",
    "                print('o', end='')\n",
    "        print('')\n",
    "    \n",
    "def qput(mat, n, pos):\n",
    "    # matrix에서 pos에 돌을 놓음.\n",
    "    # pos의 위치.\n",
    "    r = pos//n\n",
    "    c = pos%n\n",
    "    for i in range(n):\n",
    "        mat.add( r*n+i) # 가로\n",
    "        mat.add( i*n+c ) # 세로\n",
    "        rp = r+i\n",
    "        rm = r-i\n",
    "        cp = c+i\n",
    "        cm = c-i\n",
    "        if rp<n:\n",
    "            if cp<n:\n",
    "                mat.add(rp*n+cp)\n",
    "            if cm>=0:\n",
    "                mat.add(rp*n+cm)\n",
    "        if rm>=0:\n",
    "            if cp<n:\n",
    "                mat.add(rm*n+cp)\n",
    "            if cm>=0:\n",
    "                mat.add(rm*n+cm)\n",
    "        \n",
    "    \n",
    "\n",
    "def solution(n):\n",
    "    answer = 0\n",
    "    mat = set()\n",
    "    printmat(mat, n)\n",
    "    \n",
    "    mat.clear()\n",
    "    for i in range(n*n):\n",
    "        mat.clear()\n",
    "        qput(mat, n, i)\n",
    "        printmat(mat, n)\n",
    "        \n",
    "    qput(mat, n, 5)\n",
    "    print('')\n",
    "    printmat(mat, n)\n",
    "    \n",
    "    \n",
    "    return answer"
   ]
  },
  {
   "cell_type": "code",
   "execution_count": 46,
   "metadata": {},
   "outputs": [
    {
     "name": "stdout",
     "output_type": "stream",
     "text": [
      "\n",
      "oooo\n",
      "oooo\n",
      "oooo\n",
      "oooo\n",
      "\n",
      "****\n",
      "**oo\n",
      "*o*o\n",
      "*oo*\n",
      "\n",
      "****\n",
      "***o\n",
      "o*o*\n",
      "o*oo\n",
      "\n",
      "****\n",
      "o***\n",
      "*o*o\n",
      "oo*o\n",
      "\n",
      "****\n",
      "oo**\n",
      "o*o*\n",
      "*oo*\n",
      "\n",
      "**oo\n",
      "****\n",
      "**oo\n",
      "*o*o\n",
      "\n",
      "***o\n",
      "****\n",
      "***o\n",
      "o*o*\n",
      "\n",
      "o***\n",
      "****\n",
      "o***\n",
      "*o*o\n",
      "\n",
      "oo**\n",
      "****\n",
      "oo**\n",
      "o*o*\n",
      "\n",
      "*o*o\n",
      "**oo\n",
      "****\n",
      "**oo\n",
      "\n",
      "o*o*\n",
      "***o\n",
      "****\n",
      "***o\n",
      "\n",
      "*o*o\n",
      "o***\n",
      "****\n",
      "o***\n",
      "\n",
      "o*o*\n",
      "oo**\n",
      "****\n",
      "oo**\n",
      "\n",
      "*oo*\n",
      "*o*o\n",
      "**oo\n",
      "****\n",
      "\n",
      "o*oo\n",
      "o*o*\n",
      "***o\n",
      "****\n",
      "\n",
      "oo*o\n",
      "*o*o\n",
      "o***\n",
      "****\n",
      "\n",
      "*oo*\n",
      "o*o*\n",
      "oo**\n",
      "****\n",
      "\n",
      "\n",
      "****\n",
      "****\n",
      "****\n",
      "****\n"
     ]
    },
    {
     "data": {
      "text/plain": [
       "0"
      ]
     },
     "execution_count": 46,
     "metadata": {},
     "output_type": "execute_result"
    }
   ],
   "source": [
    "solution(4)"
   ]
  },
  {
   "cell_type": "code",
   "execution_count": 30,
   "metadata": {},
   "outputs": [],
   "source": [
    "a=[1,2,3]\n",
    "b=[4,5]"
   ]
  },
  {
   "cell_type": "code",
   "execution_count": 31,
   "metadata": {},
   "outputs": [],
   "source": [
    "a.extend(b)"
   ]
  },
  {
   "cell_type": "code",
   "execution_count": 8,
   "metadata": {},
   "outputs": [
    {
     "data": {
      "text/plain": [
       "[1, 2, 3, 4, 5]"
      ]
     },
     "execution_count": 8,
     "metadata": {},
     "output_type": "execute_result"
    }
   ],
   "source": [
    "a"
   ]
  },
  {
   "cell_type": "code",
   "execution_count": 22,
   "metadata": {},
   "outputs": [],
   "source": [
    "a=set()"
   ]
  },
  {
   "cell_type": "code",
   "execution_count": 23,
   "metadata": {},
   "outputs": [],
   "source": [
    "a.union"
   ]
  },
  {
   "cell_type": "code",
   "execution_count": null,
   "metadata": {},
   "outputs": [],
   "source": []
  }
 ],
 "metadata": {
  "kernelspec": {
   "display_name": "py37",
   "language": "python",
   "name": "py37"
  },
  "language_info": {
   "codemirror_mode": {
    "name": "ipython",
    "version": 3
   },
   "file_extension": ".py",
   "mimetype": "text/x-python",
   "name": "python",
   "nbconvert_exporter": "python",
   "pygments_lexer": "ipython3",
   "version": "3.7.3"
  }
 },
 "nbformat": 4,
 "nbformat_minor": 2
}
