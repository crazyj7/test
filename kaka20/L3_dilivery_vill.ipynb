{
 "cells": [
  {
   "cell_type": "code",
   "execution_count": null,
   "metadata": {},
   "outputs": [],
   "source": []
  },
  {
   "cell_type": "code",
   "execution_count": null,
   "metadata": {},
   "outputs": [],
   "source": []
  },
  {
   "cell_type": "code",
   "execution_count": 30,
   "metadata": {},
   "outputs": [],
   "source": [
    "# N = 마을개수\n",
    "# road는 길 (마을1,마을2, 거리)\n",
    "# K=이동가능 거리\n",
    "\n",
    "idebug=0\n",
    "\n",
    "def traverse_graph(graph, path, k, allpathset):\n",
    "    # 현재까지 온길 path\n",
    "    # 이동 가능 범위 k\n",
    "    if k==0: # no power\n",
    "        if idebug:\n",
    "            print(path)\n",
    "        return\n",
    "    \n",
    "    if len(path)==0: # start\n",
    "        path.append(1) # start with 1\n",
    "        allpathset.add(1)\n",
    "        return traverse_graph(graph, path, k, allpathset)\n",
    "        \n",
    "    # 현재 위치는 path의 끝.\n",
    "    now = path[len(path)-1]\n",
    "    if idebug:\n",
    "        print('now=', now)\n",
    "    linkpath=[]\n",
    "    for g in graph:\n",
    "        if g[0]==now: # 왼쪽 일치\n",
    "            if idebug:\n",
    "                print('now connect to left ', g[1], k)\n",
    "            if k-g[2] >=0 :  # power가 남아있어야 함.\n",
    "                if g[1] not in path :  # 지나온길 중복방문제거\n",
    "                    path2=path[:]\n",
    "                    path2.append(g[1])\n",
    "                    allpathset.add(g[1])\n",
    "                    k2=k-g[2]\n",
    "                    if k2==0:\n",
    "                        if idebug:\n",
    "                            print(path2, ' no power', k2) # 여기까지.\n",
    "                    else:\n",
    "                        if idebug:\n",
    "                            print('traverse_graph: ', path2, k2)\n",
    "                        traverse_graph(graph, path2, k2, allpathset)\n",
    "            else: # 파워부족\n",
    "                if idebug:\n",
    "                    print(path, 'no power at', g[1], k)\n",
    "                # 여기까지 갈 수 있음.\n",
    "        elif g[1]==now: # 오른쪽 일치\n",
    "#             print('now connect to right ', g[0])\n",
    "            if k-g[2] >=0 :  # power가 남아있어야 함.\n",
    "                if g[0] not in path :  # 지나온길 중복방문제거\n",
    "                    path2=path[:]\n",
    "                    path2.append(g[0])\n",
    "                    allpathset.add(g[0])\n",
    "                    k2=k-g[2]\n",
    "                    if k2==0:\n",
    "                        if idebug:\n",
    "                            print(path2) # 여기까지.\n",
    "                    else:\n",
    "                        traverse_graph(graph, path2, k2, allpathset)\n",
    "            else: # 파워부족\n",
    "                if idebug:\n",
    "                    print(path)\n",
    "                # 여기까지 갈 수 있음.\n",
    "            \n",
    "\n",
    "def solution(N, road, K):\n",
    "    answer = 0\n",
    "\n",
    "    path=[]\n",
    "    allpathset=set()\n",
    "    traverse_graph(road, path, K, allpathset)\n",
    "\n",
    "    if idebug:\n",
    "        print(allpathset)\n",
    "    answer = len(allpathset)\n",
    "\n",
    "    return answer"
   ]
  },
  {
   "cell_type": "code",
   "execution_count": 37,
   "metadata": {},
   "outputs": [
    {
     "name": "stdout",
     "output_type": "stream",
     "text": [
      "Hello Python\n",
      "now= 1\n",
      "now connect to left  2 3\n",
      "traverse_graph:  [1, 2] 2\n",
      "now= 2\n",
      "now connect to left  3 2\n",
      "[1, 2] no power at 3 2\n",
      "[1, 2, 5]\n",
      "now connect to left  4 3\n",
      "traverse_graph:  [1, 4] 1\n",
      "now= 4\n",
      "[1, 4]\n",
      "[1, 4]\n",
      "{1, 2, 4, 5}\n"
     ]
    },
    {
     "data": {
      "text/plain": [
       "4"
      ]
     },
     "execution_count": 37,
     "metadata": {},
     "output_type": "execute_result"
    }
   ],
   "source": [
    "N=5\n",
    "road=[[1,2,1],[2,3,3],[5,2,2],[1,4,2],[5,3,1],[5,4,2]]\n",
    "K=3\n",
    "solution(N,road,K)"
   ]
  },
  {
   "cell_type": "code",
   "execution_count": 38,
   "metadata": {},
   "outputs": [
    {
     "name": "stdout",
     "output_type": "stream",
     "text": [
      "Hello Python\n",
      "now= 1\n",
      "now connect to left  2 4\n",
      "traverse_graph:  [1, 2] 3\n",
      "now= 2\n",
      "now connect to left  3 3\n",
      "traverse_graph:  [1, 2, 3] 1\n",
      "now= 3\n",
      "[1, 2, 3]\n",
      "[1, 2, 3]\n",
      "now connect to left  4 1\n",
      "[1, 2, 3] no power at 4 1\n",
      "now connect to left  5 1\n",
      "[1, 2, 3] no power at 5 1\n",
      "now connect to left  5 1\n",
      "[1, 2, 3] no power at 5 1\n",
      "now connect to left  3 4\n",
      "traverse_graph:  [1, 3] 2\n",
      "now= 3\n",
      "[1, 3, 2]\n",
      "now connect to left  4 2\n",
      "[1, 3] no power at 4 2\n",
      "now connect to left  5 2\n",
      "[1, 3, 5]  no power 0\n",
      "now connect to left  5 2\n",
      "[1, 3] no power at 5 2\n",
      "{1, 2, 3, 5}\n"
     ]
    },
    {
     "data": {
      "text/plain": [
       "4"
      ]
     },
     "execution_count": 38,
     "metadata": {},
     "output_type": "execute_result"
    }
   ],
   "source": [
    "N=6\n",
    "road=[[1,2,1],[1,3,2],[2,3,2],[3,4,3],[3,5,2],[3,5,3],[5,6,1]]\n",
    "K=4\n",
    "solution(N,road,K)"
   ]
  },
  {
   "cell_type": "code",
   "execution_count": null,
   "metadata": {},
   "outputs": [],
   "source": []
  },
  {
   "cell_type": "code",
   "execution_count": null,
   "metadata": {},
   "outputs": [],
   "source": []
  },
  {
   "cell_type": "code",
   "execution_count": null,
   "metadata": {},
   "outputs": [],
   "source": []
  },
  {
   "cell_type": "code",
   "execution_count": 53,
   "metadata": {},
   "outputs": [],
   "source": [
    "# N = 마을개수\n",
    "# road는 길 (마을1,마을2, 거리)\n",
    "# K=이동가능 거리\n",
    "\n",
    "import copy\n",
    "\n",
    "idebug=0\n",
    "allpathset=set()\n",
    "connectmap=dict()\n",
    "\n",
    "def traverse_graph(path, k, now):\n",
    "    global allpathset\n",
    "\n",
    "    # 이동 가능 범위 k\n",
    "    if k==0: # no power\n",
    "        if idebug:\n",
    "            print(path)\n",
    "        return\n",
    "    \n",
    "    # 현재 위치는 path의 끝.\n",
    "#     now = path[len(path)-1]\n",
    "    if idebug:\n",
    "        print('now=', now)\n",
    "        \n",
    "    # if now in connectmap :\n",
    "    for g in connectmap[now]:\n",
    "        if k-g[1] >=0 :  # power가 남아있어야 함.\n",
    "            if g[0] not in path :  # 지나온길 중복방문제거\n",
    "                path2=copy.copy(path)\n",
    "                path2.add(g[0])\n",
    "                allpathset.add(g[0])\n",
    "                k2=k-g[1]\n",
    "                if k2==0:\n",
    "                    if idebug:\n",
    "                        print(path2, ' no power', k2) # 여기까지.\n",
    "                else:\n",
    "                    if idebug:\n",
    "                        print('traverse_graph: ', path2, k2)\n",
    "                    traverse_graph(path2, k2, g[0])\n",
    "        else: # 파워부족\n",
    "            if idebug:\n",
    "                print(path)\n",
    "                # 여기까지 갈 수 있음.\n",
    "\n",
    "\n",
    "def solution(N, road, K):\n",
    "    global connectmap\n",
    "    answer = 0\n",
    "    path=set()\n",
    "    connectmap=dict()  # 마을1 = list of  연결마을, cost\n",
    "    for i in range(1, N+1) :\n",
    "        connectmap[i]=[]\n",
    "        \n",
    "    # 중복길 제거\n",
    "    road.sort()\n",
    "    road2=[]\n",
    "    old1, old2 = 0,0\n",
    "    for r in road:\n",
    "        if old1==r[0] and old2==r[1]:\n",
    "            continue\n",
    "        road2.append(r)\n",
    "    old1, old2 = r[0], r[1]\n",
    "        \n",
    "    for i,r in enumerate(road2):\n",
    "        connectmap[r[0]].append( (r[1], r[2]) )\n",
    "        connectmap[r[1]].append( (r[0], r[2]) )\n",
    "        \n",
    "    if idebug:\n",
    "        print(connectmap)\n",
    "        \n",
    "    path.add(1) # start with 1\n",
    "    allpathset.add(1)\n",
    "    traverse_graph(path, K, 1)\n",
    "\n",
    "    if idebug:\n",
    "        print(allpathset)\n",
    "    answer = len(allpathset)\n",
    "\n",
    "    return answer"
   ]
  },
  {
   "cell_type": "code",
   "execution_count": 54,
   "metadata": {},
   "outputs": [
    {
     "data": {
      "text/plain": [
       "4"
      ]
     },
     "execution_count": 54,
     "metadata": {},
     "output_type": "execute_result"
    }
   ],
   "source": [
    "N=6\n",
    "road=[[1,2,1],[1,3,2],[2,3,2],[3,4,3],[3,5,2],[3,5,3],[5,6,1]]\n",
    "K=4\n",
    "solution(N,road,K)"
   ]
  },
  {
   "cell_type": "code",
   "execution_count": 55,
   "metadata": {},
   "outputs": [],
   "source": [
    "## BFS"
   ]
  },
  {
   "cell_type": "code",
   "execution_count": 56,
   "metadata": {},
   "outputs": [],
   "source": []
  },
  {
   "cell_type": "code",
   "execution_count": 67,
   "metadata": {},
   "outputs": [],
   "source": [
    "from queue import Queue\n",
    "\n",
    "\n",
    "def bfs(connectmap, K):\n",
    "    costmap = dict()\n",
    "    # 너비 우선탐색\n",
    "    q = Queue()\n",
    "    q.put(1)\n",
    "    costmap[1] = 0 # cost zero.\n",
    "    while not q.empty():\n",
    "        # 큐에서 deque \n",
    "        cur = q.get(block=False)\n",
    "#         print('costmap=', costmap)\n",
    "#         print(\"pop=\", cur, 'qsize=', q.qsize())\n",
    "        \n",
    "        # cur 과 연결된 목록을 추가한다.\n",
    "        for i, el in enumerate(connectmap[cur][0]):\n",
    "            if el not in costmap:\n",
    "                # 방문이력이 없는 것만 추가.\n",
    "#                 print(\"push=\", el)\n",
    "                q.put(el)\n",
    "                costmap[el]=connectmap[cur][1][i] + costmap[cur]\n",
    "            else:\n",
    "                # 방문한적은 있어. \n",
    "                # 하지만 더 코스트가 싸면??\n",
    "                cost = connectmap[cur][1][i] + costmap[cur]\n",
    "                if cost < costmap[el]:\n",
    "                    costmap[el]=cost\n",
    "#                     print('update cost')\n",
    "    return costmap\n",
    "\n",
    "\n",
    "\n",
    "\n",
    "def solution(N, road, K):\n",
    "    answer = 0\n",
    "    connectmap=dict()  # 마을1 = list of  연결마을, cost\n",
    "    for i in range(1, len(road)+1) :\n",
    "        connectmap[i]=[ [], [] ]\n",
    "        \n",
    "    # 중복길 제거\n",
    "    road.sort()\n",
    "    road2=[]\n",
    "    old1, old2 = 0,0\n",
    "    for r in road:\n",
    "        if old1==r[0] and old2==r[1]:\n",
    "            continue\n",
    "        road2.append(r)\n",
    "    old1, old2 = r[0], r[1]\n",
    "\n",
    "    \n",
    "    for i,r in enumerate(road2):\n",
    "        connectmap[r[0]][0].append(r[1])\n",
    "        connectmap[r[0]][1].append(r[2])\n",
    "        connectmap[r[1]][0].append(r[0])\n",
    "        connectmap[r[1]][1].append(r[2])\n",
    "        \n",
    "    costmap = bfs(connectmap, K)\n",
    "    \n",
    "    answer=0\n",
    "    for k2,v2 in costmap.items():\n",
    "        if v2 <= K:\n",
    "            answer+=1\n",
    "\n",
    "    return answer\n",
    "\n",
    "\n"
   ]
  },
  {
   "cell_type": "code",
   "execution_count": 69,
   "metadata": {},
   "outputs": [
    {
     "name": "stdout",
     "output_type": "stream",
     "text": [
      "costmap= {1: 0}\n",
      "pop= 1 qsize= 0\n",
      "push= 2\n",
      "push= 3\n",
      "costmap= {1: 0, 2: 1, 3: 2}\n",
      "pop= 2 qsize= 1\n",
      "costmap= {1: 0, 2: 1, 3: 2}\n",
      "pop= 3 qsize= 0\n",
      "push= 4\n",
      "push= 5\n",
      "costmap= {1: 0, 2: 1, 3: 2, 4: 5, 5: 4}\n",
      "pop= 4 qsize= 1\n",
      "costmap= {1: 0, 2: 1, 3: 2, 4: 5, 5: 4}\n",
      "pop= 5 qsize= 0\n",
      "push= 6\n",
      "costmap= {1: 0, 2: 1, 3: 2, 4: 5, 5: 4, 6: 5}\n",
      "pop= 6 qsize= 0\n"
     ]
    },
    {
     "data": {
      "text/plain": [
       "4"
      ]
     },
     "execution_count": 69,
     "metadata": {},
     "output_type": "execute_result"
    }
   ],
   "source": [
    "N=6\n",
    "road=[[1,2,1],[1,3,2],[2,3,2],[3,4,3],[3,5,3],[3,5,2],[5,6,1]]\n",
    "K=4\n",
    "solution(N,road,K)"
   ]
  },
  {
   "cell_type": "code",
   "execution_count": 48,
   "metadata": {},
   "outputs": [
    {
     "data": {
      "text/plain": [
       "[[1, 2, 1], [1, 3, 2], [2, 3, 2], [3, 4, 3], [3, 5, 3], [3, 5, 2], [5, 6, 1]]"
      ]
     },
     "execution_count": 48,
     "metadata": {},
     "output_type": "execute_result"
    }
   ],
   "source": [
    "road"
   ]
  },
  {
   "cell_type": "code",
   "execution_count": 49,
   "metadata": {},
   "outputs": [],
   "source": [
    "road.sort()"
   ]
  },
  {
   "cell_type": "code",
   "execution_count": 50,
   "metadata": {},
   "outputs": [
    {
     "data": {
      "text/plain": [
       "[[1, 2, 1], [1, 3, 2], [2, 3, 2], [3, 4, 3], [3, 5, 2], [3, 5, 3], [5, 6, 1]]"
      ]
     },
     "execution_count": 50,
     "metadata": {},
     "output_type": "execute_result"
    }
   ],
   "source": [
    "road"
   ]
  },
  {
   "cell_type": "code",
   "execution_count": 51,
   "metadata": {},
   "outputs": [],
   "source": [
    "road2=[]\n",
    "old1, old2 = 0,0\n",
    "for r in road:\n",
    "    if old1==r[0] and old2==r[1]:\n",
    "        continue\n",
    "    road2.append(r)\n",
    "    old1, old2 = r[0], r[1]"
   ]
  },
  {
   "cell_type": "code",
   "execution_count": 52,
   "metadata": {},
   "outputs": [
    {
     "data": {
      "text/plain": [
       "[[1, 2, 1], [1, 3, 2], [2, 3, 2], [3, 4, 3], [3, 5, 2], [5, 6, 1]]"
      ]
     },
     "execution_count": 52,
     "metadata": {},
     "output_type": "execute_result"
    }
   ],
   "source": [
    "road2"
   ]
  },
  {
   "cell_type": "code",
   "execution_count": 42,
   "metadata": {},
   "outputs": [],
   "source": [
    "connectmap={ 1:[(2,3), (4,5)], 2:[(1,1),(2,2)]}"
   ]
  },
  {
   "cell_type": "code",
   "execution_count": 43,
   "metadata": {},
   "outputs": [
    {
     "data": {
      "text/plain": [
       "{1: [(2, 3), (4, 5)], 2: [(1, 1), (2, 2)]}"
      ]
     },
     "execution_count": 43,
     "metadata": {},
     "output_type": "execute_result"
    }
   ],
   "source": [
    "connectmap"
   ]
  },
  {
   "cell_type": "code",
   "execution_count": 44,
   "metadata": {},
   "outputs": [
    {
     "data": {
      "text/plain": [
       "True"
      ]
     },
     "execution_count": 44,
     "metadata": {},
     "output_type": "execute_result"
    }
   ],
   "source": [
    "2 in connectmap"
   ]
  },
  {
   "cell_type": "code",
   "execution_count": 75,
   "metadata": {},
   "outputs": [],
   "source": [
    "node = dict()\n",
    "node[1]=0\n",
    "node[2]=1e10"
   ]
  },
  {
   "cell_type": "code",
   "execution_count": 79,
   "metadata": {},
   "outputs": [
    {
     "data": {
      "text/plain": [
       "[(2, 10000000000.0), (1, 0)]"
      ]
     },
     "execution_count": 79,
     "metadata": {},
     "output_type": "execute_result"
    }
   ],
   "source": [
    "sorted(node.items(), key=lambda x : x[1], reverse=True)"
   ]
  },
  {
   "cell_type": "code",
   "execution_count": 80,
   "metadata": {},
   "outputs": [
    {
     "data": {
      "text/plain": [
       "{1: 0, 2: 10000000000.0}"
      ]
     },
     "execution_count": 80,
     "metadata": {},
     "output_type": "execute_result"
    }
   ],
   "source": [
    "node"
   ]
  },
  {
   "cell_type": "code",
   "execution_count": 70,
   "metadata": {},
   "outputs": [
    {
     "data": {
      "text/plain": [
       "{1: [(2, 1), (3, 2)],\n",
       " 2: [(1, 1), (3, 2)],\n",
       " 3: [(1, 2), (2, 2), (4, 3), (5, 2), (5, 3)],\n",
       " 4: [(3, 3)],\n",
       " 5: [(3, 2), (3, 3), (6, 1)],\n",
       " 6: [(5, 1)]}"
      ]
     },
     "execution_count": 70,
     "metadata": {},
     "output_type": "execute_result"
    }
   ],
   "source": [
    "connectmap"
   ]
  },
  {
   "cell_type": "code",
   "execution_count": 74,
   "metadata": {},
   "outputs": [],
   "source": [
    "a=1e10"
   ]
  },
  {
   "cell_type": "code",
   "execution_count": 120,
   "metadata": {},
   "outputs": [],
   "source": [
    "def prim(connectmap):\n",
    "    house=len(connectmap)\n",
    "    inf = 1e10\n",
    "    node=dict()\n",
    "    parent=dict()\n",
    "    nodeorder = []\n",
    "    mst=[]\n",
    "    # 1번 방을 시작.\n",
    "    for i in range(1, house+1):\n",
    "        node[i] = inf\n",
    "    node[1] = 0\n",
    "    parent[1]=0\n",
    "    for i in range(1, house+1):\n",
    "        nodeorder.append( (node[i], i))\n",
    "    while len(nodeorder)>1:\n",
    "        nodeorder.sort()\n",
    "        print(nodeorder)\n",
    "        cur = nodeorder.pop(0)\n",
    "        print('current=', cur[0], 'index=', cur[1])\n",
    "        for itm in connectmap[cur[1]]:\n",
    "            print(itm)\n",
    "            if node[itm[0]]>itm[1]:\n",
    "                node[itm[0]]=itm[1] # 노드값을 작게.\n",
    "                parent[itm[0]]=cur[1]\n",
    "        print(node)\n",
    "    print(node)\n",
    "    print(parent)\n",
    "    allcost=dict()\n",
    "    allcost[1]=0 #1번방은 0. (루트)\n",
    "    for n,p in parent.items():\n",
    "        c=node[n]\n",
    "#         print('node=', n, 'parent=', p)\n",
    "        if p!=0:\n",
    "            while parent[p]!=0:\n",
    "#                 print('add=', node[p])\n",
    "                c+=node[p]\n",
    "                p = parent[p]\n",
    "#         print(c)\n",
    "        allcost[n]=c\n",
    "#     print(allcost)\n",
    "    return node, parent, allcost        "
   ]
  },
  {
   "cell_type": "code",
   "execution_count": 121,
   "metadata": {},
   "outputs": [
    {
     "name": "stdout",
     "output_type": "stream",
     "text": [
      "[(0, 1), (10000000000.0, 2), (10000000000.0, 3), (10000000000.0, 4), (10000000000.0, 5), (10000000000.0, 6)]\n",
      "current= 0 index= 1\n",
      "(2, 1)\n",
      "(3, 2)\n",
      "{1: 0, 2: 1, 3: 2, 4: 10000000000.0, 5: 10000000000.0, 6: 10000000000.0}\n",
      "[(10000000000.0, 2), (10000000000.0, 3), (10000000000.0, 4), (10000000000.0, 5), (10000000000.0, 6)]\n",
      "current= 10000000000.0 index= 2\n",
      "(1, 1)\n",
      "(3, 2)\n",
      "{1: 0, 2: 1, 3: 2, 4: 10000000000.0, 5: 10000000000.0, 6: 10000000000.0}\n",
      "[(10000000000.0, 3), (10000000000.0, 4), (10000000000.0, 5), (10000000000.0, 6)]\n",
      "current= 10000000000.0 index= 3\n",
      "(1, 2)\n",
      "(2, 2)\n",
      "(4, 3)\n",
      "(5, 2)\n",
      "(5, 3)\n",
      "{1: 0, 2: 1, 3: 2, 4: 3, 5: 2, 6: 10000000000.0}\n",
      "[(10000000000.0, 4), (10000000000.0, 5), (10000000000.0, 6)]\n",
      "current= 10000000000.0 index= 4\n",
      "(3, 3)\n",
      "{1: 0, 2: 1, 3: 2, 4: 3, 5: 2, 6: 10000000000.0}\n",
      "[(10000000000.0, 5), (10000000000.0, 6)]\n",
      "current= 10000000000.0 index= 5\n",
      "(3, 2)\n",
      "(3, 3)\n",
      "(6, 1)\n",
      "{1: 0, 2: 1, 3: 2, 4: 3, 5: 2, 6: 1}\n",
      "{1: 0, 2: 1, 3: 2, 4: 3, 5: 2, 6: 1}\n",
      "{1: 0, 2: 1, 3: 1, 4: 3, 5: 3, 6: 5}\n"
     ]
    },
    {
     "data": {
      "text/plain": [
       "({1: 0, 2: 1, 3: 2, 4: 3, 5: 2, 6: 1},\n",
       " {1: 0, 2: 1, 3: 1, 4: 3, 5: 3, 6: 5},\n",
       " {1: 0, 2: 1, 3: 2, 4: 5, 5: 4, 6: 5})"
      ]
     },
     "execution_count": 121,
     "metadata": {},
     "output_type": "execute_result"
    }
   ],
   "source": [
    "prim(connectmap)"
   ]
  },
  {
   "cell_type": "code",
   "execution_count": 122,
   "metadata": {},
   "outputs": [],
   "source": [
    "connectmap={1: [(2, 1), (3, 2)],\n",
    " 2: [(1, 1), (3, 2)],\n",
    " 3: [(1, 2), (2, 2), (4, 3), (5, 2), (5, 3)],\n",
    " 4: [(3, 3)],\n",
    " 5: [(3, 2), (3, 3), (6, 1)],\n",
    " 6: [(5, 1)]}"
   ]
  },
  {
   "cell_type": "code",
   "execution_count": 123,
   "metadata": {},
   "outputs": [
    {
     "data": {
      "text/plain": [
       "{1: [(2, 1), (3, 2)],\n",
       " 2: [(1, 1), (3, 2)],\n",
       " 3: [(1, 2), (2, 2), (4, 3), (5, 2), (5, 3)],\n",
       " 4: [(3, 3)],\n",
       " 5: [(3, 2), (3, 3), (6, 1)],\n",
       " 6: [(5, 1)]}"
      ]
     },
     "execution_count": 123,
     "metadata": {},
     "output_type": "execute_result"
    }
   ],
   "source": [
    "connectmap"
   ]
  },
  {
   "cell_type": "code",
   "execution_count": 124,
   "metadata": {},
   "outputs": [],
   "source": [
    "lst=[1,2,3,4,5]"
   ]
  },
  {
   "cell_type": "code",
   "execution_count": 125,
   "metadata": {},
   "outputs": [
    {
     "data": {
      "text/plain": [
       "[1, 2, 3, 4, 5]"
      ]
     },
     "execution_count": 125,
     "metadata": {},
     "output_type": "execute_result"
    }
   ],
   "source": [
    "lst"
   ]
  },
  {
   "cell_type": "code",
   "execution_count": 126,
   "metadata": {},
   "outputs": [
    {
     "data": {
      "text/plain": [
       "1"
      ]
     },
     "execution_count": 126,
     "metadata": {},
     "output_type": "execute_result"
    }
   ],
   "source": [
    "lst.pop(0)"
   ]
  },
  {
   "cell_type": "code",
   "execution_count": 127,
   "metadata": {},
   "outputs": [
    {
     "data": {
      "text/plain": [
       "[2, 3, 4, 5]"
      ]
     },
     "execution_count": 127,
     "metadata": {},
     "output_type": "execute_result"
    }
   ],
   "source": [
    "lst"
   ]
  },
  {
   "cell_type": "code",
   "execution_count": 134,
   "metadata": {},
   "outputs": [],
   "source": [
    "def prim(connectmap):\n",
    "    house=len(connectmap)\n",
    "    inf = 1e10\n",
    "    node=dict()\n",
    "    parent=dict()\n",
    "    nodeorder = []\n",
    "    mst=[]\n",
    "    # 1번 방을 시작.\n",
    "    for i in range(1, house+1):\n",
    "        node[i] = inf\n",
    "    node[1] = 0\n",
    "    parent[1]=0\n",
    "    for i in range(1, house+1):\n",
    "        nodeorder.append( (node[i], i))\n",
    "    while len(nodeorder)>1:\n",
    "        nodeorder.sort()\n",
    "        print(nodeorder)\n",
    "        cur = nodeorder.pop(0)\n",
    "        print('current=', cur[0], 'index=', cur[1])\n",
    "        for itm in connectmap[cur[1]]:\n",
    "            print(itm)\n",
    "            if node[itm[0]]>itm[1]:\n",
    "                node[itm[0]]=itm[1] # 노드값을 작게.\n",
    "                parent[itm[0]]=cur[1]\n",
    "        print(node)\n",
    "    print(node)\n",
    "    print(parent)\n",
    "    allcost=dict()\n",
    "    allcost[1]=0 #1번방은 0. (루트)\n",
    "    for n,p in parent.items():\n",
    "        c=node[n]\n",
    "#         print('node=', n, 'parent=', p)\n",
    "        if p!=0:\n",
    "            while parent[p]!=0:\n",
    "#                 print('add=', node[p])\n",
    "                c+=node[p]\n",
    "                p = parent[p]\n",
    "#         print(c)\n",
    "        allcost[n]=c\n",
    "#     print(allcost)\n",
    "    return node, parent, allcost        \n",
    "\n",
    "def solution(N, road, K):\n",
    "    answer = 0\n",
    "    path=set()\n",
    "    connectmap=dict()  # 마을1 = list of  연결마을, cost\n",
    "    for i in range(1, N+1) :\n",
    "        connectmap[i]=[]\n",
    "        \n",
    "    # 중복길 제거\n",
    "    road.sort()\n",
    "    road2=[]\n",
    "    old1, old2 = 0,0\n",
    "    for r in road:\n",
    "        if old1==r[0] and old2==r[1]:\n",
    "            continue\n",
    "        road2.append(r)\n",
    "        old1, old2 = r[0], r[1]\n",
    "        \n",
    "    for i,r in enumerate(road2):\n",
    "        connectmap[r[0]].append( (r[1], r[2]) )\n",
    "        connectmap[r[1]].append( (r[0], r[2]) )\n",
    "    \n",
    "    print(connectmap)\n",
    "    node, parent, allcost = prim(connectmap)\n",
    "    answer=0\n",
    "    \n",
    "    print(allcost)\n",
    "    for k2,v2 in allcost.items():\n",
    "        if v2 <= K:\n",
    "            answer+=1\n",
    "\n",
    "    return answer\n"
   ]
  },
  {
   "cell_type": "code",
   "execution_count": 135,
   "metadata": {},
   "outputs": [
    {
     "name": "stdout",
     "output_type": "stream",
     "text": [
      "{1: [(2, 1), (3, 2)], 2: [(1, 1), (3, 2)], 3: [(1, 2), (2, 2), (4, 3), (5, 2)], 4: [(3, 3)], 5: [(3, 2), (6, 1)], 6: [(5, 1)]}\n",
      "[(0, 1), (10000000000.0, 2), (10000000000.0, 3), (10000000000.0, 4), (10000000000.0, 5), (10000000000.0, 6)]\n",
      "current= 0 index= 1\n",
      "(2, 1)\n",
      "(3, 2)\n",
      "{1: 0, 2: 1, 3: 2, 4: 10000000000.0, 5: 10000000000.0, 6: 10000000000.0}\n",
      "[(10000000000.0, 2), (10000000000.0, 3), (10000000000.0, 4), (10000000000.0, 5), (10000000000.0, 6)]\n",
      "current= 10000000000.0 index= 2\n",
      "(1, 1)\n",
      "(3, 2)\n",
      "{1: 0, 2: 1, 3: 2, 4: 10000000000.0, 5: 10000000000.0, 6: 10000000000.0}\n",
      "[(10000000000.0, 3), (10000000000.0, 4), (10000000000.0, 5), (10000000000.0, 6)]\n",
      "current= 10000000000.0 index= 3\n",
      "(1, 2)\n",
      "(2, 2)\n",
      "(4, 3)\n",
      "(5, 2)\n",
      "{1: 0, 2: 1, 3: 2, 4: 3, 5: 2, 6: 10000000000.0}\n",
      "[(10000000000.0, 4), (10000000000.0, 5), (10000000000.0, 6)]\n",
      "current= 10000000000.0 index= 4\n",
      "(3, 3)\n",
      "{1: 0, 2: 1, 3: 2, 4: 3, 5: 2, 6: 10000000000.0}\n",
      "[(10000000000.0, 5), (10000000000.0, 6)]\n",
      "current= 10000000000.0 index= 5\n",
      "(3, 2)\n",
      "(6, 1)\n",
      "{1: 0, 2: 1, 3: 2, 4: 3, 5: 2, 6: 1}\n",
      "{1: 0, 2: 1, 3: 2, 4: 3, 5: 2, 6: 1}\n",
      "{1: 0, 2: 1, 3: 1, 4: 3, 5: 3, 6: 5}\n"
     ]
    },
    {
     "data": {
      "text/plain": [
       "4"
      ]
     },
     "execution_count": 135,
     "metadata": {},
     "output_type": "execute_result"
    }
   ],
   "source": [
    "N=6\n",
    "road=[[1,2,1],[1,3,2],[2,3,2],[3,4,3],[3,5,3],[3,5,2],[5,6,1]]\n",
    "K=4\n",
    "solution(N,road,K)"
   ]
  },
  {
   "cell_type": "code",
   "execution_count": 156,
   "metadata": {},
   "outputs": [],
   "source": [
    "import copy\n"
   ]
  },
  {
   "cell_type": "code",
   "execution_count": 203,
   "metadata": {},
   "outputs": [],
   "source": [
    "def dijkstra(connectmap):\n",
    "    house=len(connectmap)\n",
    "    inf = 1e10\n",
    "    cost = dict()\n",
    "    visit=dict()\n",
    "    # 1번 방을 시작.\n",
    "    for i in range(1, house+1):\n",
    "        cost[i] = inf\n",
    "        visit[i] = 0\n",
    "    # 코스트\n",
    "    cost[1] = 0\n",
    "    # 미방문 코스트\n",
    "    remaincost = copy.copy(cost)\n",
    "    \n",
    "    for i in range(house):\n",
    "        # 방문할 노드. 미방문중 최소 비용.\n",
    "        mincost = min(remaincost.items(), key=lambda x : x[1])\n",
    "        print('visit : mincost=', mincost)\n",
    "        for l in connectmap[ mincost[0] ]:\n",
    "            # 방문 제외?\n",
    "            c = mincost[1]+l[1]  # 누적 코스트.\n",
    "            if cost[l[0]]>c:\n",
    "                # update\n",
    "                print('update cost', l[0], c)\n",
    "                cost[l[0]]=c\n",
    "                remaincost[l[0]]=c\n",
    "                print('cost=', cost)\n",
    "                \n",
    "        del remaincost[mincost[0]] # 방문노드 삭제\n",
    "#         break\n",
    "    \n",
    "    \n",
    "    return cost    "
   ]
  },
  {
   "cell_type": "code",
   "execution_count": 204,
   "metadata": {},
   "outputs": [],
   "source": [
    "def solution(N, road, K):\n",
    "    answer = 0\n",
    "    path=set()\n",
    "    connectmap=dict()  # 마을1 = list of  연결마을, cost\n",
    "    for i in range(1, N+1) :\n",
    "        connectmap[i]=[]\n",
    "        \n",
    "    # 중복길 제거\n",
    "    road.sort()\n",
    "    road2=[]\n",
    "    old1, old2 = 0,0\n",
    "    for r in road:\n",
    "        if old1==r[0] and old2==r[1]:\n",
    "            continue\n",
    "        road2.append(r)\n",
    "        old1, old2 = r[0], r[1]\n",
    "        \n",
    "    for i,r in enumerate(road2):\n",
    "        connectmap[r[0]].append( (r[1], r[2]) )\n",
    "        connectmap[r[1]].append( (r[0], r[2]) )\n",
    "    \n",
    "    print(connectmap)\n",
    "    allcost = dijkstra(connectmap)\n",
    "    answer=0\n",
    "    \n",
    "    print(allcost)\n",
    "    for k2,v2 in allcost.items():\n",
    "        if v2 <= K:\n",
    "            answer+=1\n",
    "\n",
    "    return answer"
   ]
  },
  {
   "cell_type": "code",
   "execution_count": 205,
   "metadata": {},
   "outputs": [
    {
     "name": "stdout",
     "output_type": "stream",
     "text": [
      "{1: [(2, 1), (4, 2)], 2: [(1, 1), (3, 3), (5, 2)], 3: [(2, 3), (5, 1)], 4: [(1, 2), (5, 2)], 5: [(2, 2), (3, 1), (4, 2)]}\n",
      "visit : mincost= (1, 0)\n",
      "update cost 2 1\n",
      "cost= {1: 0, 2: 1, 3: 10000000000.0, 4: 10000000000.0, 5: 10000000000.0}\n",
      "update cost 4 2\n",
      "cost= {1: 0, 2: 1, 3: 10000000000.0, 4: 2, 5: 10000000000.0}\n",
      "visit : mincost= (2, 1)\n",
      "update cost 3 4\n",
      "cost= {1: 0, 2: 1, 3: 4, 4: 2, 5: 10000000000.0}\n",
      "update cost 5 3\n",
      "cost= {1: 0, 2: 1, 3: 4, 4: 2, 5: 3}\n",
      "visit : mincost= (4, 2)\n",
      "visit : mincost= (5, 3)\n",
      "visit : mincost= (3, 4)\n",
      "{1: 0, 2: 1, 3: 4, 4: 2, 5: 3}\n"
     ]
    },
    {
     "data": {
      "text/plain": [
       "4"
      ]
     },
     "execution_count": 205,
     "metadata": {},
     "output_type": "execute_result"
    }
   ],
   "source": [
    "N=5\n",
    "road=[[1,2,1],[2,3,3],[5,2,2],[1,4,2],[5,3,1],[5,4,2]]\n",
    "K=3\n",
    "solution(N,road,K)"
   ]
  },
  {
   "cell_type": "code",
   "execution_count": 206,
   "metadata": {},
   "outputs": [
    {
     "name": "stdout",
     "output_type": "stream",
     "text": [
      "{1: [(2, 1), (3, 2)], 2: [(1, 1), (3, 2)], 3: [(1, 2), (2, 2), (4, 3), (5, 2)], 4: [(3, 3)], 5: [(3, 2), (6, 1)], 6: [(5, 1)]}\n",
      "visit : mincost= (1, 0)\n",
      "update cost 2 1\n",
      "cost= {1: 0, 2: 1, 3: 10000000000.0, 4: 10000000000.0, 5: 10000000000.0, 6: 10000000000.0}\n",
      "update cost 3 2\n",
      "cost= {1: 0, 2: 1, 3: 2, 4: 10000000000.0, 5: 10000000000.0, 6: 10000000000.0}\n",
      "visit : mincost= (2, 1)\n",
      "visit : mincost= (3, 2)\n",
      "update cost 4 5\n",
      "cost= {1: 0, 2: 1, 3: 2, 4: 5, 5: 10000000000.0, 6: 10000000000.0}\n",
      "update cost 5 4\n",
      "cost= {1: 0, 2: 1, 3: 2, 4: 5, 5: 4, 6: 10000000000.0}\n",
      "visit : mincost= (5, 4)\n",
      "update cost 6 5\n",
      "cost= {1: 0, 2: 1, 3: 2, 4: 5, 5: 4, 6: 5}\n",
      "visit : mincost= (4, 5)\n",
      "visit : mincost= (6, 5)\n",
      "{1: 0, 2: 1, 3: 2, 4: 5, 5: 4, 6: 5}\n"
     ]
    },
    {
     "data": {
      "text/plain": [
       "4"
      ]
     },
     "execution_count": 206,
     "metadata": {},
     "output_type": "execute_result"
    }
   ],
   "source": [
    "N=6\n",
    "road=[[1,2,1],[1,3,2],[2,3,2],[3,4,3],[3,5,3],[3,5,2],[5,6,1]]\n",
    "K=4\n",
    "solution(N,road,K)"
   ]
  },
  {
   "cell_type": "code",
   "execution_count": 146,
   "metadata": {},
   "outputs": [
    {
     "data": {
      "text/plain": [
       "[[1, 2, 1], [1, 3, 2], [2, 3, 2], [3, 4, 3], [3, 5, 2], [3, 5, 3], [5, 6, 1]]"
      ]
     },
     "execution_count": 146,
     "metadata": {},
     "output_type": "execute_result"
    }
   ],
   "source": [
    "road"
   ]
  },
  {
   "cell_type": "code",
   "execution_count": 147,
   "metadata": {},
   "outputs": [
    {
     "data": {
      "text/plain": [
       "{1: [(2, 1), (3, 2)],\n",
       " 2: [(1, 1), (3, 2)],\n",
       " 3: [(1, 2), (2, 2), (4, 3), (5, 2), (5, 3)],\n",
       " 4: [(3, 3)],\n",
       " 5: [(3, 2), (3, 3), (6, 1)],\n",
       " 6: [(5, 1)]}"
      ]
     },
     "execution_count": 147,
     "metadata": {},
     "output_type": "execute_result"
    }
   ],
   "source": [
    "connectmap"
   ]
  },
  {
   "cell_type": "code",
   "execution_count": 148,
   "metadata": {},
   "outputs": [],
   "source": [
    "xx={1:4, 2:8, 3:1, 4:9}"
   ]
  },
  {
   "cell_type": "code",
   "execution_count": 149,
   "metadata": {},
   "outputs": [
    {
     "data": {
      "text/plain": [
       "{1: 4, 2: 8, 3: 1, 4: 9}"
      ]
     },
     "execution_count": 149,
     "metadata": {},
     "output_type": "execute_result"
    }
   ],
   "source": [
    "xx"
   ]
  },
  {
   "cell_type": "code",
   "execution_count": 150,
   "metadata": {},
   "outputs": [
    {
     "ename": "TypeError",
     "evalue": "'int' object is not subscriptable",
     "output_type": "error",
     "traceback": [
      "\u001b[1;31m---------------------------------------------------------------------------\u001b[0m",
      "\u001b[1;31mTypeError\u001b[0m                                 Traceback (most recent call last)",
      "\u001b[1;32m<ipython-input-150-4b8526ccabb0>\u001b[0m in \u001b[0;36m<module>\u001b[1;34m\u001b[0m\n\u001b[1;32m----> 1\u001b[1;33m \u001b[0mmin\u001b[0m\u001b[1;33m(\u001b[0m\u001b[0mxx\u001b[0m\u001b[1;33m,\u001b[0m \u001b[0mkey\u001b[0m\u001b[1;33m=\u001b[0m\u001b[1;32mlambda\u001b[0m \u001b[0mx\u001b[0m\u001b[1;33m:\u001b[0m \u001b[0mx\u001b[0m\u001b[1;33m[\u001b[0m\u001b[1;36m1\u001b[0m\u001b[1;33m]\u001b[0m\u001b[1;33m)\u001b[0m\u001b[1;33m\u001b[0m\u001b[1;33m\u001b[0m\u001b[0m\n\u001b[0m",
      "\u001b[1;32m<ipython-input-150-4b8526ccabb0>\u001b[0m in \u001b[0;36m<lambda>\u001b[1;34m(x)\u001b[0m\n\u001b[1;32m----> 1\u001b[1;33m \u001b[0mmin\u001b[0m\u001b[1;33m(\u001b[0m\u001b[0mxx\u001b[0m\u001b[1;33m,\u001b[0m \u001b[0mkey\u001b[0m\u001b[1;33m=\u001b[0m\u001b[1;32mlambda\u001b[0m \u001b[0mx\u001b[0m\u001b[1;33m:\u001b[0m \u001b[0mx\u001b[0m\u001b[1;33m[\u001b[0m\u001b[1;36m1\u001b[0m\u001b[1;33m]\u001b[0m\u001b[1;33m)\u001b[0m\u001b[1;33m\u001b[0m\u001b[1;33m\u001b[0m\u001b[0m\n\u001b[0m",
      "\u001b[1;31mTypeError\u001b[0m: 'int' object is not subscriptable"
     ]
    }
   ],
   "source": [
    "min(xx, key=lambda x: x[1])"
   ]
  },
  {
   "cell_type": "code",
   "execution_count": 180,
   "metadata": {},
   "outputs": [
    {
     "data": {
      "text/plain": [
       "[(3, 1), (1, 4), (2, 8), (4, 9)]"
      ]
     },
     "execution_count": 180,
     "metadata": {},
     "output_type": "execute_result"
    }
   ],
   "source": [
    "sorted(xx.items(), key=lambda x:x[1])"
   ]
  },
  {
   "cell_type": "code",
   "execution_count": 181,
   "metadata": {},
   "outputs": [
    {
     "data": {
      "text/plain": [
       "(3, 1)"
      ]
     },
     "execution_count": 181,
     "metadata": {},
     "output_type": "execute_result"
    }
   ],
   "source": [
    "min(xx.items(), key=lambda x:x[1])"
   ]
  },
  {
   "cell_type": "code",
   "execution_count": 182,
   "metadata": {},
   "outputs": [],
   "source": [
    "x2=copy.copy(xx)"
   ]
  },
  {
   "cell_type": "code",
   "execution_count": 167,
   "metadata": {},
   "outputs": [],
   "source": [
    "x2=xx"
   ]
  },
  {
   "cell_type": "code",
   "execution_count": 190,
   "metadata": {},
   "outputs": [
    {
     "data": {
      "text/plain": [
       "{1: 4, 2: 88, 3: 1, 4: 9, 99: 1}"
      ]
     },
     "execution_count": 190,
     "metadata": {},
     "output_type": "execute_result"
    }
   ],
   "source": [
    "x2"
   ]
  },
  {
   "cell_type": "code",
   "execution_count": 191,
   "metadata": {},
   "outputs": [
    {
     "data": {
      "text/plain": [
       "{1: 4, 2: 8, 3: 1, 4: 9}"
      ]
     },
     "execution_count": 191,
     "metadata": {},
     "output_type": "execute_result"
    }
   ],
   "source": [
    "xx"
   ]
  },
  {
   "cell_type": "code",
   "execution_count": 192,
   "metadata": {},
   "outputs": [
    {
     "data": {
      "text/plain": [
       "(1449251601648, 1449251507224)"
      ]
     },
     "execution_count": 192,
     "metadata": {},
     "output_type": "execute_result"
    }
   ],
   "source": [
    "id(x2), id(xx)"
   ]
  },
  {
   "cell_type": "code",
   "execution_count": 186,
   "metadata": {},
   "outputs": [],
   "source": [
    "x2[99]=1\n"
   ]
  },
  {
   "cell_type": "code",
   "execution_count": 175,
   "metadata": {},
   "outputs": [],
   "source": [
    "del x2[99]"
   ]
  },
  {
   "cell_type": "code",
   "execution_count": 189,
   "metadata": {},
   "outputs": [],
   "source": [
    "x2[2]=88"
   ]
  },
  {
   "cell_type": "code",
   "execution_count": null,
   "metadata": {},
   "outputs": [],
   "source": []
  }
 ],
 "metadata": {
  "kernelspec": {
   "display_name": "py37",
   "language": "python",
   "name": "py37"
  },
  "language_info": {
   "codemirror_mode": {
    "name": "ipython",
    "version": 3
   },
   "file_extension": ".py",
   "mimetype": "text/x-python",
   "name": "python",
   "nbconvert_exporter": "python",
   "pygments_lexer": "ipython3",
   "version": "3.7.3"
  }
 },
 "nbformat": 4,
 "nbformat_minor": 2
}
